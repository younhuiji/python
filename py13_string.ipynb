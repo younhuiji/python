{
  "nbformat": 4,
  "nbformat_minor": 0,
  "metadata": {
    "colab": {
      "provenance": [],
      "authorship_tag": "ABX9TyPs8dXWRva9YUKVaJekzDke",
      "include_colab_link": true
    },
    "kernelspec": {
      "name": "python3",
      "display_name": "Python 3"
    },
    "language_info": {
      "name": "python"
    }
  },
  "cells": [
    {
      "cell_type": "markdown",
      "metadata": {
        "id": "view-in-github",
        "colab_type": "text"
      },
      "source": [
        "<a href=\"https://colab.research.google.com/github/younhuiji/python/blob/main/py13_string.ipynb\" target=\"_parent\"><img src=\"https://colab.research.google.com/assets/colab-badge.svg\" alt=\"Open In Colab\"/></a>"
      ]
    },
    {
      "cell_type": "markdown",
      "source": [
        "# `str` 클래스의 메서드\n",
        "\n",
        "* `str` 클래스의 메서드들은 원본 문자열을 변경하지 않음!\n",
        "* 원본 문자열을 변경한 새로운 문자열을 리턴함."
      ],
      "metadata": {
        "id": "YxkONQXfKEJj"
      }
    },
    {
      "cell_type": "code",
      "execution_count": null,
      "metadata": {
        "id": "8YKCIPuYJ9Z_"
      },
      "outputs": [],
      "source": [
        "s = 'heLLo, pyTHON! 안녕하세요. 12345'"
      ]
    },
    {
      "cell_type": "code",
      "source": [
        "s.lower()"
      ],
      "metadata": {
        "colab": {
          "base_uri": "https://localhost:8080/",
          "height": 35
        },
        "id": "rn_o0sPEK6WH",
        "outputId": "0654f262-ab29-46ac-f43a-0942f46fd563"
      },
      "execution_count": null,
      "outputs": [
        {
          "output_type": "execute_result",
          "data": {
            "text/plain": [
              "'hello, python! 안녕하세요. 12345'"
            ],
            "application/vnd.google.colaboratory.intrinsic+json": {
              "type": "string"
            }
          },
          "metadata": {},
          "execution_count": 16
        }
      ]
    },
    {
      "cell_type": "code",
      "source": [
        "s.upper()"
      ],
      "metadata": {
        "colab": {
          "base_uri": "https://localhost:8080/",
          "height": 35
        },
        "id": "A_y-qOOzLPym",
        "outputId": "7af7da2d-37f5-4906-ade3-2aae56b342ef"
      },
      "execution_count": null,
      "outputs": [
        {
          "output_type": "execute_result",
          "data": {
            "text/plain": [
              "'HELLO, PYTHON! 안녕하세요. 12345'"
            ],
            "application/vnd.google.colaboratory.intrinsic+json": {
              "type": "string"
            }
          },
          "metadata": {},
          "execution_count": 17
        }
      ]
    },
    {
      "cell_type": "code",
      "source": [
        "s.capitalize() # 문자열의 첫글자만 대문자로, 나머지는 소문자로 변경."
      ],
      "metadata": {
        "colab": {
          "base_uri": "https://localhost:8080/",
          "height": 35
        },
        "id": "97ySxZQeLmsW",
        "outputId": "092709bb-1e7d-4410-abf9-26439bac0a6c"
      },
      "execution_count": null,
      "outputs": [
        {
          "output_type": "execute_result",
          "data": {
            "text/plain": [
              "'Hello, python! 안녕하세요. 12345'"
            ],
            "application/vnd.google.colaboratory.intrinsic+json": {
              "type": "string"
            }
          },
          "metadata": {},
          "execution_count": 18
        }
      ]
    },
    {
      "cell_type": "code",
      "source": [
        "s.count('L') # 뮨자열에서 특정 단어가 등장하는 횟수."
      ],
      "metadata": {
        "colab": {
          "base_uri": "https://localhost:8080/"
        },
        "id": "YMxMRLP5LrYW",
        "outputId": "85e3fdc3-6970-4699-e144-60018f8771cb"
      },
      "execution_count": null,
      "outputs": [
        {
          "output_type": "execute_result",
          "data": {
            "text/plain": [
              "2"
            ]
          },
          "metadata": {},
          "execution_count": 24
        }
      ]
    },
    {
      "cell_type": "code",
      "source": [
        "url = 'http://www.google.com'"
      ],
      "metadata": {
        "id": "zcY5r39zMy6h"
      },
      "execution_count": null,
      "outputs": []
    },
    {
      "cell_type": "code",
      "source": [
        "url.startswith('http')"
      ],
      "metadata": {
        "colab": {
          "base_uri": "https://localhost:8080/"
        },
        "id": "lPa7rw5xM-Pn",
        "outputId": "21720577-3d10-484a-8437-5c67ffbc8054"
      },
      "execution_count": null,
      "outputs": [
        {
          "output_type": "execute_result",
          "data": {
            "text/plain": [
              "True"
            ]
          },
          "metadata": {},
          "execution_count": 26
        }
      ]
    },
    {
      "cell_type": "code",
      "source": [
        "url.startswith('ftp')"
      ],
      "metadata": {
        "colab": {
          "base_uri": "https://localhost:8080/"
        },
        "id": "XO3cmDNVNZZ-",
        "outputId": "ab2076b1-4bba-47a7-ef33-69f26114230e"
      },
      "execution_count": null,
      "outputs": [
        {
          "output_type": "execute_result",
          "data": {
            "text/plain": [
              "False"
            ]
          },
          "metadata": {},
          "execution_count": 27
        }
      ]
    },
    {
      "cell_type": "code",
      "source": [
        "phone = '010-000-0000'"
      ],
      "metadata": {
        "id": "E1SZxQ7PNmuI"
      },
      "execution_count": null,
      "outputs": []
    },
    {
      "cell_type": "code",
      "source": [
        "phone.split(sep='-')"
      ],
      "metadata": {
        "colab": {
          "base_uri": "https://localhost:8080/"
        },
        "id": "LUX4BtpnN2S9",
        "outputId": "4757ddd3-f989-4aa7-a80f-9f7679a1b1f0"
      },
      "execution_count": null,
      "outputs": [
        {
          "output_type": "execute_result",
          "data": {
            "text/plain": [
              "['010', '000', '0000']"
            ]
          },
          "metadata": {},
          "execution_count": 29
        }
      ]
    },
    {
      "cell_type": "code",
      "source": [
        "sentence = 'hello python \\t 안녕하세요 \\n Java'\n",
        "print(sentence)"
      ],
      "metadata": {
        "colab": {
          "base_uri": "https://localhost:8080/"
        },
        "id": "pgLJYfixOYMV",
        "outputId": "27bef0aa-b5e7-4a6e-c380-02838c24967c"
      },
      "execution_count": null,
      "outputs": [
        {
          "output_type": "stream",
          "name": "stdout",
          "text": [
            "hello python \t 안녕하세요 \n",
            " Java\n"
          ]
        }
      ]
    },
    {
      "cell_type": "code",
      "source": [
        "sentence.split() \n",
        "# 파라미터 sep = None인 경우, 공백 (whitespace: 스페이스, 탭, 줄바꿈)을 기준으로 자름."
      ],
      "metadata": {
        "colab": {
          "base_uri": "https://localhost:8080/"
        },
        "id": "Ko-JmSo3O7dJ",
        "outputId": "53682c5f-9fcf-445e-aba3-0337e3440acb"
      },
      "execution_count": null,
      "outputs": [
        {
          "output_type": "execute_result",
          "data": {
            "text/plain": [
              "['hello', 'python', '안녕하세요', 'Java']"
            ]
          },
          "metadata": {},
          "execution_count": 38
        }
      ]
    },
    {
      "cell_type": "code",
      "source": [
        "# CSV(comma-seoerated values) 파일: 데이터들이 comma(,)로 구분된 형식의 파일.\n",
        "csv = '100,scott,200,scott@oracle.com,1234.56,IT,2022-12-29'"
      ],
      "metadata": {
        "id": "PmP8sthoPxoO"
      },
      "execution_count": null,
      "outputs": []
    },
    {
      "cell_type": "code",
      "source": [
        "csv.split(',') # 문자열 -> 문자열 리스트"
      ],
      "metadata": {
        "colab": {
          "base_uri": "https://localhost:8080/"
        },
        "id": "h1NUagEyQKQB",
        "outputId": "938f3444-97be-4bd8-b144-05fff07cea57"
      },
      "execution_count": null,
      "outputs": [
        {
          "output_type": "execute_result",
          "data": {
            "text/plain": [
              "['100', 'scott', '200', 'scott@oracle.com', '1234.56', 'IT', '2022-12-29']"
            ]
          },
          "metadata": {},
          "execution_count": 45
        }
      ]
    },
    {
      "cell_type": "code",
      "source": [
        "'/'.join(['2022', '12','29']) # 문자열 리스트 -> 문자열"
      ],
      "metadata": {
        "colab": {
          "base_uri": "https://localhost:8080/",
          "height": 35
        },
        "id": "ft4ftCUUQzrs",
        "outputId": "3c10a2b9-4b66-403e-b838-90e3dafb4405"
      },
      "execution_count": null,
      "outputs": [
        {
          "output_type": "execute_result",
          "data": {
            "text/plain": [
              "'2022/12/29'"
            ],
            "application/vnd.google.colaboratory.intrinsic+json": {
              "type": "string"
            }
          },
          "metadata": {},
          "execution_count": 47
        }
      ]
    },
    {
      "cell_type": "code",
      "source": [
        "s = '           Hello Python!           안녕하세요...           '\n",
        "print(s)\n",
        "print(s.lstrip())\n",
        "print(s.rstrip())\n",
        "print(s.strip()) # 문자열의 왼쪽/오른쪽 끝에 있는 공백들을 지움."
      ],
      "metadata": {
        "colab": {
          "base_uri": "https://localhost:8080/"
        },
        "id": "DaNRgSQnRY0B",
        "outputId": "d022d693-d744-4331-b46e-2f90a2d7ed79"
      },
      "execution_count": null,
      "outputs": [
        {
          "output_type": "stream",
          "name": "stdout",
          "text": [
            "           Hello Python!           안녕하세요...           \n",
            "Hello Python!           안녕하세요...           \n",
            "           Hello Python!           안녕하세요...\n",
            "Hello Python!           안녕하세요...\n"
          ]
        }
      ]
    },
    {
      "cell_type": "code",
      "source": [
        "s = '100::scott::test@test.com::IT::2022-12-29'\n",
        "s.replace('::', ' ')"
      ],
      "metadata": {
        "colab": {
          "base_uri": "https://localhost:8080/",
          "height": 35
        },
        "id": "wuNRyadDSlEd",
        "outputId": "06e9b14e-86e9-411b-abfe-f9b1f5514cf3"
      },
      "execution_count": null,
      "outputs": [
        {
          "output_type": "execute_result",
          "data": {
            "text/plain": [
              "'100 scott test@test.com IT 2022-12-29'"
            ],
            "application/vnd.google.colaboratory.intrinsic+json": {
              "type": "string"
            }
          },
          "metadata": {},
          "execution_count": 54
        }
      ]
    },
    {
      "cell_type": "code",
      "source": [],
      "metadata": {
        "id": "A2wkeJp-T9P1"
      },
      "execution_count": null,
      "outputs": []
    }
  ]
}