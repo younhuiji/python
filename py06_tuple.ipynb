{
  "nbformat": 4,
  "nbformat_minor": 0,
  "metadata": {
    "colab": {
      "provenance": [],
      "authorship_tag": "ABX9TyPTrj2lfhgwND7vZtgmPF6O",
      "include_colab_link": true
    },
    "kernelspec": {
      "name": "python3",
      "display_name": "Python 3"
    },
    "language_info": {
      "name": "python"
    }
  },
  "cells": [
    {
      "cell_type": "markdown",
      "metadata": {
        "id": "view-in-github",
        "colab_type": "text"
      },
      "source": [
        "<a href=\"https://colab.research.google.com/github/younhuiji/python/blob/main/py06_tuple.ipynb\" target=\"_parent\"><img src=\"https://colab.research.google.com/assets/colab-badge.svg\" alt=\"Open In Colab\"/></a>"
      ]
    },
    {
      "cell_type": "markdown",
      "source": [
        "# tuple (튜플)\n",
        "\n",
        "* 저장된 원소들을 변경할 수 없는 리스트\n",
        "* indexing, slicing\n",
        "* `append()`, `remove()`와 같은 원소를 변경하는 메서드(기능)는 제공되지 않음."
      ],
      "metadata": {
        "id": "vEORwYpmII49"
      }
    },
    {
      "cell_type": "code",
      "execution_count": null,
      "metadata": {
        "colab": {
          "base_uri": "https://localhost:8080/"
        },
        "id": "mTWRshS1IBJE",
        "outputId": "0adedab2-4221-488d-e015-e9896a4a15dc"
      },
      "outputs": [
        {
          "output_type": "stream",
          "name": "stdout",
          "text": [
            "(1, 2, 3, 10, 20, 30)\n"
          ]
        },
        {
          "output_type": "execute_result",
          "data": {
            "text/plain": [
              "tuple"
            ]
          },
          "metadata": {},
          "execution_count": 3
        }
      ],
      "source": [
        "numbers = (1, 2, 3, 10, 20, 30)\n",
        "print(numbers)\n",
        "type(numbers)"
      ]
    },
    {
      "cell_type": "markdown",
      "source": [
        "# indexing\n",
        "\n",
        "인덱스를 사용해서 원소 1개를 참조하는 방법\n",
        "\n"
      ],
      "metadata": {
        "id": "FvUnvv-uJZEs"
      }
    },
    {
      "cell_type": "code",
      "source": [
        "numbers[0] # 튜플의 첫번째 원소"
      ],
      "metadata": {
        "colab": {
          "base_uri": "https://localhost:8080/"
        },
        "id": "DoCukE02JhO-",
        "outputId": "6a2a2737-2886-4443-970a-49181c1e6068"
      },
      "execution_count": null,
      "outputs": [
        {
          "output_type": "execute_result",
          "data": {
            "text/plain": [
              "1"
            ]
          },
          "metadata": {},
          "execution_count": 4
        }
      ]
    },
    {
      "cell_type": "code",
      "source": [
        "numbers[-1] # 튜플의 마지막 원소"
      ],
      "metadata": {
        "colab": {
          "base_uri": "https://localhost:8080/"
        },
        "id": "fEk_N-3qJlRH",
        "outputId": "b61da647-e13c-450a-984d-ad595251f154"
      },
      "execution_count": null,
      "outputs": [
        {
          "output_type": "execute_result",
          "data": {
            "text/plain": [
              "30"
            ]
          },
          "metadata": {},
          "execution_count": 5
        }
      ]
    },
    {
      "cell_type": "code",
      "source": [
        "# 튜플에서 첫 2개 원소를 잘라내기\n",
        "numbers[:2]"
      ],
      "metadata": {
        "colab": {
          "base_uri": "https://localhost:8080/"
        },
        "id": "Rn-Ukpp-Kshk",
        "outputId": "2f364851-e268-4bc7-8762-a03e0c4a886b"
      },
      "execution_count": null,
      "outputs": [
        {
          "output_type": "execute_result",
          "data": {
            "text/plain": [
              "(1, 2)"
            ]
          },
          "metadata": {},
          "execution_count": 7
        }
      ]
    },
    {
      "cell_type": "code",
      "source": [
        "# 튜플에서 마지막 2개 원소를 잘라내기\n",
        "numbers[-2:]"
      ],
      "metadata": {
        "colab": {
          "base_uri": "https://localhost:8080/"
        },
        "id": "ZXMxXbmaKwBV",
        "outputId": "3a21ca63-bc72-4c9f-ab8d-95285a6c19a4"
      },
      "execution_count": null,
      "outputs": [
        {
          "output_type": "execute_result",
          "data": {
            "text/plain": [
              "(20, 30)"
            ]
          },
          "metadata": {},
          "execution_count": 8
        }
      ]
    },
    {
      "cell_type": "markdown",
      "source": [
        "# decomposition(분해)"
      ],
      "metadata": {
        "id": "uRnZG9IjK19M"
      }
    },
    {
      "cell_type": "code",
      "source": [
        "x, y, z = (1, 2, 3)\n",
        "print(x)\n",
        "print(y)\n",
        "print(z) "
      ],
      "metadata": {
        "colab": {
          "base_uri": "https://localhost:8080/"
        },
        "id": "pKO__Z3_K9zL",
        "outputId": "fd4bee6d-3355-4eb1-9de4-ca661958b083"
      },
      "execution_count": null,
      "outputs": [
        {
          "output_type": "stream",
          "name": "stdout",
          "text": [
            "1\n",
            "2\n",
            "3\n"
          ]
        }
      ]
    },
    {
      "cell_type": "markdown",
      "source": [
        "# tuple과 for 반복문"
      ],
      "metadata": {
        "id": "0U5hznjwQPHy"
      }
    },
    {
      "cell_type": "code",
      "source": [
        "numbers= (1, 3, 5, 7, 9)\n",
        "for x in numbers:\n",
        "    print(x, end=', ')"
      ],
      "metadata": {
        "colab": {
          "base_uri": "https://localhost:8080/"
        },
        "id": "dDaklcqYLHMQ",
        "outputId": "ad730ae5-6b35-4cdd-de74-35ac038ff921"
      },
      "execution_count": null,
      "outputs": [
        {
          "output_type": "stream",
          "name": "stdout",
          "text": [
            "1, 3, 5, 7, 9, "
          ]
        }
      ]
    },
    {
      "cell_type": "markdown",
      "source": [
        "# 2차원 리스트, 튜플"
      ],
      "metadata": {
        "id": "niAd_KY3RF76"
      }
    },
    {
      "cell_type": "code",
      "source": [
        "numbers = [\n",
        "    [1,2,3],\n",
        "    [4,5,6]\n",
        "]\n",
        "numbers"
      ],
      "metadata": {
        "colab": {
          "base_uri": "https://localhost:8080/"
        },
        "id": "hBkaoHTrQySK",
        "outputId": "8a84d417-6557-4b9d-e6c4-1984846caa93"
      },
      "execution_count": null,
      "outputs": [
        {
          "output_type": "execute_result",
          "data": {
            "text/plain": [
              "[[1, 2, 3], [4, 5, 6]]"
            ]
          },
          "metadata": {},
          "execution_count": 13
        }
      ]
    },
    {
      "cell_type": "code",
      "source": [
        "numbers[0][0]"
      ],
      "metadata": {
        "colab": {
          "base_uri": "https://localhost:8080/"
        },
        "id": "J8OxEgzkSSLv",
        "outputId": "fe807faa-bd9b-4252-f77d-858f88fdb487"
      },
      "execution_count": null,
      "outputs": [
        {
          "output_type": "execute_result",
          "data": {
            "text/plain": [
              "1"
            ]
          },
          "metadata": {},
          "execution_count": 16
        }
      ]
    },
    {
      "cell_type": "code",
      "source": [
        "for row in numbers:\n",
        "    for x in row:\n",
        "        print(x, end=' ')\n",
        "    print()"
      ],
      "metadata": {
        "colab": {
          "base_uri": "https://localhost:8080/"
        },
        "id": "XtGPFKTES_XA",
        "outputId": "c14d287d-0b01-47e5-ad5e-8f2715d4ad17"
      },
      "execution_count": null,
      "outputs": [
        {
          "output_type": "stream",
          "name": "stdout",
          "text": [
            "1 2 3 \n",
            "4 5 6 \n"
          ]
        }
      ]
    },
    {
      "cell_type": "markdown",
      "source": [
        "## Exercise\n",
        "\n",
        "1. 2x2 모양의 난수를 저장하는 2차원 리스트 array1을 만듦.\n",
        "1. 2x2 모양의 난수를 저장하는 2차원 리스트 array2을 만듦.\n",
        "1. array1과 array2와 같은 인덱스의 원소들끼리 덧셈 결과를 갖는 2차원 리스트를 만듦."
      ],
      "metadata": {
        "id": "PWlHVmEHTfry"
      }
    },
    {
      "cell_type": "code",
      "source": [
        "import random\n",
        "\n",
        "array1 = [[random.randrange(1, 10) for x in range(2)] for _ in range(2)]\n",
        "print(array1)\n",
        "\n",
        "array2 = [[random.randrange(1, 10) for x in range(2)] for _ in range(2)]\n",
        "print(array2)\n",
        "\n",
        "adds = [[array1[i][_] + array2[i][_] for i in range(2)] for _ in range(2)]\n",
        "print(adds)"
      ],
      "metadata": {
        "colab": {
          "base_uri": "https://localhost:8080/"
        },
        "id": "n6wRFR6GTwNc",
        "outputId": "b76660af-5dad-4908-8477-c6e962da02a2"
      },
      "execution_count": null,
      "outputs": [
        {
          "output_type": "stream",
          "name": "stdout",
          "text": [
            "[[2, 8], [7, 8]]\n",
            "[[6, 3], [4, 9]]\n",
            "[[8, 11], [11, 17]]\n"
          ]
        }
      ]
    }
  ]
}