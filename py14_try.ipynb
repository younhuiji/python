{
  "nbformat": 4,
  "nbformat_minor": 0,
  "metadata": {
    "colab": {
      "provenance": [],
      "authorship_tag": "ABX9TyNKP4CrFCq4xDJFWESkrGGi",
      "include_colab_link": true
    },
    "kernelspec": {
      "name": "python3",
      "display_name": "Python 3"
    },
    "language_info": {
      "name": "python"
    }
  },
  "cells": [
    {
      "cell_type": "markdown",
      "metadata": {
        "id": "view-in-github",
        "colab_type": "text"
      },
      "source": [
        "<a href=\"https://colab.research.google.com/github/younhuiji/python/blob/main/py14_try.ipynb\" target=\"_parent\"><img src=\"https://colab.research.google.com/assets/colab-badge.svg\" alt=\"Open In Colab\"/></a>"
      ]
    },
    {
      "cell_type": "markdown",
      "source": [
        "# 오류(Error) 처리 구문\n",
        "\n",
        "* 오류가 발생한 위치와 원인을 파악해서 오류가 발생하지 않도록 코드를 수정.\n",
        "* 오류가 발생하더라도 프로그램이 비정상적으로 종료되지 않고 계속 실행될 수 있도록 처리 -> try 구문\n",
        "    * Java는 반드시 try-catch 구문을 사용해야만 하는 Exception 종류들이 있음.\n",
        "        * NullPointerExeption: try-catch가 불필요.\n",
        "        * SQLException: try-catch가 반드시 필요.\n",
        "    * Python은 모든 오류 처리에서 try-except는 필수는 아님. "
      ],
      "metadata": {
        "id": "DzeXdNDTZ7Y4"
      }
    },
    {
      "cell_type": "markdown",
      "source": [
        "```\n",
        "try:\n",
        "    (1)  실행할 코드 블록\n",
        "except [에러 클래스 이름 [as 별명]]:\n",
        "    (2) 에러가 발생했을 때 실행할 코드 블록\n",
        "[else: \n",
        "    (3) 에러가 발생하지 않았을 때 실행할 코드 블록]\n",
        "[finally:\n",
        "    (4) try 블록을 실행 중에 에러 발생 여부와 상관 없이 항상 실행할 코드 블록]\n",
        "```\n",
        "\n",
        "* 에러가 발생하지 않는 경우: (1) -> (3) -> (4)\n",
        "* 에러가 발생하는 경우 : (1) -> (2) -> (4)"
      ],
      "metadata": {
        "id": "5ZwZDQYZdCNo"
      }
    },
    {
      "cell_type": "code",
      "execution_count": null,
      "metadata": {
        "colab": {
          "base_uri": "https://localhost:8080/"
        },
        "id": "O_Yn-eiMZ26U",
        "outputId": "353f6435-2732-4b17-ebb6-599c23c006a6"
      },
      "outputs": [
        {
          "output_type": "stream",
          "name": "stdout",
          "text": [
            "정수 입력>>> 123\n",
            "x = 123\n"
          ]
        }
      ],
      "source": [
        "try:\n",
        "    x = int(input('정수 입력>>> '))\n",
        "    print(f'x = {x}')\n",
        "except: # 모든 종류의 에러를 처리\n",
        "    print('정수로 입력해야 함')"
      ]
    },
    {
      "cell_type": "code",
      "source": [
        "try:\n",
        "    x = int(input('정수로 입력>>>> '))\n",
        "except ValueError as e:\n",
        "    print(e)\n",
        "else:\n",
        "    print(f'x={x}')\n",
        "finally:\n",
        "    print('===end===')"
      ],
      "metadata": {
        "colab": {
          "base_uri": "https://localhost:8080/"
        },
        "id": "SiGNJxgsffeo",
        "outputId": "212ce7c0-04c6-4321-91e8-691e87453a47"
      },
      "execution_count": null,
      "outputs": [
        {
          "output_type": "stream",
          "name": "stdout",
          "text": [
            "정수로 입력>>>> 21\n",
            "x=21\n",
            "===end===\n"
          ]
        }
      ]
    },
    {
      "cell_type": "markdown",
      "source": [
        "## Ex 1.\n",
        "\n",
        "정수 1개를 입력받고 입력받은 정수를 출력.\n",
        "\n",
        "정수로 변환할 수 없는 문자열이 입력된 경우에는 적절한 오류 메시지를 출력한 후\n",
        "다시 입력 받아야 함.\n",
        "\n"
      ],
      "metadata": {
        "id": "IhAHuKCphRjO"
      }
    },
    {
      "cell_type": "code",
      "source": [
        "while True: # 무한 반복문\n",
        "    try:\n",
        "        x = int(input('정수로 입력>>> '))\n",
        "        break # while 문 종료\n",
        "    except:\n",
        "        print('정수를 입력하세요.')"
      ],
      "metadata": {
        "colab": {
          "base_uri": "https://localhost:8080/"
        },
        "id": "ABC3TUe4hos-",
        "outputId": "a1f98a9b-e976-4f67-beaa-a0719fe0d08c"
      },
      "execution_count": null,
      "outputs": [
        {
          "name": "stdout",
          "output_type": "stream",
          "text": [
            "정수로 입력>>> r\n",
            "정수를 입력하세요.\n",
            "정수로 입력>>> 123\n"
          ]
        }
      ]
    },
    {
      "cell_type": "markdown",
      "source": [
        "# Ex 2. 단어 개수 세기\n",
        "\n",
        "리스트 words가 가지고 있는 단어들을 key로 하고, 그 단어가 리스트에 나오는 횟수를 값으로 하는 dict를 생성."
      ],
      "metadata": {
        "id": "VFai3GAAh193"
      }
    },
    {
      "cell_type": "code",
      "source": [
        "words = ['java', 'python', 'java', 'javascript', 'python', 'kotlin', 'html', 'python']\n",
        "words_counts = {} # {단어 : 개수} 저장할 빈 dict\n",
        "\n",
        "for w in words: # 리스트에서 단어를 차례로 꺼내면서 반복\n",
        "    if w in words_counts:# 리스트에서 꺼낸 단어 w가 dict의 키로 존재하면\n",
        "        words_counts[w] += 1 # 단어가 나오는 횟수를 1 증가\n",
        "    else: # dict에 키로 존재하지 않으면 -> 리스트에서 단어가 처음 나온 경우.\n",
        "        words_counts[w] = 1 # 단어가 나오는 횟수는 1\n",
        "    print(words_counts)\n"
      ],
      "metadata": {
        "colab": {
          "base_uri": "https://localhost:8080/"
        },
        "id": "AciJfKWEiAqz",
        "outputId": "3c2d005f-fba0-4f5e-e44a-f1012996d26b"
      },
      "execution_count": null,
      "outputs": [
        {
          "output_type": "stream",
          "name": "stdout",
          "text": [
            "{'java': 1}\n",
            "{'java': 1, 'python': 1}\n",
            "{'java': 2, 'python': 1}\n",
            "{'java': 2, 'python': 1, 'javascript': 1}\n",
            "{'java': 2, 'python': 2, 'javascript': 1}\n",
            "{'java': 2, 'python': 2, 'javascript': 1, 'kotlin': 1}\n",
            "{'java': 2, 'python': 2, 'javascript': 1, 'kotlin': 1, 'html': 1}\n",
            "{'java': 2, 'python': 3, 'javascript': 1, 'kotlin': 1, 'html': 1}\n"
          ]
        }
      ]
    },
    {
      "cell_type": "code",
      "source": [
        "words_counts2={}\n",
        "for w in words:\n",
        "    try:\n",
        "        words_counts2[w] += 1 # 단어 등장 횟수 + 1\n",
        "    except:\n",
        "        words_counts2[w] = 1 # 단어가 처음 등장\n",
        "\n",
        "print(words_counts2)"
      ],
      "metadata": {
        "colab": {
          "base_uri": "https://localhost:8080/"
        },
        "id": "te0HLRD9sJka",
        "outputId": "ca51b434-6e45-484e-f582-507cadcb76a1"
      },
      "execution_count": null,
      "outputs": [
        {
          "output_type": "stream",
          "name": "stdout",
          "text": [
            "{'java': 2, 'python': 3, 'javascript': 1, 'kotlin': 1, 'html': 1}\n"
          ]
        }
      ]
    }
  ]
}