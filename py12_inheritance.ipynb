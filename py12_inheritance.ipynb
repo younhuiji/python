{
  "nbformat": 4,
  "nbformat_minor": 0,
  "metadata": {
    "colab": {
      "provenance": [],
      "authorship_tag": "ABX9TyN2arBZGAFyuh4WnbYww0qx",
      "include_colab_link": true
    },
    "kernelspec": {
      "name": "python3",
      "display_name": "Python 3"
    },
    "language_info": {
      "name": "python"
    }
  },
  "cells": [
    {
      "cell_type": "markdown",
      "metadata": {
        "id": "view-in-github",
        "colab_type": "text"
      },
      "source": [
        "<a href=\"https://colab.research.google.com/github/younhuiji/python/blob/main/py12_inheritance.ipynb\" target=\"_parent\"><img src=\"https://colab.research.google.com/assets/colab-badge.svg\" alt=\"Open In Colab\"/></a>"
      ]
    },
    {
      "cell_type": "markdown",
      "source": [
        "# 상속(inheritance)\n",
        "\n",
        "* super class(상위 클래스), parent class(부모 클래스), base class(기본 클래스)\n",
        "* sub class(하위 클래스), child class(자식 클래스), derived class(유도 클래스)\n",
        "* 상속: 상위 클래스의 속성(데이터)들과 기능(메서드)들을 하위 클래스에서 재사용하는 것.\n",
        "* 일반적으로 **IS-A** 관계가 성립하는 객체들을 상속을 사용해서 구현함.\n",
        "    * 학생은 사람이다. Student is a person.\n",
        "        * Person - super class\n",
        "        * Student - sub class\n",
        "* **HAS-A** 관계가 성립하는 객체들은 일반적으로 상속이 아니라 클래스의 속성(멤버 변수)로 구현함.\n",
        "    * 학생은 성적을 가지고 있다. Student has a score."
      ],
      "metadata": {
        "id": "hCy0BDG2lfQ0"
      }
    },
    {
      "cell_type": "markdown",
      "source": [
        "파이썬에서 상속을 구현:\n",
        "\n",
        "```\n",
        "class SubClass(SuperClass)\n",
        "    구현 코드\n",
        "```"
      ],
      "metadata": {
        "id": "i82SdgKlnQns"
      }
    },
    {
      "cell_type": "code",
      "execution_count": null,
      "metadata": {
        "id": "8jam31gclUZV"
      },
      "outputs": [],
      "source": [
        "class Person:\n",
        "    def __init__(self, name, age):\n",
        "        self.name = name\n",
        "        self.__age = age # Python에서 private 인스턴스 변수 선언.\n",
        "\n",
        "    def hello(self):\n",
        "        print(f'안녕하세요, 저는 {self.name}입니다')\n",
        "\n",
        "    def get_age(self):\n",
        "        return self.__age # private 변수는 class 내부에서만 접근 가능."
      ]
    },
    {
      "cell_type": "code",
      "source": [
        "oh_ssam = Person('오쌤', 16)\n",
        "oh_ssam.hello()"
      ],
      "metadata": {
        "colab": {
          "base_uri": "https://localhost:8080/"
        },
        "id": "joNjvTv3oH2h",
        "outputId": "4f8aea7a-fc16-4e99-aaa1-7ccf608f6d84"
      },
      "execution_count": null,
      "outputs": [
        {
          "output_type": "stream",
          "name": "stdout",
          "text": [
            "안녕하세요, 저는 오쌤입니다\n"
          ]
        }
      ]
    },
    {
      "cell_type": "code",
      "source": [
        "# print(oh_ssam.__age) -> 에러 발생: private 변수는 직접 접근이 안됨.\n",
        "oh_ssam.get_age()"
      ],
      "metadata": {
        "colab": {
          "base_uri": "https://localhost:8080/"
        },
        "id": "L4kfCIjUon0R",
        "outputId": "a7a29bcc-1cbe-47a3-e15d-777f58616758"
      },
      "execution_count": null,
      "outputs": [
        {
          "output_type": "execute_result",
          "data": {
            "text/plain": [
              "16"
            ]
          },
          "metadata": {},
          "execution_count": 13
        }
      ]
    },
    {
      "cell_type": "code",
      "source": [
        "class Student(Person):\n",
        "    pass"
      ],
      "metadata": {
        "id": "FOlato4nqCla"
      },
      "execution_count": null,
      "outputs": []
    },
    {
      "cell_type": "code",
      "source": [
        "student1 = Student('홍길동', 16)"
      ],
      "metadata": {
        "id": "lcCisAEQqLHJ"
      },
      "execution_count": null,
      "outputs": []
    },
    {
      "cell_type": "code",
      "source": [
        "student1.get_age"
      ],
      "metadata": {
        "id": "2b_myhoCql3M"
      },
      "execution_count": null,
      "outputs": []
    },
    {
      "cell_type": "markdown",
      "source": [
        "# Method Override\n",
        "* 상위 클래스의 메서드를 하위 클래스에서 재정의하는 것.\n",
        "    * 파이썬에서는 메서드의 이름만 같으면 (파리미터 타입/개수와 상관 없이)메서드가 재정의됨.\n",
        "        * 파이썬은 같은 이름으로 2개 이상의 메서드(함수)를 가질 수 없음 - overloading은 제공하지 않음.\n",
        "    * 자바에서는 메서드 이름, 파라미터 타입/개수/순서가 모두 동일한 경우에 메서드가 재정의됨.\n",
        "        * 파라미터가 다르면 같은 이름의 메소드가 2개 이상 있을 수 있음 - overloading\n",
        "* 하위 클래스에서 재정의된 상위 클래스의 메서드를 명시적으로 호출하기 위해서는 `super().method_name(...)`의 형식으로 호출함."
      ],
      "metadata": {
        "id": "OL7kNqDorAt7"
      }
    },
    {
      "cell_type": "code",
      "source": [
        "class BusinessPerson(Person):\n",
        "    def __init__ (self, name, age, company):\n",
        "        # 상위 클래스의 __init__메서드를 호출\n",
        "        super().__init__(name, age)\n",
        "        self.company = company # 하위 클래스에서 상위 클래스를 확장한 속성.\n",
        "\n",
        "        # 상위 클래스의 hello() 메서드 override\n",
        "    def hello(self):\n",
        "        # 상위 클래스에서 정의된 메서드를 명시적으로 호출\n",
        "        super().hello()\n",
        "        print(f'저는 {self.company}사원입니다.')"
      ],
      "metadata": {
        "id": "6uSliGzNwuCi"
      },
      "execution_count": null,
      "outputs": []
    },
    {
      "cell_type": "code",
      "source": [
        "person1 = BusinessPerson('홍길동', 16, '아이티윌')"
      ],
      "metadata": {
        "id": "a3iqx8J9x-IQ"
      },
      "execution_count": null,
      "outputs": []
    },
    {
      "cell_type": "code",
      "source": [
        "person1.hello()"
      ],
      "metadata": {
        "colab": {
          "base_uri": "https://localhost:8080/"
        },
        "id": "117AKEEvydIv",
        "outputId": "b7204bf6-eb04-4571-8d29-97577a4824aa"
      },
      "execution_count": null,
      "outputs": [
        {
          "output_type": "stream",
          "name": "stdout",
          "text": [
            "안녕하세요, 저는 홍길동입니다\n",
            "저는 아이티윌사원입니다.\n"
          ]
        }
      ]
    },
    {
      "cell_type": "markdown",
      "source": [
        "# `isinstance 메서드`"
      ],
      "metadata": {
        "id": "BqZm2HI7zSP5"
      }
    },
    {
      "cell_type": "code",
      "source": [
        "isinstance(person1, Person)"
      ],
      "metadata": {
        "colab": {
          "base_uri": "https://localhost:8080/"
        },
        "id": "OycOTFA6zVV_",
        "outputId": "0b5702b7-ee6f-48bf-ecda-fd4e9a740b3b"
      },
      "execution_count": null,
      "outputs": [
        {
          "output_type": "execute_result",
          "data": {
            "text/plain": [
              "True"
            ]
          },
          "metadata": {},
          "execution_count": 32
        }
      ]
    },
    {
      "cell_type": "code",
      "source": [
        "isinstance(person1, BusinessPerson)"
      ],
      "metadata": {
        "colab": {
          "base_uri": "https://localhost:8080/"
        },
        "id": "yrBotNNbzrXw",
        "outputId": "24d2aea0-1d50-4722-e592-40a71122b848"
      },
      "execution_count": null,
      "outputs": [
        {
          "output_type": "execute_result",
          "data": {
            "text/plain": [
              "True"
            ]
          },
          "metadata": {},
          "execution_count": 33
        }
      ]
    },
    {
      "cell_type": "code",
      "source": [
        "person2 = Person('무명씨', 20)"
      ],
      "metadata": {
        "id": "ZrEC-KvPzvNn"
      },
      "execution_count": null,
      "outputs": []
    },
    {
      "cell_type": "code",
      "source": [
        "isinstance(person2, Person)"
      ],
      "metadata": {
        "colab": {
          "base_uri": "https://localhost:8080/"
        },
        "id": "aVkqKfP70FRi",
        "outputId": "74792d5f-0353-4481-d86c-e35b1d11692c"
      },
      "execution_count": null,
      "outputs": [
        {
          "output_type": "execute_result",
          "data": {
            "text/plain": [
              "True"
            ]
          },
          "metadata": {},
          "execution_count": 36
        }
      ]
    },
    {
      "cell_type": "code",
      "source": [
        "isinstance(person2, BusinessPerson)"
      ],
      "metadata": {
        "colab": {
          "base_uri": "https://localhost:8080/"
        },
        "id": "_jky8K9s0KbG",
        "outputId": "c8134d84-296e-40e8-8a59-c1c4859d30b4"
      },
      "execution_count": null,
      "outputs": [
        {
          "output_type": "execute_result",
          "data": {
            "text/plain": [
              "False"
            ]
          },
          "metadata": {},
          "execution_count": 38
        }
      ]
    },
    {
      "cell_type": "code",
      "source": [
        "class Animal:\n",
        "    def move(self):\n",
        "        pass\n",
        "\n",
        "class Dog(Animal):\n",
        "    def move(self):\n",
        "        print('댕댕이는 총총총...')\n",
        "\n",
        "class Bird(Animal):\n",
        "    def move(self):\n",
        "        print('새는 펄럭펄럭...')\n",
        "\n",
        "class Tree:\n",
        "    pass"
      ],
      "metadata": {
        "id": "-TzDXJOo0xO4"
      },
      "execution_count": null,
      "outputs": []
    },
    {
      "cell_type": "code",
      "source": [
        "array = [Dog(), Bird(), Tree()]\n",
        "for x in array:\n",
        "    if isinstance(x, Animal):\n",
        "        x.move()"
      ],
      "metadata": {
        "colab": {
          "base_uri": "https://localhost:8080/"
        },
        "id": "bBn7mC9B1gxO",
        "outputId": "5f37faf1-e28f-4cc1-d656-bdc10b6e1c9b"
      },
      "execution_count": null,
      "outputs": [
        {
          "output_type": "stream",
          "name": "stdout",
          "text": [
            "댕댕이는 총총총...\n",
            "새는 펄럭펄럭...\n"
          ]
        }
      ]
    }
  ]
}