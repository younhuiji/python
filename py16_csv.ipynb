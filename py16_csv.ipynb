{
  "nbformat": 4,
  "nbformat_minor": 0,
  "metadata": {
    "colab": {
      "provenance": [],
      "include_colab_link": true
    },
    "kernelspec": {
      "name": "python3",
      "display_name": "Python 3"
    },
    "language_info": {
      "name": "python"
    }
  },
  "cells": [
    {
      "cell_type": "markdown",
      "metadata": {
        "id": "view-in-github",
        "colab_type": "text"
      },
      "source": [
        "<a href=\"https://colab.research.google.com/github/younhuiji/python/blob/main/py16_csv.ipynb\" target=\"_parent\"><img src=\"https://colab.research.google.com/assets/colab-badge.svg\" alt=\"Open In Colab\"/></a>"
      ]
    },
    {
      "cell_type": "markdown",
      "source": [
        "* Colab 연결.\n",
        "* Google Drive 마운트(연결).\n",
        "* csv_exam.csv 파일을 Google Drive의 lab-python 폴더에 업로드."
      ],
      "metadata": {
        "id": "Nl6WD5ZHz_ZY"
      }
    },
    {
      "cell_type": "markdown",
      "source": [
        "\n",
        "1. csv_exam.csv 파일을 읽기 모드로 오픈\n",
        "1. 파일의 첫번째 줄은 (컬럼 이름이기 때문에) 읽고 아무 동작 없이 건너뜀.\n",
        "1. 파일의 두번째 줄부터 마지막 줄까지 반복:\n",
        "    * 각 줄에서 읽은 내용을 쉼표(,)로 구분한 리스트들을 저장하는 리스트를 만듦.\n",
        "    ```\n",
        "    [['1', '1', '50', '98' , '50'], ['2', '1', '60', '97', '60'], ...]\n",
        "    ```\n",
        "1. 2차원 리스트의 모든 값들을 숫자로 변환.\n",
        "    ```\n",
        "    [[1, 1, 50, 98 , 50], [2, 1, 60, 97, 60], ...]\n",
        "    ```\n",
        "1. 2차원 리스트에서 수학 점수들로만 이루어진 1차원 리스트를 만듦.\n",
        "    ```\n",
        "    [50, 60, 45, ...]\n",
        "    ```\n",
        "1. 수학 점수의 평균, 최댓값, 최솟값을 찾음.\n",
        "1. 1반 학생들의 수학 점수의 총점, 평균, 최댓값, 최솟값 찾음.\n"
      ],
      "metadata": {
        "id": "Gh8x_ktHzsog"
      }
    },
    {
      "cell_type": "code",
      "execution_count": null,
      "metadata": {
        "id": "YVUAdlq3znkk"
      },
      "outputs": [],
      "source": [
        "# CSV 파일이 저장된 경로\n",
        "file = '/content/drive/MyDrive/Colab Notebooks/lab-python/csv_exam.csv'"
      ]
    },
    {
      "cell_type": "code",
      "source": [
        "exam = []  # CSV 파일의 데이터를 저장할 리스트"
      ],
      "metadata": {
        "id": "6UPNtuwziA53"
      },
      "execution_count": null,
      "outputs": []
    },
    {
      "cell_type": "code",
      "source": [
        "with open(file) as f:\n",
        "    f.readline()  # 파일의 첫번째 줄은 컬럼 이름이므로 읽고 건너뜀.\n",
        "    for line in f:\n",
        "        # print(line.strip().split(sep=','))\n",
        "        exam.append(line.strip().split(sep=','))\n",
        "\n",
        "exam  # 1차원 리스트 20개를 저장하는 2차원 리스트"
      ],
      "metadata": {
        "colab": {
          "base_uri": "https://localhost:8080/"
        },
        "id": "OV42UsbWgoZo",
        "outputId": "aec3ec62-3ce1-4af0-e3f8-ebe317347be2"
      },
      "execution_count": null,
      "outputs": [
        {
          "output_type": "execute_result",
          "data": {
            "text/plain": [
              "[['1', '1', '50', '98', '50'],\n",
              " ['2', '1', '60', '97', '60'],\n",
              " ['3', '1', '45', '86', '78'],\n",
              " ['4', '1', '30', '98', '58'],\n",
              " ['5', '2', '25', '80', '65'],\n",
              " ['6', '2', '50', '89', '98'],\n",
              " ['7', '2', '80', '90', '45'],\n",
              " ['8', '2', '90', '78', '25'],\n",
              " ['9', '3', '20', '98', '15'],\n",
              " ['10', '3', '50', '98', '45'],\n",
              " ['11', '3', '65', '65', '65'],\n",
              " ['12', '3', '45', '85', '32'],\n",
              " ['13', '4', '46', '98', '65'],\n",
              " ['14', '4', '48', '87', '12'],\n",
              " ['15', '4', '75', '56', '78'],\n",
              " ['16', '4', '58', '98', '65'],\n",
              " ['17', '5', '65', '68', '98'],\n",
              " ['18', '5', '80', '78', '90'],\n",
              " ['19', '5', '89', '68', '87'],\n",
              " ['20', '5', '78', '83', '58']]"
            ]
          },
          "metadata": {},
          "execution_count": 7
        }
      ]
    },
    {
      "cell_type": "code",
      "source": [
        "with open(file) as f:\n",
        "    f.readline()  # 첫번째 줄은 읽고 건너뜀.\n",
        "    exam = [line.strip().split(sep=',') for line in f]"
      ],
      "metadata": {
        "id": "g-W0ZIiTiuVW"
      },
      "execution_count": null,
      "outputs": []
    },
    {
      "cell_type": "code",
      "source": [
        "exam"
      ],
      "metadata": {
        "colab": {
          "base_uri": "https://localhost:8080/"
        },
        "id": "7S-GEeqcjhvC",
        "outputId": "9e3127f4-d0b8-4404-8851-0cd03a3f7d97"
      },
      "execution_count": null,
      "outputs": [
        {
          "output_type": "execute_result",
          "data": {
            "text/plain": [
              "[['1', '1', '50', '98', '50'],\n",
              " ['2', '1', '60', '97', '60'],\n",
              " ['3', '1', '45', '86', '78'],\n",
              " ['4', '1', '30', '98', '58'],\n",
              " ['5', '2', '25', '80', '65'],\n",
              " ['6', '2', '50', '89', '98'],\n",
              " ['7', '2', '80', '90', '45'],\n",
              " ['8', '2', '90', '78', '25'],\n",
              " ['9', '3', '20', '98', '15'],\n",
              " ['10', '3', '50', '98', '45'],\n",
              " ['11', '3', '65', '65', '65'],\n",
              " ['12', '3', '45', '85', '32'],\n",
              " ['13', '4', '46', '98', '65'],\n",
              " ['14', '4', '48', '87', '12'],\n",
              " ['15', '4', '75', '56', '78'],\n",
              " ['16', '4', '58', '98', '65'],\n",
              " ['17', '5', '65', '68', '98'],\n",
              " ['18', '5', '80', '78', '90'],\n",
              " ['19', '5', '89', '68', '87'],\n",
              " ['20', '5', '78', '83', '58']]"
            ]
          },
          "metadata": {},
          "execution_count": 9
        }
      ]
    },
    {
      "cell_type": "code",
      "source": [
        "exam2 = []  # exam의 문자열 데이터를 숫자로 변환한 값들을 저장할 리스트\n",
        "for row in exam:\n",
        "    row_num = []  # 숫자들을 저장할 1차원 리스트\n",
        "    for x in row:\n",
        "        row_num.append(int(x))  # 문자열을 int 타입으로 변환해서 리스트에 추가\n",
        "    exam2.append(row_num)  # 1차원 리스트를 2차원 리스트에 추가\n",
        "\n",
        "exam2"
      ],
      "metadata": {
        "colab": {
          "base_uri": "https://localhost:8080/"
        },
        "id": "qVszWQKLji0F",
        "outputId": "b5808af6-d1df-4aa0-9d1b-f28dd1528a17"
      },
      "execution_count": null,
      "outputs": [
        {
          "output_type": "execute_result",
          "data": {
            "text/plain": [
              "[[1, 1, 50, 98, 50],\n",
              " [2, 1, 60, 97, 60],\n",
              " [3, 1, 45, 86, 78],\n",
              " [4, 1, 30, 98, 58],\n",
              " [5, 2, 25, 80, 65],\n",
              " [6, 2, 50, 89, 98],\n",
              " [7, 2, 80, 90, 45],\n",
              " [8, 2, 90, 78, 25],\n",
              " [9, 3, 20, 98, 15],\n",
              " [10, 3, 50, 98, 45],\n",
              " [11, 3, 65, 65, 65],\n",
              " [12, 3, 45, 85, 32],\n",
              " [13, 4, 46, 98, 65],\n",
              " [14, 4, 48, 87, 12],\n",
              " [15, 4, 75, 56, 78],\n",
              " [16, 4, 58, 98, 65],\n",
              " [17, 5, 65, 68, 98],\n",
              " [18, 5, 80, 78, 90],\n",
              " [19, 5, 89, 68, 87],\n",
              " [20, 5, 78, 83, 58]]"
            ]
          },
          "metadata": {},
          "execution_count": 10
        }
      ]
    },
    {
      "cell_type": "code",
      "source": [
        "exam2 = []\n",
        "for row in exam:\n",
        "    row_num = [int(x) for x in row]\n",
        "    exam2.append(row_num)\n",
        "\n",
        "exam2"
      ],
      "metadata": {
        "colab": {
          "base_uri": "https://localhost:8080/"
        },
        "id": "8MRbAFavlJeO",
        "outputId": "8b979359-e8e5-40e3-c091-1a03370b9f39"
      },
      "execution_count": null,
      "outputs": [
        {
          "output_type": "execute_result",
          "data": {
            "text/plain": [
              "[[1, 1, 50, 98, 50],\n",
              " [2, 1, 60, 97, 60],\n",
              " [3, 1, 45, 86, 78],\n",
              " [4, 1, 30, 98, 58],\n",
              " [5, 2, 25, 80, 65],\n",
              " [6, 2, 50, 89, 98],\n",
              " [7, 2, 80, 90, 45],\n",
              " [8, 2, 90, 78, 25],\n",
              " [9, 3, 20, 98, 15],\n",
              " [10, 3, 50, 98, 45],\n",
              " [11, 3, 65, 65, 65],\n",
              " [12, 3, 45, 85, 32],\n",
              " [13, 4, 46, 98, 65],\n",
              " [14, 4, 48, 87, 12],\n",
              " [15, 4, 75, 56, 78],\n",
              " [16, 4, 58, 98, 65],\n",
              " [17, 5, 65, 68, 98],\n",
              " [18, 5, 80, 78, 90],\n",
              " [19, 5, 89, 68, 87],\n",
              " [20, 5, 78, 83, 58]]"
            ]
          },
          "metadata": {},
          "execution_count": 11
        }
      ]
    },
    {
      "cell_type": "code",
      "source": [
        "exam2 = [[int(x) for x in row] \n",
        "         for row in exam]\n",
        "exam2"
      ],
      "metadata": {
        "colab": {
          "base_uri": "https://localhost:8080/"
        },
        "id": "5Bj7Yc8Hmb8u",
        "outputId": "3022f91d-9b59-4f15-9a15-f31b8095c9fc"
      },
      "execution_count": null,
      "outputs": [
        {
          "output_type": "execute_result",
          "data": {
            "text/plain": [
              "[[1, 1, 50, 98, 50],\n",
              " [2, 1, 60, 97, 60],\n",
              " [3, 1, 45, 86, 78],\n",
              " [4, 1, 30, 98, 58],\n",
              " [5, 2, 25, 80, 65],\n",
              " [6, 2, 50, 89, 98],\n",
              " [7, 2, 80, 90, 45],\n",
              " [8, 2, 90, 78, 25],\n",
              " [9, 3, 20, 98, 15],\n",
              " [10, 3, 50, 98, 45],\n",
              " [11, 3, 65, 65, 65],\n",
              " [12, 3, 45, 85, 32],\n",
              " [13, 4, 46, 98, 65],\n",
              " [14, 4, 48, 87, 12],\n",
              " [15, 4, 75, 56, 78],\n",
              " [16, 4, 58, 98, 65],\n",
              " [17, 5, 65, 68, 98],\n",
              " [18, 5, 80, 78, 90],\n",
              " [19, 5, 89, 68, 87],\n",
              " [20, 5, 78, 83, 58]]"
            ]
          },
          "metadata": {},
          "execution_count": 12
        }
      ]
    },
    {
      "cell_type": "code",
      "source": [
        "test = ['1', '2']\n",
        "for i, x in enumerate(test):\n",
        "    test[i] = int(x)\n",
        "test"
      ],
      "metadata": {
        "colab": {
          "base_uri": "https://localhost:8080/"
        },
        "id": "nyhXiReNm9m2",
        "outputId": "27930a93-f4de-4e8a-ab42-66fbbed6bedb"
      },
      "execution_count": null,
      "outputs": [
        {
          "output_type": "execute_result",
          "data": {
            "text/plain": [
              "[1, 2]"
            ]
          },
          "metadata": {},
          "execution_count": 14
        }
      ]
    },
    {
      "cell_type": "code",
      "source": [
        "# math = []  # 수학 점수들만 저장할 (1차원) 리스트\n",
        "# for row in exam2:  # 2차원 리스트에서 1차원 리스트를 순서대로 반복하면서\n",
        "#     math.append(row[2])  # 수학점수(1차원 리스트의 인덱스 2번 원소)를 리스트에 추가.\n",
        "\n",
        "math = [row[2] for row in exam2]\n",
        "print(math)"
      ],
      "metadata": {
        "colab": {
          "base_uri": "https://localhost:8080/"
        },
        "id": "LHDGDR49ne-d",
        "outputId": "515503dc-38d3-480c-832c-322411f1acef"
      },
      "execution_count": null,
      "outputs": [
        {
          "output_type": "stream",
          "name": "stdout",
          "text": [
            "[50, 60, 45, 30, 25, 50, 80, 90, 20, 50, 65, 45, 46, 48, 75, 58, 65, 80, 89, 78]\n"
          ]
        }
      ]
    },
    {
      "cell_type": "code",
      "source": [
        "sum(math) / len(math)"
      ],
      "metadata": {
        "colab": {
          "base_uri": "https://localhost:8080/"
        },
        "id": "BuS6PWeRsedl",
        "outputId": "27b2aa35-9076-4980-c543-2f08eb65cbc3"
      },
      "execution_count": null,
      "outputs": [
        {
          "output_type": "execute_result",
          "data": {
            "text/plain": [
              "57.45"
            ]
          },
          "metadata": {},
          "execution_count": 19
        }
      ]
    },
    {
      "cell_type": "code",
      "source": [
        "max(math)"
      ],
      "metadata": {
        "colab": {
          "base_uri": "https://localhost:8080/"
        },
        "id": "GFgSEcNjtlY9",
        "outputId": "7a77bd0e-b7b4-49ed-fb8f-fbe786ab0c4a"
      },
      "execution_count": null,
      "outputs": [
        {
          "output_type": "execute_result",
          "data": {
            "text/plain": [
              "90"
            ]
          },
          "metadata": {},
          "execution_count": 20
        }
      ]
    },
    {
      "cell_type": "code",
      "source": [
        "min(math)"
      ],
      "metadata": {
        "colab": {
          "base_uri": "https://localhost:8080/"
        },
        "id": "t7RxHlmOtv4M",
        "outputId": "f8e6156b-3067-4a06-afcc-b12b867d98c7"
      },
      "execution_count": null,
      "outputs": [
        {
          "output_type": "execute_result",
          "data": {
            "text/plain": [
              "20"
            ]
          },
          "metadata": {},
          "execution_count": 21
        }
      ]
    },
    {
      "cell_type": "code",
      "source": [
        "math_class1 = math[:4]\n",
        "math_class1"
      ],
      "metadata": {
        "colab": {
          "base_uri": "https://localhost:8080/"
        },
        "id": "K8cAgvKEt0Zk",
        "outputId": "9a987209-2639-4f57-8f7c-e66fb29eeb63"
      },
      "execution_count": null,
      "outputs": [
        {
          "output_type": "execute_result",
          "data": {
            "text/plain": [
              "[50, 60, 45, 30]"
            ]
          },
          "metadata": {},
          "execution_count": 22
        }
      ]
    },
    {
      "cell_type": "code",
      "source": [
        "# math_class1 = []\n",
        "# for row in exam2:  # 2차원 리스트에서 순서대로 1차원 리스트를 반복하면서\n",
        "#     if row[1] == 1:  # class 값이 1이면\n",
        "#         math_class1.append(row[2])  # 수학 점수를 리스트에 추가\n",
        "\n",
        "math_class1 = [row[2] for row in exam2 if row[1] == 1]\n",
        "math_class1"
      ],
      "metadata": {
        "colab": {
          "base_uri": "https://localhost:8080/"
        },
        "id": "PrNYbLfvukn0",
        "outputId": "ae1051b3-aff8-4f81-ae38-e32a94d8cf4a"
      },
      "execution_count": null,
      "outputs": [
        {
          "output_type": "execute_result",
          "data": {
            "text/plain": [
              "[50, 60, 45, 30]"
            ]
          },
          "metadata": {},
          "execution_count": 24
        }
      ]
    },
    {
      "cell_type": "code",
      "source": [
        "sum(math_class1) / len(math_class1)"
      ],
      "metadata": {
        "colab": {
          "base_uri": "https://localhost:8080/"
        },
        "id": "SHPShriOvpwF",
        "outputId": "1798bc06-3945-4dba-96c5-d574f1e5c530"
      },
      "execution_count": null,
      "outputs": [
        {
          "output_type": "execute_result",
          "data": {
            "text/plain": [
              "46.25"
            ]
          },
          "metadata": {},
          "execution_count": 25
        }
      ]
    },
    {
      "cell_type": "code",
      "source": [
        "max(math_class1)"
      ],
      "metadata": {
        "colab": {
          "base_uri": "https://localhost:8080/"
        },
        "id": "LOYp9bnJwRKs",
        "outputId": "63393ed8-b860-431e-802d-1819a5b7ba82"
      },
      "execution_count": null,
      "outputs": [
        {
          "output_type": "execute_result",
          "data": {
            "text/plain": [
              "60"
            ]
          },
          "metadata": {},
          "execution_count": 26
        }
      ]
    },
    {
      "cell_type": "code",
      "source": [
        "min(math_class1)"
      ],
      "metadata": {
        "colab": {
          "base_uri": "https://localhost:8080/"
        },
        "id": "K1onWQFmwVwM",
        "outputId": "58556e3a-d337-422b-8072-3b327b29ab1e"
      },
      "execution_count": null,
      "outputs": [
        {
          "output_type": "execute_result",
          "data": {
            "text/plain": [
              "30"
            ]
          },
          "metadata": {},
          "execution_count": 27
        }
      ]
    }
  ]
}