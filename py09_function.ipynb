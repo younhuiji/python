{
  "nbformat": 4,
  "nbformat_minor": 0,
  "metadata": {
    "colab": {
      "provenance": [],
      "authorship_tag": "ABX9TyM8uJJ7eSiW0X/+talPrFat",
      "include_colab_link": true
    },
    "kernelspec": {
      "name": "python3",
      "display_name": "Python 3"
    },
    "language_info": {
      "name": "python"
    }
  },
  "cells": [
    {
      "cell_type": "markdown",
      "metadata": {
        "id": "view-in-github",
        "colab_type": "text"
      },
      "source": [
        "<a href=\"https://colab.research.google.com/github/younhuiji/python/blob/main/py09_function.ipynb\" target=\"_parent\"><img src=\"https://colab.research.google.com/assets/colab-badge.svg\" alt=\"Open In Colab\"/></a>"
      ]
    },
    {
      "cell_type": "markdown",
      "source": [
        "# 함수(function)\n",
        "\n",
        "* 함수(fountion): 기능을 수행하는 코드 블록.\n",
        "* 인수(argument): 함수를 호출할 때 함수에게 전달하는 값(들).\n",
        "* 매개변수(parameter): argument를 저장하기 위해서 함수를 정의할 때 선언하는 (지역)변수.\n",
        "* 반환 값(return value): 함수가 기능의 수행 결과로 변환하는 값.\n",
        "    * 반환 값이 있는 함수\n",
        "    * 변환 값이 없는 함수"
      ],
      "metadata": {
        "id": "KvYAbcRP-9N_"
      }
    },
    {
      "cell_type": "markdown",
      "source": [
        "파이썬에서 함수 정의하는 방법:\n",
        "\n",
        "```\n",
        "def function_name([param, ...]):\n",
        "    [\"\"\"문서화 주석: 함수 설명, 파라미터 설명, 리턴 값 설명\"\"\"]\n",
        "    함수 기능 코드 블록\n",
        "    [return 값]\n",
        "```"
      ],
      "metadata": {
        "id": "b5bZ_0I0AJR3"
      }
    },
    {
      "cell_type": "code",
      "execution_count": null,
      "metadata": {
        "id": "36KQoB1--z6-"
      },
      "outputs": [],
      "source": [
        "def subtract(x, y):\n",
        "    \"\"\"숫자 x, y를 전달 받아서, x-y를 리턴하는 함수. \n",
        "    \"\"\"\n",
        "    return x - y"
      ]
    },
    {
      "cell_type": "code",
      "source": [
        "result = subtract(1,2)\n",
        "result"
      ],
      "metadata": {
        "colab": {
          "base_uri": "https://localhost:8080/"
        },
        "id": "6p1DALINB7NO",
        "outputId": "2c3c8c7a-7c61-47e8-f505-a83a20eda88b"
      },
      "execution_count": null,
      "outputs": [
        {
          "output_type": "execute_result",
          "data": {
            "text/plain": [
              "-1"
            ]
          },
          "metadata": {},
          "execution_count": 7
        }
      ]
    },
    {
      "cell_type": "markdown",
      "source": [
        "파이썬의 함수는 2개 이상의 값을 반환할 수 있음. 튜플을 리턴하는 것."
      ],
      "metadata": {
        "id": "SoHT3iVtGWq1"
      }
    },
    {
      "cell_type": "code",
      "source": [
        "def plus_and_minus(x, y):\n",
        "    \"\"\"2개의 숫자 x, y를 전달받아서, x+y와 x-y를 리턴하는 함수\n",
        "    \"\"\"\n",
        "    return x + y, x - y"
      ],
      "metadata": {
        "id": "pbAySRhBGnJ3"
      },
      "execution_count": null,
      "outputs": []
    },
    {
      "cell_type": "code",
      "source": [
        "plus_and_minus(1, 2)"
      ],
      "metadata": {
        "colab": {
          "base_uri": "https://localhost:8080/"
        },
        "id": "K893IJBQG3sB",
        "outputId": "fb538de0-ec17-4ee1-bbd7-505e61d7c985"
      },
      "execution_count": null,
      "outputs": [
        {
          "output_type": "execute_result",
          "data": {
            "text/plain": [
              "(3, -1)"
            ]
          },
          "metadata": {},
          "execution_count": 12
        }
      ]
    },
    {
      "cell_type": "code",
      "source": [
        "plus, minus = plus_and_minus(1, 2)\n",
        "print(plus)\n",
        "print(minus)"
      ],
      "metadata": {
        "colab": {
          "base_uri": "https://localhost:8080/"
        },
        "id": "OrwPMAthHSsX",
        "outputId": "a8ae195c-5b87-47fa-b7f9-fb0543389b5f"
      },
      "execution_count": null,
      "outputs": [
        {
          "output_type": "stream",
          "name": "stdout",
          "text": [
            "3\n",
            "-1\n"
          ]
        }
      ]
    },
    {
      "cell_type": "code",
      "source": [
        "def repeat_message(message, n):\n",
        "    \"\"\"문자열 message와 반복 횟수 n을 전달 받아서, 문자열을 n번 출력하는 함수 \"\"\"\n",
        "    for _ in range(n):\n",
        "        print(message)\n",
        "    return None # 변환 값이 없음을 명시적으로 작성.\n",
        "    # 반환 값이 없는 경우에 return None 문장은 보통 생략함."
      ],
      "metadata": {
        "id": "tGi5GerCHzzI"
      },
      "execution_count": null,
      "outputs": []
    },
    {
      "cell_type": "code",
      "source": [
        "result = repeat_message('안녕하세요', 3)"
      ],
      "metadata": {
        "colab": {
          "base_uri": "https://localhost:8080/"
        },
        "id": "KgckkAXYISt9",
        "outputId": "6ef28f6d-3b26-421b-a8cc-3a9ef18716bb"
      },
      "execution_count": null,
      "outputs": [
        {
          "output_type": "stream",
          "name": "stdout",
          "text": [
            "안녕하세요\n",
            "안녕하세요\n",
            "안녕하세요\n"
          ]
        }
      ]
    },
    {
      "cell_type": "markdown",
      "source": [
        "# 함수 작성 연습"
      ],
      "metadata": {
        "id": "v6N6-YPfJc99"
      }
    },
    {
      "cell_type": "code",
      "source": [
        "import random # 난수 생성\n",
        "import math # sqrt() 함수"
      ],
      "metadata": {
        "id": "QT3aLwPCJtEV"
      },
      "execution_count": null,
      "outputs": []
    },
    {
      "cell_type": "markdown",
      "source": [
        "## Ex 1.\n",
        "\n",
        "* 함수 이름: make_list\n",
        "* 기능: start 이상 end 미만의 정수 난수 n개를 갖는 리스트를 반환하는 함수"
      ],
      "metadata": {
        "id": "dOwUyky7Jh1T"
      }
    },
    {
      "cell_type": "code",
      "source": [
        "def make_list(start, end, n):\n",
        "   return [random.randrange(start, end) for _ in range(n)] "
      ],
      "metadata": {
        "id": "m203skb9Midc"
      },
      "execution_count": null,
      "outputs": []
    },
    {
      "cell_type": "code",
      "source": [
        "numbers = make_list(0, 10, 4)\n",
        "print('numbers :',numbers)"
      ],
      "metadata": {
        "colab": {
          "base_uri": "https://localhost:8080/"
        },
        "id": "8Af0lvMbWAyS",
        "outputId": "58cfbbd3-e92c-47c2-fa8d-d779d5fd2e65"
      },
      "execution_count": null,
      "outputs": [
        {
          "output_type": "stream",
          "name": "stdout",
          "text": [
            "numbers : [9, 6, 3, 8]\n"
          ]
        }
      ]
    },
    {
      "cell_type": "markdown",
      "source": [
        "## Ex 2.\n",
        "\n",
        "* 함수 이름: calc_sum\n",
        "* 기능: 숫자들의 리스트를 전달받아서, 리스트의 모든 원소들의 합을 리턴하는 함수.\n"
      ],
      "metadata": {
        "id": "1p_GRE1ZKGcF"
      }
    },
    {
      "cell_type": "code",
      "source": [
        "def calc_sum(num_list):\n",
        "    total = 0\n",
        "    for i in num_list:\n",
        "        total += i\n",
        "    return total\n",
        "    # return sum(num_list)\n",
        "\n",
        "print('sum :',calc_sum(numbers))"
      ],
      "metadata": {
        "colab": {
          "base_uri": "https://localhost:8080/"
        },
        "id": "7SRCF4-OOTQr",
        "outputId": "85ebdf30-32e3-409c-acfe-8fb3a5c87f58"
      },
      "execution_count": null,
      "outputs": [
        {
          "output_type": "stream",
          "name": "stdout",
          "text": [
            "sum : 26\n"
          ]
        }
      ]
    },
    {
      "cell_type": "markdown",
      "source": [
        "## Ex 3.\n",
        "\n",
        "* 함수 이름: calc_mean\n",
        "* 기능: 숫자들의 리스트를 전달받아서 리스트의 원소들의 평균을 리턴하는 함수."
      ],
      "metadata": {
        "id": "h70rzM_MKUyo"
      }
    },
    {
      "cell_type": "code",
      "source": [
        "def calc_mean(num_list):\n",
        "    return calc_sum(num_list) /  len(num_list)\n",
        "\n",
        "print('mean :',calc_mean(numbers))"
      ],
      "metadata": {
        "colab": {
          "base_uri": "https://localhost:8080/"
        },
        "id": "KziaUnLEWahh",
        "outputId": "8da6346a-6255-4a59-c6ab-5d89a2434b06"
      },
      "execution_count": null,
      "outputs": [
        {
          "output_type": "stream",
          "name": "stdout",
          "text": [
            "mean : 6.5\n"
          ]
        }
      ]
    },
    {
      "cell_type": "markdown",
      "source": [
        "## Ex 4.\n",
        "\n",
        "* 함수: calc_var\n",
        "* 기능: 숫자들의 리스트를 전달받아서 리스트의 원소들의 분산(variance)을 리턴하는 함수.\n",
        "    * (값 - 평균)^ 들의 평균"
      ],
      "metadata": {
        "id": "aKYkGWQMKkh8"
      }
    },
    {
      "cell_type": "code",
      "source": [
        "def calc_var(num_list):\n",
        "     result = [(x - calc_mean(num_list))**2 for x in num_list]\n",
        "     return calc_mean(result)\n",
        "\n",
        "print('var :', calc_var(numbers))"
      ],
      "metadata": {
        "colab": {
          "base_uri": "https://localhost:8080/"
        },
        "id": "i2Q9fZNzXDdJ",
        "outputId": "93dafee1-f75b-4762-fbd5-d417250ac642"
      },
      "execution_count": null,
      "outputs": [
        {
          "output_type": "stream",
          "name": "stdout",
          "text": [
            "var : 5.25\n"
          ]
        }
      ]
    },
    {
      "cell_type": "markdown",
      "source": [
        "## Ex 5.\n",
        "\n",
        "* 함수 이름: calc_stddv\n",
        "* 기능: 숫자들의 리스트를 전달받아서, 리스트의 원소드릐 표준편차(standard deviaion)를 리턴하는 함수.\n",
        "     * 표준 편차 = root(분산)"
      ],
      "metadata": {
        "id": "r-IWmr8hLyMM"
      }
    },
    {
      "cell_type": "code",
      "source": [
        "def calc_stddv(num_list):\n",
        "    return math.sqrt(calc_var(num_list))\n",
        "calc_stddv(numbers)"
      ],
      "metadata": {
        "colab": {
          "base_uri": "https://localhost:8080/"
        },
        "id": "CN0vQF2dXpYR",
        "outputId": "e24636f6-c1aa-485f-f362-4d86dddb91e5"
      },
      "execution_count": null,
      "outputs": [
        {
          "output_type": "execute_result",
          "data": {
            "text/plain": [
              "2.29128784747792"
            ]
          },
          "metadata": {},
          "execution_count": 75
        }
      ]
    },
    {
      "cell_type": "markdown",
      "source": [
        "## Ex 6. \n",
        "* 함수 이름: find_max_and_min\n",
        "* 기능: 숫자들의 리스트에서 최댓값과 최솟값을 리턴하는 함수."
      ],
      "metadata": {
        "id": "B-Ete_OpMsdM"
      }
    },
    {
      "cell_type": "code",
      "source": [
        "def find_max_and_min(num_list):\n",
        "    max = num_list[0] # 리스트에서 첫번째 원소를 최댓값이라고 가정.\n",
        "    min = num_list[0] # 리스트에서 첫번째 원소를 최솟값이라고 가정.\n",
        "    for x in num_list: # 리스트의 원소들을 처음부터 끝까지 반복하면서.\n",
        "        if x > max: # 리스트에 있는 값이 max보다 크다면\n",
        "            max = x \n",
        "        if x < min: # 리스트에 있는 값이 min보다 작으면\n",
        "            min = x\n",
        "    return max, min\n",
        "\n",
        "find_max_and_min(numbers)\n"
      ],
      "metadata": {
        "colab": {
          "base_uri": "https://localhost:8080/"
        },
        "id": "oMe7sS0jZTcx",
        "outputId": "c533320f-184d-4955-e782-571e62c4a830"
      },
      "execution_count": null,
      "outputs": [
        {
          "output_type": "execute_result",
          "data": {
            "text/plain": [
              "(9, 3)"
            ]
          },
          "metadata": {},
          "execution_count": 76
        }
      ]
    },
    {
      "cell_type": "markdown",
      "source": [
        "# Default argument(기본 인수)\n",
        "* 함수를 정의할 때 파라미터에 설정한 기본값.\n",
        "* 함수를 호출할 때 default argument가 있는 파라미터에 값을 전달하지 않으면, 기본값이 사용됨.\n",
        "* 함수를 호출할 때 default argument가 있는 파라미터에 값을 전달하면, 기본값은 무시되고 전달한 값을 사용함.\n",
        "* **(주의)** 함수를 정의할 때, default argument가 있는 파라미터들은 default argument가 없는 파라미터들 뒤에 선언해야 함! "
      ],
      "metadata": {
        "id": "RJ-YznQJa3zo"
      }
    },
    {
      "cell_type": "code",
      "source": [
        "def repeat_message2(msg, n=1):\n",
        "    for _ in range(n):\n",
        "        print(msg)\n",
        "    "
      ],
      "metadata": {
        "id": "P0fG0vaubncl"
      },
      "execution_count": null,
      "outputs": []
    },
    {
      "cell_type": "code",
      "source": [
        "repeat_message2('Hello')"
      ],
      "metadata": {
        "colab": {
          "base_uri": "https://localhost:8080/"
        },
        "id": "WMwQPYi6b55X",
        "outputId": "4f0f5607-f940-42cd-8233-97a6853373f6"
      },
      "execution_count": null,
      "outputs": [
        {
          "output_type": "stream",
          "name": "stdout",
          "text": [
            "Hello\n"
          ]
        }
      ]
    },
    {
      "cell_type": "code",
      "source": [
        "repeat_message2('Hello', 4)"
      ],
      "metadata": {
        "colab": {
          "base_uri": "https://localhost:8080/"
        },
        "id": "fVYtPgVCcPPz",
        "outputId": "0236dbe8-cbbd-43ca-fc17-60bff209cd5d"
      },
      "execution_count": null,
      "outputs": [
        {
          "output_type": "stream",
          "name": "stdout",
          "text": [
            "Hello\n",
            "Hello\n",
            "Hello\n",
            "Hello\n"
          ]
        }
      ]
    },
    {
      "cell_type": "markdown",
      "source": [
        "# argument 전달 방법:\n",
        "* **positional argument**: 함수 정의에서 선언된 파라미터 순서대로 argument들을 전달하는 방법.\n",
        "* **keyword argument**: `param=value`형식으로 argument들을 전달하는 방법.\n",
        "    * keyword argument 방식으로 argument들을 전달할 때는 파라미터 순서를 지키지 않아도 됨.\n",
        "* **(주의)**: 함수를 호출할 때 positional 방법과 keyword 방법을 함께 사용하는 경우에는 반드시 positional argument들이 먼저 전달되어야 하고, keyword atgument들은 positional argument보다 뒤에 전달되어야 한다."
      ],
      "metadata": {
        "id": "BFp5Rn7Hi7ge"
      }
    },
    {
      "cell_type": "code",
      "source": [
        "def minus(x, y):\n",
        "    return x - y"
      ],
      "metadata": {
        "id": "vdROHQfzkHLG"
      },
      "execution_count": null,
      "outputs": []
    },
    {
      "cell_type": "code",
      "source": [
        "minus(1, 2) # positional argument"
      ],
      "metadata": {
        "colab": {
          "base_uri": "https://localhost:8080/"
        },
        "id": "FlT1CJfWkR8h",
        "outputId": "d80567b8-b69d-4a36-96a4-0befcd4b68dd"
      },
      "execution_count": null,
      "outputs": [
        {
          "output_type": "execute_result",
          "data": {
            "text/plain": [
              "-1"
            ]
          },
          "metadata": {},
          "execution_count": 82
        }
      ]
    },
    {
      "cell_type": "code",
      "source": [
        "minus(x=1, y=2) # keyword argument"
      ],
      "metadata": {
        "colab": {
          "base_uri": "https://localhost:8080/"
        },
        "id": "h6V1RGn_kW6b",
        "outputId": "66f39856-e24c-4709-b990-1d1a11d20adc"
      },
      "execution_count": null,
      "outputs": [
        {
          "output_type": "execute_result",
          "data": {
            "text/plain": [
              "-1"
            ]
          },
          "metadata": {},
          "execution_count": 85
        }
      ]
    },
    {
      "cell_type": "code",
      "source": [
        "minus(y=2, x=1) # keyword argument 방식에서는 파라미터 순서를 지키지 않아도 됨. (예) minus(x=2, 1) -  문법으로 오류"
      ],
      "metadata": {
        "colab": {
          "base_uri": "https://localhost:8080/"
        },
        "id": "ZIQcFRO7k5sH",
        "outputId": "f98f6196-947a-432b-d95e-b132f68ea8e4"
      },
      "execution_count": null,
      "outputs": [
        {
          "output_type": "execute_result",
          "data": {
            "text/plain": [
              "-1"
            ]
          },
          "metadata": {},
          "execution_count": 86
        }
      ]
    },
    {
      "cell_type": "markdown",
      "source": [
        "# 가변길이 인수(variable-length argument)\n",
        "\n",
        "* 함수를 호출할 때 전달하는 값(argument)의 개수가 임의로 변할 수 있는 것.\n",
        "    * argument를 전달하지 않아도 됨.\n",
        "* 함수를 정의할 때 파아미터 이름앞에 `*`를 사용하면 가변길이 인수를 전달받을 수 있음.\n",
        "* 함수 내부에서 가변길이 인수는 tuple로 취급해서 코드를 작성.\n",
        "    * 인덱스 사용 가능\n",
        "    * for in구문 사용 가능\n",
        "* **(주의)**\n",
        "    * 가변길이 인수는 keyword 방식으로 전달할 수 없음.\n",
        "    * 함수에서 가변길이 인수를 받는 파라미터는 오직 1개만 선언 가능."
      ],
      "metadata": {
        "id": "g5OXz2NnmiLO"
      }
    },
    {
      "cell_type": "code",
      "source": [
        "print('abc')\n",
        "print()\n",
        "print('abc', 'def')"
      ],
      "metadata": {
        "colab": {
          "base_uri": "https://localhost:8080/"
        },
        "id": "HZyTxt1goIBz",
        "outputId": "520a6e2c-5afc-4064-c074-b54dfb54f358"
      },
      "execution_count": null,
      "outputs": [
        {
          "output_type": "stream",
          "name": "stdout",
          "text": [
            "abc\n",
            "\n",
            "abc def\n"
          ]
        }
      ]
    },
    {
      "cell_type": "code",
      "source": [
        "def add_all(*values):\n",
        "    total = 0\n",
        "    for x in values:\n",
        "        total += x\n",
        "\n",
        "    return total"
      ],
      "metadata": {
        "id": "r6oYWSf7pK5P"
      },
      "execution_count": null,
      "outputs": []
    },
    {
      "cell_type": "code",
      "source": [
        "add_all()"
      ],
      "metadata": {
        "colab": {
          "base_uri": "https://localhost:8080/"
        },
        "id": "x7GFbGqvpXEb",
        "outputId": "1bf4d6da-2f96-4382-a1d2-a5a0a1c09968"
      },
      "execution_count": null,
      "outputs": [
        {
          "output_type": "execute_result",
          "data": {
            "text/plain": [
              "0"
            ]
          },
          "metadata": {},
          "execution_count": 92
        }
      ]
    },
    {
      "cell_type": "code",
      "source": [
        "add_all(1, 2, 4)"
      ],
      "metadata": {
        "colab": {
          "base_uri": "https://localhost:8080/"
        },
        "id": "NqqYpz3apY9K",
        "outputId": "16b2fd79-0421-4559-813c-e2d95129bb3a"
      },
      "execution_count": null,
      "outputs": [
        {
          "output_type": "execute_result",
          "data": {
            "text/plain": [
              "7"
            ]
          },
          "metadata": {},
          "execution_count": 94
        }
      ]
    },
    {
      "cell_type": "code",
      "source": [
        "def test(*x, y):\n",
        "    print(x)\n",
        "    print(y)"
      ],
      "metadata": {
        "id": "-HwdgwhEqETR"
      },
      "execution_count": null,
      "outputs": []
    },
    {
      "cell_type": "code",
      "source": [
        "test(1, 2, 3, y=4)"
      ],
      "metadata": {
        "colab": {
          "base_uri": "https://localhost:8080/"
        },
        "id": "UvlvPG_UqLF_",
        "outputId": "833ffbfc-b1f9-4501-d25f-17befc41821d"
      },
      "execution_count": null,
      "outputs": [
        {
          "output_type": "stream",
          "name": "stdout",
          "text": [
            "(1, 2, 3)\n",
            "4\n"
          ]
        }
      ]
    },
    {
      "cell_type": "markdown",
      "source": [
        "# 가변길이 키워드 인수(variable-length keyword argument)\n",
        "\n",
        "* variable-length arg - 함수를 호출할 때 전달하는 argument 개수 제한이 없음.\n",
        "* keyword arg- 함수를 호출할 때 argument 반드시 `param-value` 형식으로 전달.\n",
        "* 함수를 정의할 때 파라미터 이름 앞에 `**`를 붙임.\n",
        "* 함수 내부에서는 dict로 취급해서 코드 작성.\n",
        "* 함수에서 가변길이 키워드 인수는 오직 1개만 선언 가능."
      ],
      "metadata": {
        "id": "Aj1-bg74ucPD"
      }
    },
    {
      "cell_type": "code",
      "source": [
        "def test2(**kwargs):\n",
        "    print(kwargs)"
      ],
      "metadata": {
        "id": "tkRrreTgvYi3"
      },
      "execution_count": null,
      "outputs": []
    },
    {
      "cell_type": "code",
      "source": [
        "test2(x= 2, y=1, msg='Hello')"
      ],
      "metadata": {
        "colab": {
          "base_uri": "https://localhost:8080/"
        },
        "id": "TRnZCMDwvm0I",
        "outputId": "998f9145-f86b-45e9-fa28-ea630c031fe2"
      },
      "execution_count": null,
      "outputs": [
        {
          "output_type": "stream",
          "name": "stdout",
          "text": [
            "{'x': 2, 'y': 1, 'msg': 'Hello'}\n"
          ]
        }
      ]
    },
    {
      "cell_type": "code",
      "source": [
        "test2()"
      ],
      "metadata": {
        "colab": {
          "base_uri": "https://localhost:8080/"
        },
        "id": "5S5MnZQOvweZ",
        "outputId": "b1806a8f-c7f9-46ce-9609-fd3108a27b9d"
      },
      "execution_count": null,
      "outputs": [
        {
          "output_type": "stream",
          "name": "stdout",
          "text": [
            "{}\n"
          ]
        }
      ]
    },
    {
      "cell_type": "code",
      "source": [
        "def make_emp(emp_no, emp_name, **kwargs):\n",
        "    emp = {'emp_no':emp_no, 'emp_name':emp_name}\n",
        "    for k, v in kwargs.items():\n",
        "        emp[k] = v\n",
        "\n",
        "    return emp"
      ],
      "metadata": {
        "id": "b454G2Edv701"
      },
      "execution_count": null,
      "outputs": []
    },
    {
      "cell_type": "code",
      "source": [
        "make_emp(1, '홍길동')"
      ],
      "metadata": {
        "colab": {
          "base_uri": "https://localhost:8080/"
        },
        "id": "cHZYVvu0wmfq",
        "outputId": "f9e8f461-4e93-490f-809d-b4eef2b520e8"
      },
      "execution_count": null,
      "outputs": [
        {
          "output_type": "execute_result",
          "data": {
            "text/plain": [
              "{'emp_no': 1, 'emp_name': '홍길동'}"
            ]
          },
          "metadata": {},
          "execution_count": 108
        }
      ]
    },
    {
      "cell_type": "code",
      "source": [
        "make_emp(2, '김길동', phone='010-123-1234', email='scott@oracle.com')"
      ],
      "metadata": {
        "colab": {
          "base_uri": "https://localhost:8080/"
        },
        "id": "MGulXUmkwr3s",
        "outputId": "c6ea8c04-53ff-4f71-e95c-1c84a526fe74"
      },
      "execution_count": null,
      "outputs": [
        {
          "output_type": "execute_result",
          "data": {
            "text/plain": [
              "{'emp_no': 2,\n",
              " 'emp_name': '김길동',\n",
              " 'phone': '010-123-1234',\n",
              " 'email': 'scott@oracle.com'}"
            ]
          },
          "metadata": {},
          "execution_count": 111
        }
      ]
    },
    {
      "cell_type": "code",
      "source": [
        "def make_emp2(emp_no, emp_name, **kwargs):\n",
        "    emp = {'emp_no': emp_no, 'emp_name': emp_name, 'email':None, 'phone': None}\n",
        "    for k, v in kwargs.items():\n",
        "        if k == 'email' or k == 'phone':\n",
        "            emp[k] = v\n",
        "    return emp"
      ],
      "metadata": {
        "id": "rCQ6sFFlx3HR"
      },
      "execution_count": null,
      "outputs": []
    },
    {
      "cell_type": "code",
      "source": [
        "make_emp2(3, '나다', email='00000@oracle.com', tel='010-789-456')"
      ],
      "metadata": {
        "colab": {
          "base_uri": "https://localhost:8080/"
        },
        "id": "UsK9qOkYyHom",
        "outputId": "1f4db33f-b9ba-4102-d14f-6b1df0302b51"
      },
      "execution_count": null,
      "outputs": [
        {
          "output_type": "execute_result",
          "data": {
            "text/plain": [
              "{'emp_no': 3, 'emp_name': '나다', 'email': '00000@oracle.com', 'phone': None}"
            ]
          },
          "metadata": {},
          "execution_count": 119
        }
      ]
    }
  ]
}