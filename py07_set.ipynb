{
  "nbformat": 4,
  "nbformat_minor": 0,
  "metadata": {
    "colab": {
      "provenance": [],
      "authorship_tag": "ABX9TyPI5OCnANy20hJzSWtTwPEm",
      "include_colab_link": true
    },
    "kernelspec": {
      "name": "python3",
      "display_name": "Python 3"
    },
    "language_info": {
      "name": "python"
    }
  },
  "cells": [
    {
      "cell_type": "markdown",
      "metadata": {
        "id": "view-in-github",
        "colab_type": "text"
      },
      "source": [
        "<a href=\"https://colab.research.google.com/github/younhuiji/python/blob/main/py07_set.ipynb\" target=\"_parent\"><img src=\"https://colab.research.google.com/assets/colab-badge.svg\" alt=\"Open In Colab\"/></a>"
      ]
    },
    {
      "cell_type": "markdown",
      "source": [
        "# set(집합)\n",
        "\n",
        "* 중복된 데이터를 허용하지 않음: `{1, 2, 3, 3, 3} = {1, 2, 3}`\n",
        "* 데이터 저장 순서가 없음. `{1, 2, 3} = {3, 2, 1}`\n",
        "    * 인덱스가 없음 -> indexing, slicing 기능을 제공하지 않음."
      ],
      "metadata": {
        "id": "nyURnM4jfAe_"
      }
    },
    {
      "cell_type": "code",
      "source": [
        "s = {1, 2, 2, 3, 3, 3}\n",
        "s"
      ],
      "metadata": {
        "colab": {
          "base_uri": "https://localhost:8080/"
        },
        "id": "L6wpVSnOflH_",
        "outputId": "bcaa76e7-317e-4a78-b446-864d3f487d7f"
      },
      "execution_count": null,
      "outputs": [
        {
          "output_type": "execute_result",
          "data": {
            "text/plain": [
              "{1, 2, 3}"
            ]
          },
          "metadata": {},
          "execution_count": 1
        }
      ]
    },
    {
      "cell_type": "markdown",
      "source": [
        "set 객체는 list, tuple 객체와 같은 방법으로 for 반복문을 사용할 수 있음."
      ],
      "metadata": {
        "id": "GqgB9stngIUg"
      }
    },
    {
      "cell_type": "code",
      "source": [
        "for x in s:\n",
        "    print(x, end= ' ')"
      ],
      "metadata": {
        "colab": {
          "base_uri": "https://localhost:8080/"
        },
        "id": "JLDQddkqgOd6",
        "outputId": "e8e356e7-2749-430f-de37-5e27fa9605c7"
      },
      "execution_count": null,
      "outputs": [
        {
          "output_type": "stream",
          "name": "stdout",
          "text": [
            "1 2 3 "
          ]
        }
      ]
    },
    {
      "cell_type": "markdown",
      "source": [
        "# set의 기능(메서드)"
      ],
      "metadata": {
        "id": "kSLblAOwgdsG"
      }
    },
    {
      "cell_type": "code",
      "source": [
        "s.add(10) # set에 원소 추가\n",
        "s"
      ],
      "metadata": {
        "colab": {
          "base_uri": "https://localhost:8080/"
        },
        "id": "5zFsdwQrgfdq",
        "outputId": "ccd2959d-a538-4336-9216-fa5139d72acd"
      },
      "execution_count": null,
      "outputs": [
        {
          "output_type": "execute_result",
          "data": {
            "text/plain": [
              "{1, 2, 3, 10}"
            ]
          },
          "metadata": {},
          "execution_count": 3
        }
      ]
    },
    {
      "cell_type": "code",
      "source": [
        "s.remove(10) # set에 원소 삭제\n",
        "s"
      ],
      "metadata": {
        "colab": {
          "base_uri": "https://localhost:8080/"
        },
        "id": "kV9qDf9sgzT-",
        "outputId": "2cf3d510-9da9-4f9b-8462-9c3920890972"
      },
      "execution_count": null,
      "outputs": [
        {
          "output_type": "execute_result",
          "data": {
            "text/plain": [
              "{1, 2, 3}"
            ]
          },
          "metadata": {},
          "execution_count": 4
        }
      ]
    },
    {
      "cell_type": "code",
      "source": [
        "s1={1, 2, 3, 4}\n",
        "s2={2, 3, 5, 6}\n",
        "\n",
        "print(s1.union(s2)) # 합집합\n",
        "print(s1.intersection(s2)) # 교집합\n",
        "print(s1.difference(s2)) # 차집합"
      ],
      "metadata": {
        "colab": {
          "base_uri": "https://localhost:8080/"
        },
        "id": "dYrtJoNyhqIP",
        "outputId": "225b0554-92a9-4119-a0ab-215a67c84c31"
      },
      "execution_count": null,
      "outputs": [
        {
          "output_type": "stream",
          "name": "stdout",
          "text": [
            "{1, 2, 3, 4, 5, 6}\n",
            "{2, 3}\n",
            "{1, 4}\n"
          ]
        }
      ]
    },
    {
      "cell_type": "code",
      "source": [
        "print(s1 | s2) # 합집합 연산자\n",
        "print(s1 & s2) # 교집합 연산자\n",
        "print(s1 - s2) # 차집합 연산자"
      ],
      "metadata": {
        "colab": {
          "base_uri": "https://localhost:8080/"
        },
        "id": "9HlWMs5giRtu",
        "outputId": "25c816f0-0f62-4f84-dfeb-42ca57529f9d"
      },
      "execution_count": null,
      "outputs": [
        {
          "output_type": "stream",
          "name": "stdout",
          "text": [
            "{1, 2, 3, 4, 5, 6}\n",
            "{2, 3}\n",
            "{1, 4}\n"
          ]
        }
      ]
    }
  ]
}