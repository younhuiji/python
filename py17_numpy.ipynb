{
  "nbformat": 4,
  "nbformat_minor": 0,
  "metadata": {
    "colab": {
      "provenance": [],
      "include_colab_link": true
    },
    "kernelspec": {
      "name": "python3",
      "display_name": "Python 3"
    },
    "language_info": {
      "name": "python"
    }
  },
  "cells": [
    {
      "cell_type": "markdown",
      "metadata": {
        "id": "view-in-github",
        "colab_type": "text"
      },
      "source": [
        "<a href=\"https://colab.research.google.com/github/younhuiji/python/blob/main/py17_numpy.ipynb\" target=\"_parent\"><img src=\"https://colab.research.google.com/assets/colab-badge.svg\" alt=\"Open In Colab\"/></a>"
      ]
    },
    {
      "cell_type": "markdown",
      "source": [
        "# 데이터 분석 패키지\n",
        "\n",
        "* NumPy: 다차원 배열(n-dimensional array)을 다루는 패키지. 머신 러닝에서 중요하게 사용됨.\n",
        "* pandas: 시리즈(Series)와 데이터프레임(DataFrame)을 다루는 패키지. 데이터 분석에서 기본으로 사용하는 패키지.\n",
        "* matplotlib: 데이터 시각화(그래프).\n",
        "* seaborn: 데이터 시각화.\n",
        "\n",
        "Google Colab에는 데이터 분석과 머신 러닝에 필요한 대부분의 패키지들이 이미 설치되어 있음."
      ],
      "metadata": {
        "id": "VlLD2FzN400r"
      }
    },
    {
      "cell_type": "code",
      "source": [
        "from google.colab import drive\n",
        "drive.mount('/content/drive')"
      ],
      "metadata": {
        "colab": {
          "base_uri": "https://localhost:8080/"
        },
        "id": "sKD9L5lpiDfX",
        "outputId": "ea0490f4-2b14-43f1-bf2f-2fd15b5170e7"
      },
      "execution_count": null,
      "outputs": [
        {
          "output_type": "stream",
          "name": "stdout",
          "text": [
            "Drive already mounted at /content/drive; to attempt to forcibly remount, call drive.mount(\"/content/drive\", force_remount=True).\n"
          ]
        }
      ]
    },
    {
      "cell_type": "code",
      "execution_count": null,
      "metadata": {
        "id": "CRdGs9lY4r1E"
      },
      "outputs": [],
      "source": [
        "import numpy as np\n",
        "import pandas as pd\n",
        "import matplotlib\n",
        "import seaborn as sns"
      ]
    },
    {
      "cell_type": "code",
      "source": [
        "print('NumPy version:', np.__version__)\n",
        "print('pandas version:', pd.__version__)\n",
        "print('matplotlib version:', matplotlib.__version__)\n",
        "print('seaborn version:', sns.__version__)"
      ],
      "metadata": {
        "colab": {
          "base_uri": "https://localhost:8080/"
        },
        "id": "8B2szpPk7PQ8",
        "outputId": "9d2ae72a-e7f2-4a81-b48b-f6997d89c848"
      },
      "execution_count": null,
      "outputs": [
        {
          "output_type": "stream",
          "name": "stdout",
          "text": [
            "NumPy version: 1.21.6\n",
            "pandas version: 1.3.5\n",
            "matplotlib version: 3.2.2\n",
            "seaborn version: 0.11.2\n"
          ]
        }
      ]
    },
    {
      "cell_type": "markdown",
      "source": [
        "# Python `list` class\n",
        "\n",
        "* 여러개의 값들을 저장할 수 있는 데이터 타입\n",
        "* 인덱스를 기반으로 값들을 저장, 참조.\n",
        "    * indexing: 인덱스로 원하는 위치의 값을 참조, 변경.\n",
        "    * slicing: `[start:end)` 인덱스 범위의 값들로 이루어진 부분집합(리스트)를 잘라냄.\n",
        "* `list + list`: extend. 2개의 리스트를 이어붙여서 하나의 리스트로 만듦.\n",
        "* `list * int, int * list`: 리스트의 원소들을 정수만큼 반복해서 복제.\n"
      ],
      "metadata": {
        "id": "2rtLNAdh8Ig6"
      }
    },
    {
      "cell_type": "code",
      "source": [
        "list1 = [1, 2, 3, 4, 5]\n",
        "list2 = [10, 20, 30, 40, 50]"
      ],
      "metadata": {
        "id": "NxqyGKa37utk"
      },
      "execution_count": null,
      "outputs": []
    },
    {
      "cell_type": "code",
      "source": [
        "# indexing\n",
        "print(list1[0])\n",
        "print(list1[-1], list1[4])"
      ],
      "metadata": {
        "colab": {
          "base_uri": "https://localhost:8080/"
        },
        "id": "UC5UOiPN9jyk",
        "outputId": "0368fac4-1c28-4c4f-d585-d1f9ff976e3b"
      },
      "execution_count": null,
      "outputs": [
        {
          "output_type": "stream",
          "name": "stdout",
          "text": [
            "1\n",
            "5 5\n"
          ]
        }
      ]
    },
    {
      "cell_type": "code",
      "source": [
        "# slicing\n",
        "print(list1[:3])  # list1[0:3]\n",
        "print(list1[-3:], list1[2:], list1[2:5])"
      ],
      "metadata": {
        "colab": {
          "base_uri": "https://localhost:8080/"
        },
        "id": "ZWJcCPVI9vtp",
        "outputId": "69b9532e-23cd-4c41-dac9-baebd507c2ac"
      },
      "execution_count": null,
      "outputs": [
        {
          "output_type": "stream",
          "name": "stdout",
          "text": [
            "[1, 2, 3]\n",
            "[3, 4, 5] [3, 4, 5] [3, 4, 5]\n"
          ]
        }
      ]
    },
    {
      "cell_type": "code",
      "source": [
        "list1 + list2"
      ],
      "metadata": {
        "colab": {
          "base_uri": "https://localhost:8080/"
        },
        "id": "gTYXKAW5-Zxa",
        "outputId": "e08aeeb5-db0d-4df5-e638-892f50462d6d"
      },
      "execution_count": null,
      "outputs": [
        {
          "output_type": "execute_result",
          "data": {
            "text/plain": [
              "[1, 2, 3, 4, 5, 10, 20, 30, 40, 50]"
            ]
          },
          "metadata": {},
          "execution_count": 7
        }
      ]
    },
    {
      "cell_type": "code",
      "source": [
        "list1.extend(list2)"
      ],
      "metadata": {
        "id": "qIbbc29A-cK5"
      },
      "execution_count": null,
      "outputs": []
    },
    {
      "cell_type": "code",
      "source": [
        "list1"
      ],
      "metadata": {
        "colab": {
          "base_uri": "https://localhost:8080/"
        },
        "id": "xADJUWNl-ie5",
        "outputId": "69cd05a2-4f3c-4fe6-d7f7-b3fbafb932b0"
      },
      "execution_count": null,
      "outputs": [
        {
          "output_type": "execute_result",
          "data": {
            "text/plain": [
              "[1, 2, 3, 4, 5, 10, 20, 30, 40, 50]"
            ]
          },
          "metadata": {},
          "execution_count": 9
        }
      ]
    },
    {
      "cell_type": "code",
      "source": [
        "list2 * 2"
      ],
      "metadata": {
        "colab": {
          "base_uri": "https://localhost:8080/"
        },
        "id": "PqGYPJou-4cq",
        "outputId": "f1ceb36c-8594-4de7-c7c5-14200d5ea154"
      },
      "execution_count": null,
      "outputs": [
        {
          "output_type": "execute_result",
          "data": {
            "text/plain": [
              "[10, 20, 30, 40, 50, 10, 20, 30, 40, 50]"
            ]
          },
          "metadata": {},
          "execution_count": 10
        }
      ]
    },
    {
      "cell_type": "code",
      "source": [
        "2 * list2"
      ],
      "metadata": {
        "colab": {
          "base_uri": "https://localhost:8080/"
        },
        "id": "JeJfUUXl-6vi",
        "outputId": "040a9776-f4ba-48cc-8929-36cac0c6f1a8"
      },
      "execution_count": null,
      "outputs": [
        {
          "output_type": "execute_result",
          "data": {
            "text/plain": [
              "[10, 20, 30, 40, 50, 10, 20, 30, 40, 50]"
            ]
          },
          "metadata": {},
          "execution_count": 11
        }
      ]
    },
    {
      "cell_type": "code",
      "source": [
        "list1 = [1, 2, 3]\n",
        "list2 = [4, 5, 7]\n",
        "\n",
        "# 같은 인덱스(위치)의 원소들끼리 덧셈\n",
        "[x + y for x, y in zip(list1, list2)]"
      ],
      "metadata": {
        "colab": {
          "base_uri": "https://localhost:8080/"
        },
        "id": "OTRRESvi_gda",
        "outputId": "3a974d27-aa07-4809-8a0f-490a34bc8981"
      },
      "execution_count": null,
      "outputs": [
        {
          "output_type": "execute_result",
          "data": {
            "text/plain": [
              "[5, 7, 10]"
            ]
          },
          "metadata": {},
          "execution_count": 12
        }
      ]
    },
    {
      "cell_type": "markdown",
      "source": [
        "# NumPy\n",
        "\n",
        "* Numerical Python\n",
        "* 배열(`ndarray`)을 쉽고 빠르게 연산(`+, -, *, /, ...`)을 할 수 있는 라이브러리.\n",
        "* NumPy 패키지의 함수 또는 메서드들은 대부분 반복문의 기능을 가지고 있음.\n",
        "* `np.ndarray` 클래스: NumPy 패키지의 기본 타입 클래스. n차원 배열(n-dimensional array).\n",
        "    * `ndarray`는 같은 인덱스(위치)의 원소들끼리(element-wise) 연산을 수행.\n"
      ],
      "metadata": {
        "id": "8aYvEtakAG52"
      }
    },
    {
      "cell_type": "code",
      "source": [
        "array1 = np.array([1, 2, 3])"
      ],
      "metadata": {
        "id": "aPfrat_0_sLi"
      },
      "execution_count": null,
      "outputs": []
    },
    {
      "cell_type": "code",
      "source": [
        "type(array1)"
      ],
      "metadata": {
        "colab": {
          "base_uri": "https://localhost:8080/"
        },
        "id": "o9_m8DvWBlHy",
        "outputId": "e6a4268d-8524-46d4-cd51-f251b3ab15f8"
      },
      "execution_count": null,
      "outputs": [
        {
          "output_type": "execute_result",
          "data": {
            "text/plain": [
              "numpy.ndarray"
            ]
          },
          "metadata": {},
          "execution_count": 14
        }
      ]
    },
    {
      "cell_type": "code",
      "source": [
        "print(array1)  # print 함수는 __str__ 메서드 이용"
      ],
      "metadata": {
        "colab": {
          "base_uri": "https://localhost:8080/"
        },
        "id": "oUmqSp6rBmSK",
        "outputId": "f92ac59b-fea9-47aa-c695-884b37d15bd5"
      },
      "execution_count": null,
      "outputs": [
        {
          "output_type": "stream",
          "name": "stdout",
          "text": [
            "[1 2 3]\n"
          ]
        }
      ]
    },
    {
      "cell_type": "code",
      "source": [
        "array1  # expression 출력은 __repr__ 메서드 이용"
      ],
      "metadata": {
        "colab": {
          "base_uri": "https://localhost:8080/"
        },
        "id": "_ShSNEq2Bu0h",
        "outputId": "765e5ac9-cdd5-4257-f89e-016299cf0790"
      },
      "execution_count": null,
      "outputs": [
        {
          "output_type": "execute_result",
          "data": {
            "text/plain": [
              "array([1, 2, 3])"
            ]
          },
          "metadata": {},
          "execution_count": 16
        }
      ]
    },
    {
      "cell_type": "code",
      "source": [
        "array2 = np.array([10, 20, 30])"
      ],
      "metadata": {
        "id": "eTjvkatuCSO6"
      },
      "execution_count": null,
      "outputs": []
    },
    {
      "cell_type": "code",
      "source": [
        "# ndarry의 사칙연산: element-wise 연산\n",
        "print(array1 + array2)\n",
        "print(array1 - array2)\n",
        "print(array1 * array2)\n",
        "print(array1 / array2)"
      ],
      "metadata": {
        "colab": {
          "base_uri": "https://localhost:8080/"
        },
        "id": "COJ5uNvwCWhr",
        "outputId": "535d9eff-3c7d-4310-fd8a-396de07387ec"
      },
      "execution_count": null,
      "outputs": [
        {
          "output_type": "stream",
          "name": "stdout",
          "text": [
            "[11 22 33]\n",
            "[ -9 -18 -27]\n",
            "[10 40 90]\n",
            "[0.1 0.1 0.1]\n"
          ]
        }
      ]
    },
    {
      "cell_type": "markdown",
      "source": [
        "## `ndarray` 속성들"
      ],
      "metadata": {
        "id": "E1SQyNfAUeo_"
      }
    },
    {
      "cell_type": "code",
      "source": [
        "print(array1)  # ndarray\n",
        "print('ndim:', array1.ndim)  # 차원(dimension): 축(axis)의 개수.\n",
        "print('size:', array1.size)  # 크기(원소의 개수)\n",
        "print('shape:', array1.shape)  # 모양(각 차원에서의 원소 개수. 각 축을 따라서 있는 원소의 개수)\n",
        "print('dtype:', array1.dtype)  # 데이터 타입 - ndarray는 한가지 타입의 값들만 저장."
      ],
      "metadata": {
        "colab": {
          "base_uri": "https://localhost:8080/"
        },
        "id": "BcmcqeIfUjKY",
        "outputId": "d632d30b-1b75-45f0-dd36-a63e010a98dc"
      },
      "execution_count": null,
      "outputs": [
        {
          "output_type": "stream",
          "name": "stdout",
          "text": [
            "[1 2 3]\n",
            "ndim: 1\n",
            "size: 3\n",
            "shape: (3,)\n",
            "dtype: int64\n"
          ]
        }
      ]
    },
    {
      "cell_type": "markdown",
      "source": [
        "\n",
        "* Python 숫자 타입: 정수(int), 실수(float)\n",
        "* np 숫자 타입: \n",
        "    * 정수(int8, int16, int32, int64, ...)\n",
        "    * 실수(float16, float32, float64, ...)\n"
      ],
      "metadata": {
        "id": "mJJswsteXQGn"
      }
    },
    {
      "cell_type": "markdown",
      "source": [
        "## 2차원 `ndarray`"
      ],
      "metadata": {
        "id": "CxDiOlEvYE5H"
      }
    },
    {
      "cell_type": "code",
      "source": [
        "array_2d = np.array([\n",
        "    [1, 2, 3, 4], \n",
        "    [5, 6, 7, 8], \n",
        "    [9, 10, 11, 12]\n",
        "    ])"
      ],
      "metadata": {
        "id": "Ud8aB1KVYHKG"
      },
      "execution_count": null,
      "outputs": []
    },
    {
      "cell_type": "code",
      "source": [
        "print(array_2d)"
      ],
      "metadata": {
        "colab": {
          "base_uri": "https://localhost:8080/"
        },
        "id": "ZTelY_lQYf0f",
        "outputId": "fce47aaa-19ba-43b2-cbbd-7a43f776acae"
      },
      "execution_count": null,
      "outputs": [
        {
          "output_type": "stream",
          "name": "stdout",
          "text": [
            "[[ 1  2  3  4]\n",
            " [ 5  6  7  8]\n",
            " [ 9 10 11 12]]\n"
          ]
        }
      ]
    },
    {
      "cell_type": "code",
      "source": [
        "print('ndim:', array_2d.ndim)  # 차원\n",
        "print('size:', array_2d.size)  # 크기\n",
        "print('shape:', array_2d.shape)  # 모양\n",
        "print('dtype:', array_2d.dtype)  # 데이터 타입"
      ],
      "metadata": {
        "colab": {
          "base_uri": "https://localhost:8080/"
        },
        "id": "WBoIMzrJYiHV",
        "outputId": "d7b17805-aeca-4e23-e4ca-f25e373300c4"
      },
      "execution_count": null,
      "outputs": [
        {
          "output_type": "stream",
          "name": "stdout",
          "text": [
            "ndim: 2\n",
            "size: 12\n",
            "shape: (3, 4)\n",
            "dtype: int64\n"
          ]
        }
      ]
    },
    {
      "cell_type": "markdown",
      "source": [
        "# `ndarray` 객체 생성 함수"
      ],
      "metadata": {
        "id": "SUa6ciYLbMe2"
      }
    },
    {
      "cell_type": "markdown",
      "source": [
        "`np.array(object, dtype=None, ...)`\n",
        "\n",
        "* object: 배열과 비슷한 객체들(list, tuple, set, dict, ndarray, ...). ndarry를 생성하기 위한 데이터.\n"
      ],
      "metadata": {
        "id": "7O2p-MesbZRN"
      }
    },
    {
      "cell_type": "code",
      "source": [
        "# 0 이상 10 이하(11 미만)의 짝수들로 이루어진 ndarray\n",
        "evens = np.array([2 * x for x in range(6)])  # list -> ndarray\n",
        "print(evens)"
      ],
      "metadata": {
        "colab": {
          "base_uri": "https://localhost:8080/"
        },
        "id": "nIa-wbldZSVu",
        "outputId": "2034cf14-e40e-4acf-bd21-70a58ac84010"
      },
      "execution_count": null,
      "outputs": [
        {
          "output_type": "stream",
          "name": "stdout",
          "text": [
            "[ 0  2  4  6  8 10]\n"
          ]
        }
      ]
    },
    {
      "cell_type": "markdown",
      "source": [
        "`np.arange(start, end, step)`\n",
        "\n",
        "* `range(start, end, step)` 함수 사용법과 같음.\n",
        "* 1차원 배열을 생성.\n"
      ],
      "metadata": {
        "id": "Dt__-QRVh_b9"
      }
    },
    {
      "cell_type": "code",
      "source": [
        "evens = np.arange(0, 11, 2)\n",
        "print(evens)"
      ],
      "metadata": {
        "colab": {
          "base_uri": "https://localhost:8080/"
        },
        "id": "EIaLJRFgeL3v",
        "outputId": "ffce7381-66f5-4742-e5c7-9e01ae36b35a"
      },
      "execution_count": null,
      "outputs": [
        {
          "output_type": "stream",
          "name": "stdout",
          "text": [
            "[ 0  2  4  6  8 10]\n"
          ]
        }
      ]
    },
    {
      "cell_type": "markdown",
      "source": [
        "`np.reshape(array, shape)` 함수\n",
        "\n",
        "`np.ndarray.reshape(shape)` 메서드"
      ],
      "metadata": {
        "id": "YERgI1K5iyhE"
      }
    },
    {
      "cell_type": "code",
      "source": [
        "arr = np.arange(12)  # [0, 12) 범위의 정수들로 이루어진 1차원 배열\n",
        "print(arr)"
      ],
      "metadata": {
        "colab": {
          "base_uri": "https://localhost:8080/"
        },
        "id": "JDscbo_TirRF",
        "outputId": "2e81acec-dca0-437c-e49f-37dcf193da91"
      },
      "execution_count": null,
      "outputs": [
        {
          "output_type": "stream",
          "name": "stdout",
          "text": [
            "[ 0  1  2  3  4  5  6  7  8  9 10 11]\n"
          ]
        }
      ]
    },
    {
      "cell_type": "code",
      "source": [
        "arr2 = np.reshape(arr, (3, 4))  # 함수 호출: (12,) -> (3, 4) 모양 변환.\n",
        "print(arr2)"
      ],
      "metadata": {
        "colab": {
          "base_uri": "https://localhost:8080/"
        },
        "id": "_DL_a83CkHIs",
        "outputId": "a839f5ee-7cad-4791-ddfa-bc38cb4ca776"
      },
      "execution_count": null,
      "outputs": [
        {
          "output_type": "stream",
          "name": "stdout",
          "text": [
            "[[ 0  1  2  3]\n",
            " [ 4  5  6  7]\n",
            " [ 8  9 10 11]]\n"
          ]
        }
      ]
    },
    {
      "cell_type": "code",
      "source": [
        "arr.reshape((3, 4))  # 메서드 호출"
      ],
      "metadata": {
        "colab": {
          "base_uri": "https://localhost:8080/"
        },
        "id": "_9weOHJWkZds",
        "outputId": "d866e6b3-4c8a-4af4-91c0-cad609e3f980"
      },
      "execution_count": null,
      "outputs": [
        {
          "output_type": "execute_result",
          "data": {
            "text/plain": [
              "array([[ 0,  1,  2,  3],\n",
              "       [ 4,  5,  6,  7],\n",
              "       [ 8,  9, 10, 11]])"
            ]
          },
          "metadata": {},
          "execution_count": 27
        }
      ]
    },
    {
      "cell_type": "code",
      "source": [
        "np.arange(12).reshape((4, 3))  # 함수 호출 결과에서 메서드 호출"
      ],
      "metadata": {
        "colab": {
          "base_uri": "https://localhost:8080/"
        },
        "id": "RpH8gVldlBVO",
        "outputId": "1e45160b-88e2-4e28-f2fa-39333dc7f1fa"
      },
      "execution_count": null,
      "outputs": [
        {
          "output_type": "execute_result",
          "data": {
            "text/plain": [
              "array([[ 0,  1,  2],\n",
              "       [ 3,  4,  5],\n",
              "       [ 6,  7,  8],\n",
              "       [ 9, 10, 11]])"
            ]
          },
          "metadata": {},
          "execution_count": 28
        }
      ]
    },
    {
      "cell_type": "markdown",
      "source": [
        "`np.random.rand(d0, d1, d2, ...)` 함수\n",
        "\n",
        "* `[0, 1)` 범위의 균등분포를 따르는 난수들로 이루어진 ndarray를 만듦.\n",
        "* `d0, d1, d2, ...`: ndarray에서 각 차원의(각 축을 따라서 있는) 원소들의 개수.\n"
      ],
      "metadata": {
        "id": "XPu_qualmHaK"
      }
    },
    {
      "cell_type": "code",
      "source": [
        "np.random.rand(5)"
      ],
      "metadata": {
        "colab": {
          "base_uri": "https://localhost:8080/"
        },
        "id": "D9JWnDbXlzJt",
        "outputId": "87aaf914-afd6-4007-9cb7-6512770623c6"
      },
      "execution_count": null,
      "outputs": [
        {
          "output_type": "execute_result",
          "data": {
            "text/plain": [
              "array([0.05597076, 0.39846016, 0.11052873, 0.27603049, 0.9366838 ])"
            ]
          },
          "metadata": {},
          "execution_count": 29
        }
      ]
    },
    {
      "cell_type": "code",
      "source": [
        "np.random.rand(4, 3)"
      ],
      "metadata": {
        "colab": {
          "base_uri": "https://localhost:8080/"
        },
        "id": "IkEgQTaDnBkM",
        "outputId": "02a6c177-ea1f-4b23-ffb4-e238866be120"
      },
      "execution_count": null,
      "outputs": [
        {
          "output_type": "execute_result",
          "data": {
            "text/plain": [
              "array([[0.54619572, 0.63929372, 0.51332459],\n",
              "       [0.72955375, 0.1005061 , 0.90232767],\n",
              "       [0.39286028, 0.81867023, 0.88504645],\n",
              "       [0.5023681 , 0.51768922, 0.27715455]])"
            ]
          },
          "metadata": {},
          "execution_count": 30
        }
      ]
    },
    {
      "cell_type": "markdown",
      "source": [
        "`np.random.randn(d0, d1, d2, ...)` 함수\n",
        "\n",
        "* 평균이 0이고 표준편차가 1인 표준정규분포(standard noraml distribution)를 따르는 난수들의 배열을 만듦.\n",
        "* `d0, d1, d2, ...`: ndarry의 각 축을 따라서 있는 원소들의 개수.\n"
      ],
      "metadata": {
        "id": "xBhSPXLSnkgz"
      }
    },
    {
      "cell_type": "code",
      "source": [
        "np.random.randn(5)"
      ],
      "metadata": {
        "colab": {
          "base_uri": "https://localhost:8080/"
        },
        "id": "3k3qqRQinMgL",
        "outputId": "b95416aa-699f-4b60-8850-cc56fd103cbc"
      },
      "execution_count": null,
      "outputs": [
        {
          "output_type": "execute_result",
          "data": {
            "text/plain": [
              "array([-0.3138047 , -0.77941709, -1.0250238 , -0.12721307, -0.42574223])"
            ]
          },
          "metadata": {},
          "execution_count": 31
        }
      ]
    },
    {
      "cell_type": "code",
      "source": [
        "np.random.randn(3, 4)"
      ],
      "metadata": {
        "colab": {
          "base_uri": "https://localhost:8080/"
        },
        "id": "b9ws2egpoThU",
        "outputId": "dcbe2d8d-8169-4b34-d9e9-6dcec64363d4"
      },
      "execution_count": null,
      "outputs": [
        {
          "output_type": "execute_result",
          "data": {
            "text/plain": [
              "array([[-0.19387616, -1.74010749, -0.60221357,  0.03588555],\n",
              "       [ 0.17070456, -0.05773067, -0.61631497, -1.08057968],\n",
              "       [ 1.30982835, -0.01550804, -1.67991761, -0.7534159 ]])"
            ]
          },
          "metadata": {},
          "execution_count": 32
        }
      ]
    },
    {
      "cell_type": "markdown",
      "source": [
        "`np.random.randint(low, high, size, dtype)` 함수\n",
        "\n",
        "* `[low, high)` 범위의 균등분포를 따르는 정수 난수들의 배열 만듦.\n",
        "* `size`: ndarray의 *모양(shape)*. 정수 또는 정수들의 tuple.\n",
        "* `dtype`: ndarray 원소의 데이터 타입.\n"
      ],
      "metadata": {
        "id": "IRiqxHVIo8YM"
      }
    },
    {
      "cell_type": "code",
      "source": [
        "np.random.randint(0, 10, size=5)"
      ],
      "metadata": {
        "colab": {
          "base_uri": "https://localhost:8080/"
        },
        "id": "TBzV-6vzovia",
        "outputId": "faf5e5c3-486e-44d6-a18f-53962e3b4135"
      },
      "execution_count": null,
      "outputs": [
        {
          "output_type": "execute_result",
          "data": {
            "text/plain": [
              "array([2, 9, 1, 6, 4])"
            ]
          },
          "metadata": {},
          "execution_count": 33
        }
      ]
    },
    {
      "cell_type": "code",
      "source": [
        "np.random.randint(0, 10, size=(4, 3))"
      ],
      "metadata": {
        "colab": {
          "base_uri": "https://localhost:8080/"
        },
        "id": "xBBxT9Olp9LE",
        "outputId": "bb3abcfb-68a9-47e3-f2a9-82342ffd8e42"
      },
      "execution_count": null,
      "outputs": [
        {
          "output_type": "execute_result",
          "data": {
            "text/plain": [
              "array([[7, 4, 0],\n",
              "       [8, 4, 2],\n",
              "       [9, 3, 4],\n",
              "       [8, 0, 4]])"
            ]
          },
          "metadata": {},
          "execution_count": 34
        }
      ]
    },
    {
      "cell_type": "markdown",
      "source": [
        "# `ndarray`를 사용한 수학 그래프"
      ],
      "metadata": {
        "id": "UitFS_2yqW0i"
      }
    },
    {
      "cell_type": "code",
      "source": [
        "x = np.arange(-2, 3)\n",
        "print(x)"
      ],
      "metadata": {
        "colab": {
          "base_uri": "https://localhost:8080/"
        },
        "id": "Hx3u3ISFqFSy",
        "outputId": "60d97dc1-720f-476d-aa3c-7500afc9065a"
      },
      "execution_count": null,
      "outputs": [
        {
          "output_type": "stream",
          "name": "stdout",
          "text": [
            "[-2 -1  0  1  2]\n"
          ]
        }
      ]
    },
    {
      "cell_type": "code",
      "source": [
        "y = x ** 2\n",
        "print(y)"
      ],
      "metadata": {
        "colab": {
          "base_uri": "https://localhost:8080/"
        },
        "id": "lNQ1_MHhrJ8r",
        "outputId": "29c1f1ca-b013-4c1f-9c89-65a78865421f"
      },
      "execution_count": null,
      "outputs": [
        {
          "output_type": "stream",
          "name": "stdout",
          "text": [
            "[4 1 0 1 4]\n"
          ]
        }
      ]
    },
    {
      "cell_type": "code",
      "source": [
        "import matplotlib.pyplot as plt  # matplotlib.pyplot 모듈을 plt 이름으로 임포트"
      ],
      "metadata": {
        "id": "GjITTHlJrXuT"
      },
      "execution_count": null,
      "outputs": []
    },
    {
      "cell_type": "code",
      "source": [
        "plt.plot(x, y)\n",
        "plt.grid()\n",
        "plt.show()"
      ],
      "metadata": {
        "colab": {
          "base_uri": "https://localhost:8080/",
          "height": 265
        },
        "id": "AXVTzHzYrvRn",
        "outputId": "3d652c34-65f7-4830-f6d8-a0207754759b"
      },
      "execution_count": null,
      "outputs": [
        {
          "output_type": "display_data",
          "data": {
            "text/plain": [
              "<Figure size 432x288 with 1 Axes>"
            ],
            "image/png": "[encoded data removed]"
          },
          "metadata": {
            "needs_background": "light"
          }
        }
      ]
    },
    {
      "cell_type": "code",
      "source": [
        "x = np.arange(-2, 2, 0.0001)\n",
        "print(x)\n",
        "y = x ** 2\n",
        "print(y)"
      ],
      "metadata": {
        "colab": {
          "base_uri": "https://localhost:8080/"
        },
        "id": "fvFnIcLQsQ6T",
        "outputId": "3e166ac7-fbf8-46c1-fca2-c5fe2c121054"
      },
      "execution_count": null,
      "outputs": [
        {
          "output_type": "stream",
          "name": "stdout",
          "text": [
            "[-2.     -1.9999 -1.9998 ...  1.9997  1.9998  1.9999]\n",
            "[4.         3.99960001 3.99920004 ... 3.99880009 3.99920004 3.99960001]\n"
          ]
        }
      ]
    },
    {
      "cell_type": "code",
      "source": [
        "plt.plot(x, y)\n",
        "plt.grid()\n",
        "plt.show()"
      ],
      "metadata": {
        "colab": {
          "base_uri": "https://localhost:8080/",
          "height": 265
        },
        "id": "2uxspAT6se8T",
        "outputId": "2f6bb290-3f9a-4740-f912-8a8e3890fedd"
      },
      "execution_count": null,
      "outputs": [
        {
          "output_type": "display_data",
          "data": {
            "text/plain": [
              "<Figure size 432x288 with 1 Axes>"
            ],
            "image/png": "[encoded data removed]"
          },
          "metadata": {
            "needs_background": "light"
          }
        }
      ]
    },
    {
      "cell_type": "markdown",
      "source": [
        "# `ndarray` 인덱스"
      ],
      "metadata": {
        "id": "yi5sr0sEx2ka"
      }
    },
    {
      "cell_type": "markdown",
      "source": [
        "## indexing, slicing"
      ],
      "metadata": {
        "id": "3EnptblJyAqq"
      }
    },
    {
      "cell_type": "code",
      "source": [
        "arr = np.arange(10)\n",
        "print(arr)"
      ],
      "metadata": {
        "colab": {
          "base_uri": "https://localhost:8080/"
        },
        "id": "W6Gy41OTyC5T",
        "outputId": "17603596-928b-4b80-88eb-bb3b251f9db6"
      },
      "execution_count": null,
      "outputs": [
        {
          "output_type": "stream",
          "name": "stdout",
          "text": [
            "[0 1 2 3 4 5 6 7 8 9]\n"
          ]
        }
      ]
    },
    {
      "cell_type": "code",
      "source": [
        "# indexing\n",
        "print(arr[0])  # 배열의 첫번째 원소\n",
        "print(arr[9])  # 배열의 마지막 원소\n",
        "print(arr[-1])  # ndarray도 list와 마찬가지로 음수 인덱스를 사용할 수 있음."
      ],
      "metadata": {
        "colab": {
          "base_uri": "https://localhost:8080/"
        },
        "id": "AUBZPCF9yJAC",
        "outputId": "4eca5b7b-c31d-4c1f-b341-1f8b1d82f3ff"
      },
      "execution_count": null,
      "outputs": [
        {
          "output_type": "stream",
          "name": "stdout",
          "text": [
            "0\n",
            "9\n",
            "9\n"
          ]
        }
      ]
    },
    {
      "cell_type": "code",
      "source": [
        "# slicing\n",
        "print(arr[0:3])  # 배열에서 첫 3개의 원소를 잘라냄.\n",
        "print(arr[:3])  # 시작 인덱스를 생략하면 0부터 잘라냄.\n",
        "print(arr[-3:])  # 종료 인덱스를 생략하면 마지막 원소까지 잘라냄."
      ],
      "metadata": {
        "colab": {
          "base_uri": "https://localhost:8080/"
        },
        "id": "Oh-vU4OwybmB",
        "outputId": "d9a509f2-1c47-4350-9743-0f993a76c3f6"
      },
      "execution_count": null,
      "outputs": [
        {
          "output_type": "stream",
          "name": "stdout",
          "text": [
            "[0 1 2]\n",
            "[0 1 2]\n",
            "[7 8 9]\n"
          ]
        }
      ]
    },
    {
      "cell_type": "code",
      "source": [
        "# ndarray를 slicing한 결과는 ndarray.\n",
        "print(arr[:1])  # slicing -> ndarray\n",
        "print(arr[0])  # indexing -> 원소 1개"
      ],
      "metadata": {
        "colab": {
          "base_uri": "https://localhost:8080/"
        },
        "id": "yDyODILwy575",
        "outputId": "937bb39d-6527-4c2a-bd70-6d474fa692d9"
      },
      "execution_count": null,
      "outputs": [
        {
          "output_type": "stream",
          "name": "stdout",
          "text": [
            "[0]\n",
            "0\n"
          ]
        }
      ]
    },
    {
      "cell_type": "markdown",
      "source": [
        "## fancy indexing\n",
        "\n",
        "* 배열과 비슷한 객체(ndarray, list, tuple, set, ...)를 사용해서 원하는 원소들을 참조(indexing)하는 방법.\n",
        "* fancy indexing의 결과는 ndarray.\n"
      ],
      "metadata": {
        "id": "pwErDnQrzxBq"
      }
    },
    {
      "cell_type": "code",
      "source": [
        "np.random.seed(1)  # 난수 만드는 순서를 고정.\n",
        "arr = np.random.randint(100, size=10)  # 100 미만의 정수 난수 10개\n",
        "print(arr)"
      ],
      "metadata": {
        "colab": {
          "base_uri": "https://localhost:8080/"
        },
        "id": "lF5K2YLc0TvB",
        "outputId": "c3994161-314d-4c1b-e8a5-93aa6f4f1723"
      },
      "execution_count": null,
      "outputs": [
        {
          "output_type": "stream",
          "name": "stdout",
          "text": [
            "[37 12 72  9 75  5 79 64 16  1]\n"
          ]
        }
      ]
    },
    {
      "cell_type": "code",
      "source": [
        "arr[[0, 2, 4, 9]]  # ndarry[인덱스들의 배열(리스트)]"
      ],
      "metadata": {
        "colab": {
          "base_uri": "https://localhost:8080/"
        },
        "id": "oPAXikcR0pWy",
        "outputId": "0229f375-bf3d-4cba-c715-d11f9b7b8bb6"
      },
      "execution_count": null,
      "outputs": [
        {
          "output_type": "execute_result",
          "data": {
            "text/plain": [
              "array([37, 72, 75,  1])"
            ]
          },
          "metadata": {},
          "execution_count": 46
        }
      ]
    },
    {
      "cell_type": "code",
      "source": [
        "arr[[0]]  # fancy indexing -> ndarray"
      ],
      "metadata": {
        "colab": {
          "base_uri": "https://localhost:8080/"
        },
        "id": "ZphcoTKg135h",
        "outputId": "31fc5b8a-ac40-4d81-91f7-5b203ac44867"
      },
      "execution_count": null,
      "outputs": [
        {
          "output_type": "execute_result",
          "data": {
            "text/plain": [
              "array([37])"
            ]
          },
          "metadata": {},
          "execution_count": 47
        }
      ]
    },
    {
      "cell_type": "markdown",
      "source": [
        "## boolean indexing\n",
        "\n",
        "* 논릿값(True/False)들의 배열(리스트, 튜플, ...)를 사용한 fancy indexing\n",
        "* 배열에서 조건을 만족하는 원소들로 이루어진 부분집합(ndarray)를 만듦.\n"
      ],
      "metadata": {
        "id": "OjTH8PLX2WtA"
      }
    },
    {
      "cell_type": "code",
      "source": [
        "print(arr)"
      ],
      "metadata": {
        "colab": {
          "base_uri": "https://localhost:8080/"
        },
        "id": "VfxAWIWS2WSJ",
        "outputId": "453db7b7-60fc-4c67-f44f-222220ad97a8"
      },
      "execution_count": null,
      "outputs": [
        {
          "output_type": "stream",
          "name": "stdout",
          "text": [
            "[37 12 72  9 75  5 79 64 16  1]\n"
          ]
        }
      ]
    },
    {
      "cell_type": "code",
      "source": [
        "indices = [True, False, False, True, True, True, True, False, False, True]  # bool들의 리스트"
      ],
      "metadata": {
        "id": "CENq0ZhD2wTJ"
      },
      "execution_count": null,
      "outputs": []
    },
    {
      "cell_type": "code",
      "source": [
        "arr[indices]"
      ],
      "metadata": {
        "colab": {
          "base_uri": "https://localhost:8080/"
        },
        "id": "63j1uxA53JpZ",
        "outputId": "adc007f5-08a2-401a-ccca-595407c1aaf1"
      },
      "execution_count": null,
      "outputs": [
        {
          "output_type": "execute_result",
          "data": {
            "text/plain": [
              "array([37,  9, 75,  5, 79,  1])"
            ]
          },
          "metadata": {},
          "execution_count": 50
        }
      ]
    },
    {
      "cell_type": "code",
      "source": [
        "# ndarry의 element-wise\n",
        "arr % 2 == 1"
      ],
      "metadata": {
        "colab": {
          "base_uri": "https://localhost:8080/"
        },
        "id": "bTxGiBMQ3MSJ",
        "outputId": "6a2a602c-2ca6-4ea2-eac0-1899c084648b"
      },
      "execution_count": null,
      "outputs": [
        {
          "output_type": "execute_result",
          "data": {
            "text/plain": [
              "array([ True, False, False,  True,  True,  True,  True, False, False,\n",
              "        True])"
            ]
          },
          "metadata": {},
          "execution_count": 51
        }
      ]
    },
    {
      "cell_type": "code",
      "source": [
        "arr[arr % 2 == 1]  # 조건을 만족하는 원소들로 이루어진 부분집합(ndarray)"
      ],
      "metadata": {
        "colab": {
          "base_uri": "https://localhost:8080/"
        },
        "id": "KB7oC6ml4NHa",
        "outputId": "de981a83-3936-45d9-b38f-f25942c76276"
      },
      "execution_count": null,
      "outputs": [
        {
          "output_type": "execute_result",
          "data": {
            "text/plain": [
              "array([37,  9, 75,  5, 79,  1])"
            ]
          },
          "metadata": {},
          "execution_count": 52
        }
      ]
    },
    {
      "cell_type": "markdown",
      "source": [
        "## 2차원 `ndarray`의 인덱스"
      ],
      "metadata": {
        "id": "IPN7cdsA45tp"
      }
    },
    {
      "cell_type": "markdown",
      "source": [
        "### 2차원 `list`의 인덱스 사용 방법 : `list[i][j]`"
      ],
      "metadata": {
        "id": "H1vU2rnf5BrB"
      }
    },
    {
      "cell_type": "code",
      "source": [
        "list_2d = [\n",
        "    [1, 2, 3, 4],\n",
        "    [5, 6, 7, 8],\n",
        "    [9, 10, 11, 12]\n",
        "]"
      ],
      "metadata": {
        "id": "urY4PkSv4P8x"
      },
      "execution_count": null,
      "outputs": []
    },
    {
      "cell_type": "code",
      "source": [
        "list_2d[0]"
      ],
      "metadata": {
        "colab": {
          "base_uri": "https://localhost:8080/"
        },
        "id": "SZBnYXbV5dN4",
        "outputId": "bfc0e28c-02fc-44b2-96f0-feceb21b6102"
      },
      "execution_count": null,
      "outputs": [
        {
          "output_type": "execute_result",
          "data": {
            "text/plain": [
              "[1, 2, 3, 4]"
            ]
          },
          "metadata": {},
          "execution_count": 54
        }
      ]
    },
    {
      "cell_type": "code",
      "source": [
        "list_2d[0][0]"
      ],
      "metadata": {
        "colab": {
          "base_uri": "https://localhost:8080/"
        },
        "id": "Hwnx4k815ijZ",
        "outputId": "f4c0955f-6071-4c9a-95f8-bd17f4ed5b60"
      },
      "execution_count": null,
      "outputs": [
        {
          "output_type": "execute_result",
          "data": {
            "text/plain": [
              "1"
            ]
          },
          "metadata": {},
          "execution_count": 55
        }
      ]
    },
    {
      "cell_type": "markdown",
      "source": [
        "### 2차원 `ndarray`의 인덱스 사용 방법:\n",
        "\n",
        "* `array[i][j]`\n",
        "* `array[i, j]`\n"
      ],
      "metadata": {
        "id": "OD1rZo9m50lK"
      }
    },
    {
      "cell_type": "code",
      "source": [
        "arr = np.arange(1, 13).reshape((3, 4))\n",
        "print(arr)"
      ],
      "metadata": {
        "colab": {
          "base_uri": "https://localhost:8080/"
        },
        "id": "Xdq-4tZZ5krY",
        "outputId": "225c3280-bb39-4f48-f555-715a9b7fb6f0"
      },
      "execution_count": null,
      "outputs": [
        {
          "output_type": "stream",
          "name": "stdout",
          "text": [
            "[[ 1  2  3  4]\n",
            " [ 5  6  7  8]\n",
            " [ 9 10 11 12]]\n"
          ]
        }
      ]
    },
    {
      "cell_type": "code",
      "source": [
        "arr[0][0]"
      ],
      "metadata": {
        "colab": {
          "base_uri": "https://localhost:8080/"
        },
        "id": "SB7-hpms6Qvh",
        "outputId": "d20d7598-5b51-4659-a69b-5c1456a30de0"
      },
      "execution_count": null,
      "outputs": [
        {
          "output_type": "execute_result",
          "data": {
            "text/plain": [
              "1"
            ]
          },
          "metadata": {},
          "execution_count": 57
        }
      ]
    },
    {
      "cell_type": "code",
      "source": [
        "arr[0, 0]"
      ],
      "metadata": {
        "colab": {
          "base_uri": "https://localhost:8080/"
        },
        "id": "hrCq_jUS6bK4",
        "outputId": "1ab13822-6aec-4146-f5e9-12b058d82b19"
      },
      "execution_count": null,
      "outputs": [
        {
          "output_type": "execute_result",
          "data": {
            "text/plain": [
              "1"
            ]
          },
          "metadata": {},
          "execution_count": 58
        }
      ]
    },
    {
      "cell_type": "markdown",
      "source": [
        "# NumPy 통계 함수/메서드\n",
        "\n",
        "* `np.function(array)` 함수\n",
        "* `np.ndarray.method()` 메서드\n"
      ],
      "metadata": {
        "id": "kxIP1cNM-iMw"
      }
    },
    {
      "cell_type": "code",
      "source": [
        "np.random.seed(1)\n",
        "arr = np.random.randint(100, size=5)"
      ],
      "metadata": {
        "id": "KA61lNQ56dso"
      },
      "execution_count": null,
      "outputs": []
    },
    {
      "cell_type": "code",
      "source": [
        "print(arr)"
      ],
      "metadata": {
        "colab": {
          "base_uri": "https://localhost:8080/"
        },
        "id": "7DIosNta_CP4",
        "outputId": "7168099d-7745-45d8-d95b-dca147f5e73b"
      },
      "execution_count": null,
      "outputs": [
        {
          "output_type": "stream",
          "name": "stdout",
          "text": [
            "[37 12 72  9 75]\n"
          ]
        }
      ]
    },
    {
      "cell_type": "code",
      "source": [
        "np.sum(arr)  # 함수"
      ],
      "metadata": {
        "colab": {
          "base_uri": "https://localhost:8080/"
        },
        "id": "xGcZd0wm_PJX",
        "outputId": "91360168-4b7a-49ac-b26f-a6ff7a7f4155"
      },
      "execution_count": null,
      "outputs": [
        {
          "output_type": "execute_result",
          "data": {
            "text/plain": [
              "205"
            ]
          },
          "metadata": {},
          "execution_count": 61
        }
      ]
    },
    {
      "cell_type": "code",
      "source": [
        "arr.sum()  # 메서드"
      ],
      "metadata": {
        "colab": {
          "base_uri": "https://localhost:8080/"
        },
        "id": "f99zKhD8_eWX",
        "outputId": "803aa3c0-c552-4809-be18-e5d60217357b"
      },
      "execution_count": null,
      "outputs": [
        {
          "output_type": "execute_result",
          "data": {
            "text/plain": [
              "205"
            ]
          },
          "metadata": {},
          "execution_count": 62
        }
      ]
    },
    {
      "cell_type": "code",
      "source": [
        "print('합계:', np.sum(arr), arr.sum())\n",
        "print('평균:', np.mean(arr), arr.mean())\n",
        "print('분산:', np.var(arr), arr.var())  # variance\n",
        "print('표준편차:', np.std(arr), arr.std())  # standard deviation\n",
        "print('최댓값:', np.max(arr), arr.max())\n",
        "print('최솟값:', np.min(arr), arr.min())\n",
        "print('중앙값:', np.median(arr))  # median() 기능은 ndarray의 메서드로 제공되지 않음.\n",
        "# 중앙값: 데이터를 오름차순 정렬했을 때 가운데 있는 값."
      ],
      "metadata": {
        "colab": {
          "base_uri": "https://localhost:8080/"
        },
        "id": "T_h3OaHFAI7H",
        "outputId": "7053a709-2154-4760-cc6b-aff6dafe57e6"
      },
      "execution_count": null,
      "outputs": [
        {
          "output_type": "stream",
          "name": "stdout",
          "text": [
            "합계: 205 205\n",
            "평균: 41.0 41.0\n",
            "분산: 799.6 799.6\n",
            "표준편차: 28.27719929554552 28.27719929554552\n",
            "최댓값: 75 75\n",
            "최솟값: 9 9\n",
            "중앙값: 37.0\n"
          ]
        }
      ]
    },
    {
      "cell_type": "code",
      "source": [
        "np.sort(arr)  # 배열을 (오름차순) 정렬한 새로운 배열을 리턴. 원본 배열은 변경되지 않음."
      ],
      "metadata": {
        "colab": {
          "base_uri": "https://localhost:8080/"
        },
        "id": "hiQ2LtT9AaYb",
        "outputId": "7350c773-f35d-4454-bc50-8c897e458822"
      },
      "execution_count": null,
      "outputs": [
        {
          "output_type": "execute_result",
          "data": {
            "text/plain": [
              "array([ 9, 12, 37, 72, 75])"
            ]
          },
          "metadata": {},
          "execution_count": 64
        }
      ]
    },
    {
      "cell_type": "code",
      "source": [
        "arr.sort() # 원본 배열을 정렬해서 변경! 리턴 값은 없음."
      ],
      "metadata": {
        "id": "iQ7BD772CssI"
      },
      "execution_count": null,
      "outputs": []
    },
    {
      "cell_type": "code",
      "source": [
        "arr"
      ],
      "metadata": {
        "colab": {
          "base_uri": "https://localhost:8080/"
        },
        "id": "FYEH6gljDJs3",
        "outputId": "9b7f0b14-b101-40fe-e808-103670cc4de2"
      },
      "execution_count": null,
      "outputs": [
        {
          "output_type": "execute_result",
          "data": {
            "text/plain": [
              "array([ 9, 12, 37, 72, 75])"
            ]
          },
          "metadata": {},
          "execution_count": 66
        }
      ]
    },
    {
      "cell_type": "code",
      "source": [
        "np.random.seed(1)\n",
        "arr = np.random.randint(100, size=5)\n",
        "print(arr)"
      ],
      "metadata": {
        "colab": {
          "base_uri": "https://localhost:8080/"
        },
        "id": "Dz09S6vLDKI3",
        "outputId": "c214b702-4248-4769-ff14-4fd16e3983d1"
      },
      "execution_count": null,
      "outputs": [
        {
          "output_type": "stream",
          "name": "stdout",
          "text": [
            "[37 12 72  9 75]\n"
          ]
        }
      ]
    },
    {
      "cell_type": "code",
      "source": [
        "print('argmax:', np.argmax(arr), arr.argmax())  # 최댓값의 인덱스\n",
        "print('argmin:', np.argmin(arr), arr.argmin())  # 최솟값의 인덱스"
      ],
      "metadata": {
        "colab": {
          "base_uri": "https://localhost:8080/"
        },
        "id": "660hzEktEWXA",
        "outputId": "7f4a9d02-e099-4ad0-a820-667de2c96eab"
      },
      "execution_count": null,
      "outputs": [
        {
          "output_type": "stream",
          "name": "stdout",
          "text": [
            "argmax: 4 4\n",
            "argmin: 3 3\n"
          ]
        }
      ]
    },
    {
      "cell_type": "markdown",
      "source": [
        "## 2차원 배열에서의 통계 함수/메서드"
      ],
      "metadata": {
        "id": "BY2dKJnwFOHX"
      }
    },
    {
      "cell_type": "code",
      "source": [
        "np.random.seed(2)\n",
        "arr = np.random.randint(100, size=(3, 4))\n",
        "print(arr)"
      ],
      "metadata": {
        "colab": {
          "base_uri": "https://localhost:8080/"
        },
        "id": "JIWqOftzFZSn",
        "outputId": "e03a5266-f708-40d3-a5ef-3d5e63bb2467"
      },
      "execution_count": null,
      "outputs": [
        {
          "output_type": "stream",
          "name": "stdout",
          "text": [
            "[[40 15 72 22]\n",
            " [43 82 75  7]\n",
            " [34 49 95 75]]\n"
          ]
        }
      ]
    },
    {
      "cell_type": "code",
      "source": [
        "np.sum(arr)  # axis=None: 축에 상관없이 모든 원소를 다 더함."
      ],
      "metadata": {
        "colab": {
          "base_uri": "https://localhost:8080/"
        },
        "id": "3dTlSWTIFkSu",
        "outputId": "f2cbd4b9-82db-4470-b0b2-dad62dfbc0e6"
      },
      "execution_count": null,
      "outputs": [
        {
          "output_type": "execute_result",
          "data": {
            "text/plain": [
              "609"
            ]
          },
          "metadata": {},
          "execution_count": 70
        }
      ]
    },
    {
      "cell_type": "code",
      "source": [
        "arr.sum()  # axis=None"
      ],
      "metadata": {
        "colab": {
          "base_uri": "https://localhost:8080/"
        },
        "id": "Jl_lZrlJGVnm",
        "outputId": "9d6d1d63-c8a2-4fd9-829f-61e9d647095b"
      },
      "execution_count": null,
      "outputs": [
        {
          "output_type": "execute_result",
          "data": {
            "text/plain": [
              "609"
            ]
          },
          "metadata": {},
          "execution_count": 71
        }
      ]
    },
    {
      "cell_type": "code",
      "source": [
        "np.sum(arr, axis=0)"
      ],
      "metadata": {
        "colab": {
          "base_uri": "https://localhost:8080/"
        },
        "id": "YFZEJtA4Gb0O",
        "outputId": "6c85153a-2126-42ff-c327-941f497ecdcf"
      },
      "execution_count": null,
      "outputs": [
        {
          "output_type": "execute_result",
          "data": {
            "text/plain": [
              "array([117, 146, 242, 104])"
            ]
          },
          "metadata": {},
          "execution_count": 72
        }
      ]
    },
    {
      "cell_type": "code",
      "source": [
        "np.sum(arr, axis=0, keepdims=True)"
      ],
      "metadata": {
        "colab": {
          "base_uri": "https://localhost:8080/"
        },
        "id": "V75CHOjaImI4",
        "outputId": "c01b3467-9ac0-483d-a479-1764be419217"
      },
      "execution_count": null,
      "outputs": [
        {
          "output_type": "execute_result",
          "data": {
            "text/plain": [
              "array([[117, 146, 242, 104]])"
            ]
          },
          "metadata": {},
          "execution_count": 73
        }
      ]
    },
    {
      "cell_type": "code",
      "source": [
        "np.sum(arr, axis=1)"
      ],
      "metadata": {
        "colab": {
          "base_uri": "https://localhost:8080/"
        },
        "id": "fZ6CWvX4HXKu",
        "outputId": "92e42f42-4406-4071-d418-2340766b4356"
      },
      "execution_count": null,
      "outputs": [
        {
          "output_type": "execute_result",
          "data": {
            "text/plain": [
              "array([149, 207, 253])"
            ]
          },
          "metadata": {},
          "execution_count": 74
        }
      ]
    },
    {
      "cell_type": "code",
      "source": [
        "np.sum(arr, axis=1, keepdims=True)"
      ],
      "metadata": {
        "colab": {
          "base_uri": "https://localhost:8080/"
        },
        "id": "otbtgVcMIJyP",
        "outputId": "0a2e6f83-8932-4e37-9562-995fd03ef9df"
      },
      "execution_count": null,
      "outputs": [
        {
          "output_type": "execute_result",
          "data": {
            "text/plain": [
              "array([[149],\n",
              "       [207],\n",
              "       [253]])"
            ]
          },
          "metadata": {},
          "execution_count": 75
        }
      ]
    }
  ]
}