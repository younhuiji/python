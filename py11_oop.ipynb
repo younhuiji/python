{
  "nbformat": 4,
  "nbformat_minor": 0,
  "metadata": {
    "colab": {
      "provenance": [],
      "authorship_tag": "ABX9TyOXZWRXcW8Y9vv5exSqRF1a",
      "include_colab_link": true
    },
    "kernelspec": {
      "name": "python3",
      "display_name": "Python 3"
    },
    "language_info": {
      "name": "python"
    }
  },
  "cells": [
    {
      "cell_type": "markdown",
      "metadata": {
        "id": "view-in-github",
        "colab_type": "text"
      },
      "source": [
        "<a href=\"https://colab.research.google.com/github/younhuiji/python/blob/main/py11_oop.ipynb\" target=\"_parent\"><img src=\"https://colab.research.google.com/assets/colab-badge.svg\" alt=\"Open In Colab\"/></a>"
      ]
    },
    {
      "cell_type": "markdown",
      "source": [
        "# 클래스 작성 연습\n",
        "* class Score\n",
        "    * 속성: korean, english, math\n",
        "    * 메서드: `__init__`, 총점, 평균, `__repr__`, `__eq__`\n",
        "* class Student\n",
        "    * 속성: stu_no, stu_name, score(Score 객체 타입)\n",
        "    * 메서드: `__init__`, `__repr__`"
      ],
      "metadata": {
        "id": "XxyRzqZaVYE5"
      }
    },
    {
      "cell_type": "code",
      "execution_count": null,
      "metadata": {
        "id": "hnmo8O4qUw_q"
      },
      "outputs": [],
      "source": [
        "class Score:\n",
        "    def __init__(self, korean=0, english=0, math=0): # 값을 넘기지 않아도 defalt 값으로 나올 수 있게\n",
        "        self.korean = korean\n",
        "        self.english = english\n",
        "        self.math = math\n",
        "        \n",
        "        # 결과 : <__main__.Score at 0x7f8dd4df91f0>\n",
        "\n",
        "    def __repr__(self):\n",
        "        return f'(국어={self.korean}, 영어={self.english}, 수학={self.math}), 총점={self.get_total()}, 평균={self.get_mean()}'   \n",
        "\n",
        "        # 결과 :  (국어=0, 영어=0, 수학=0), 총점=0, 평균=0.0\n",
        "\n",
        "    def __eq__(self, other):\n",
        "        return (self.korean == other.korean \n",
        "                and self.english == other.english \n",
        "                and self.math == other.math)\n",
        "        \n",
        "        # 결과 : print(score1 == score2) - True\n",
        "\n",
        "    def get_total(self):\n",
        "        return self.korean + self.english + self.math\n",
        "\n",
        "    def get_mean(self):\n",
        "        return self.get_total() / 3\n"
      ]
    },
    {
      "cell_type": "code",
      "source": [
        "score1 = Score()\n",
        "score1"
      ],
      "metadata": {
        "colab": {
          "base_uri": "https://localhost:8080/"
        },
        "id": "HsAjYGGxZLog",
        "outputId": "ad81d876-18e9-49b5-eb76-369d09c8221c"
      },
      "execution_count": null,
      "outputs": [
        {
          "output_type": "execute_result",
          "data": {
            "text/plain": [
              "(국어=0, 영어=0, 수학=0), 총점=0, 평균=0.0"
            ]
          },
          "metadata": {},
          "execution_count": 27
        }
      ]
    },
    {
      "cell_type": "code",
      "source": [
        "score2 = Score(korean=0, english=0, math=0)\n",
        "score2"
      ],
      "metadata": {
        "colab": {
          "base_uri": "https://localhost:8080/"
        },
        "id": "egE09baAadnI",
        "outputId": "54f38f3d-9adb-4350-c48e-181f3cb46880"
      },
      "execution_count": null,
      "outputs": [
        {
          "output_type": "execute_result",
          "data": {
            "text/plain": [
              "(국어=0, 영어=0, 수학=0), 총점=0, 평균=0.0"
            ]
          },
          "metadata": {},
          "execution_count": 28
        }
      ]
    },
    {
      "cell_type": "code",
      "source": [
        "score3 = Score(korean = 100, math=50)\n",
        "score3"
      ],
      "metadata": {
        "colab": {
          "base_uri": "https://localhost:8080/"
        },
        "id": "i9eD7NaAasDH",
        "outputId": "37d51c63-5d6a-49fe-8af1-325d4e8820d3"
      },
      "execution_count": null,
      "outputs": [
        {
          "output_type": "execute_result",
          "data": {
            "text/plain": [
              "(국어=100, 영어=0, 수학=50), 총점=150, 평균=50.0"
            ]
          },
          "metadata": {},
          "execution_count": 29
        }
      ]
    },
    {
      "cell_type": "code",
      "source": [
        "# __eq__메서드 테스트\n",
        "print(score1 == score2)\n",
        "print(score1 == score3)"
      ],
      "metadata": {
        "colab": {
          "base_uri": "https://localhost:8080/"
        },
        "id": "qUyNacEDdIxo",
        "outputId": "bc0cbe0b-76d5-4145-a916-0555b1d82dac"
      },
      "execution_count": null,
      "outputs": [
        {
          "output_type": "stream",
          "name": "stdout",
          "text": [
            "True\n",
            "False\n"
          ]
        }
      ]
    },
    {
      "cell_type": "code",
      "source": [
        "class Student:\n",
        "    def __init__(self, stu_no, stu_name, score):\n",
        "        self.stu_no = stu_no\n",
        "        self.stu_name = stu_name\n",
        "        self.score = score\n",
        "\n",
        "    def __repr__(self):\n",
        "        return f'번호={self.stu_no}, 이름={self.stu_name}, 성적={self.score}'"
      ],
      "metadata": {
        "id": "Dd8_Ya_Cimbl"
      },
      "execution_count": null,
      "outputs": []
    },
    {
      "cell_type": "code",
      "source": [
        "student1 = Student(1, '홍길동', score1)\n",
        "student1"
      ],
      "metadata": {
        "colab": {
          "base_uri": "https://localhost:8080/"
        },
        "id": "lF552eqvjnW6",
        "outputId": "931bb41d-01e4-48a2-be51-4debbe32b247"
      },
      "execution_count": null,
      "outputs": [
        {
          "output_type": "execute_result",
          "data": {
            "text/plain": [
              "번호=1, 이름=홍길동, 성적=(국어=0, 영어=0, 수학=0), 총점=0, 평균=0.0"
            ]
          },
          "metadata": {},
          "execution_count": 36
        }
      ]
    },
    {
      "cell_type": "code",
      "source": [
        "student2 = Student(2, '오쌤', Score())\n",
        "student2"
      ],
      "metadata": {
        "colab": {
          "base_uri": "https://localhost:8080/"
        },
        "id": "91ey2nCmkdqE",
        "outputId": "844dc3ed-1892-45d1-8458-9f3bf5b79159"
      },
      "execution_count": null,
      "outputs": [
        {
          "output_type": "execute_result",
          "data": {
            "text/plain": [
              "번호=2, 이름=오쌤, 성적=(국어=0, 영어=0, 수학=0), 총점=0, 평균=0.0"
            ]
          },
          "metadata": {},
          "execution_count": 39
        }
      ]
    },
    {
      "cell_type": "code",
      "source": [
        "student1.score == student2.score"
      ],
      "metadata": {
        "colab": {
          "base_uri": "https://localhost:8080/"
        },
        "id": "QomNvCkvk1vF",
        "outputId": "e39c3cb2-a869-476b-dfcf-742867e2db05"
      },
      "execution_count": null,
      "outputs": [
        {
          "output_type": "execute_result",
          "data": {
            "text/plain": [
              "True"
            ]
          },
          "metadata": {},
          "execution_count": 40
        }
      ]
    }
  ]
}