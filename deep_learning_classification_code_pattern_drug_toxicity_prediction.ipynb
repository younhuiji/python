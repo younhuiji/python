{
  "nbformat": 4,
  "nbformat_minor": 0,
  "metadata": {
    "colab": {
      "provenance": [],
      "include_colab_link": true
    },
    "kernelspec": {
      "name": "python3",
      "display_name": "Python 3"
    },
    "language_info": {
      "name": "python"
    },
    "accelerator": "GPU"
  },
  "cells": [
    {
      "cell_type": "markdown",
      "metadata": {
        "id": "view-in-github",
        "colab_type": "text"
      },
      "source": [
        "<a href=\"https://colab.research.google.com/github/younhuiji/python/blob/main/deep_learning_classification_code_pattern_drug_toxicity_prediction.ipynb\" target=\"_parent\"><img src=\"https://colab.research.google.com/assets/colab-badge.svg\" alt=\"Open In Colab\"/></a>"
      ]
    },
    {
      "cell_type": "code",
      "source": [],
      "metadata": {
        "id": "xoBDfu-XwGuC"
      },
      "execution_count": null,
      "outputs": []
    },
    {
      "cell_type": "markdown",
      "source": [
        "# 필요한 라이브러리 및 데이터 준비"
      ],
      "metadata": {
        "id": "tDqWVZs9wH8x"
      }
    },
    {
      "cell_type": "markdown",
      "source": [
        "### 라이브러리 설치하기"
      ],
      "metadata": {
        "id": "z-iGyw9Iwyms"
      }
    },
    {
      "cell_type": "code",
      "execution_count": null,
      "metadata": {
        "colab": {
          "base_uri": "https://localhost:8080/"
        },
        "id": "o4SDy_eQbbim",
        "outputId": "7e229049-ca26-4ee0-e31b-f4ec38754167"
      },
      "outputs": [
        {
          "output_type": "stream",
          "name": "stdout",
          "text": [
            "Looking in indexes: https://pypi.org/simple, https://us-python.pkg.dev/colab-wheels/public/simple/\n",
            "Collecting PyTDC\n",
            "  Downloading PyTDC-0.3.7.tar.gz (105 kB)\n",
            "\u001b[K     |████████████████████████████████| 105 kB 4.9 MB/s \n",
            "\u001b[?25hCollecting rdkit-pypi\n",
            "  Downloading rdkit_pypi-2022.3.5-cp37-cp37m-manylinux_2_17_x86_64.manylinux2014_x86_64.whl (36.8 MB)\n",
            "\u001b[K     |████████████████████████████████| 36.8 MB 37 kB/s \n",
            "\u001b[?25hCollecting fuzzywuzzy\n",
            "  Downloading fuzzywuzzy-0.18.0-py2.py3-none-any.whl (18 kB)\n",
            "Requirement already satisfied: numpy in /usr/local/lib/python3.7/dist-packages (from PyTDC) (1.21.6)\n",
            "Requirement already satisfied: pandas in /usr/local/lib/python3.7/dist-packages (from PyTDC) (1.3.5)\n",
            "Requirement already satisfied: tqdm in /usr/local/lib/python3.7/dist-packages (from PyTDC) (4.64.1)\n",
            "Requirement already satisfied: scikit-learn in /usr/local/lib/python3.7/dist-packages (from PyTDC) (1.0.2)\n",
            "Requirement already satisfied: seaborn in /usr/local/lib/python3.7/dist-packages (from PyTDC) (0.11.2)\n",
            "Requirement already satisfied: requests in /usr/local/lib/python3.7/dist-packages (from PyTDC) (2.23.0)\n",
            "Requirement already satisfied: python-dateutil>=2.7.3 in /usr/local/lib/python3.7/dist-packages (from pandas->PyTDC) (2.8.2)\n",
            "Requirement already satisfied: pytz>=2017.3 in /usr/local/lib/python3.7/dist-packages (from pandas->PyTDC) (2022.2.1)\n",
            "Requirement already satisfied: six>=1.5 in /usr/local/lib/python3.7/dist-packages (from python-dateutil>=2.7.3->pandas->PyTDC) (1.15.0)\n",
            "Requirement already satisfied: Pillow in /usr/local/lib/python3.7/dist-packages (from rdkit-pypi->PyTDC) (7.1.2)\n",
            "Requirement already satisfied: urllib3!=1.25.0,!=1.25.1,<1.26,>=1.21.1 in /usr/local/lib/python3.7/dist-packages (from requests->PyTDC) (1.24.3)\n",
            "Requirement already satisfied: idna<3,>=2.5 in /usr/local/lib/python3.7/dist-packages (from requests->PyTDC) (2.10)\n",
            "Requirement already satisfied: chardet<4,>=3.0.2 in /usr/local/lib/python3.7/dist-packages (from requests->PyTDC) (3.0.4)\n",
            "Requirement already satisfied: certifi>=2017.4.17 in /usr/local/lib/python3.7/dist-packages (from requests->PyTDC) (2022.6.15)\n",
            "Requirement already satisfied: threadpoolctl>=2.0.0 in /usr/local/lib/python3.7/dist-packages (from scikit-learn->PyTDC) (3.1.0)\n",
            "Requirement already satisfied: joblib>=0.11 in /usr/local/lib/python3.7/dist-packages (from scikit-learn->PyTDC) (1.1.0)\n",
            "Requirement already satisfied: scipy>=1.1.0 in /usr/local/lib/python3.7/dist-packages (from scikit-learn->PyTDC) (1.7.3)\n",
            "Requirement already satisfied: matplotlib>=2.2 in /usr/local/lib/python3.7/dist-packages (from seaborn->PyTDC) (3.2.2)\n",
            "Requirement already satisfied: pyparsing!=2.0.4,!=2.1.2,!=2.1.6,>=2.0.1 in /usr/local/lib/python3.7/dist-packages (from matplotlib>=2.2->seaborn->PyTDC) (3.0.9)\n",
            "Requirement already satisfied: cycler>=0.10 in /usr/local/lib/python3.7/dist-packages (from matplotlib>=2.2->seaborn->PyTDC) (0.11.0)\n",
            "Requirement already satisfied: kiwisolver>=1.0.1 in /usr/local/lib/python3.7/dist-packages (from matplotlib>=2.2->seaborn->PyTDC) (1.4.4)\n",
            "Requirement already satisfied: typing-extensions in /usr/local/lib/python3.7/dist-packages (from kiwisolver>=1.0.1->matplotlib>=2.2->seaborn->PyTDC) (4.1.1)\n",
            "Building wheels for collected packages: PyTDC\n",
            "  Building wheel for PyTDC (setup.py) ... \u001b[?25l\u001b[?25hdone\n",
            "  Created wheel for PyTDC: filename=PyTDC-0.3.7-py3-none-any.whl size=130431 sha256=9df1586d929c54aea62eed51eadf329c19a0eb35590574fc6367cd5b05701bc7\n",
            "  Stored in directory: /root/.cache/pip/wheels/b1/57/8c/6ba602de7712931152522d89857f2a8c83e6925700cfa28144\n",
            "Successfully built PyTDC\n",
            "Installing collected packages: rdkit-pypi, fuzzywuzzy, PyTDC\n",
            "Successfully installed PyTDC-0.3.7 fuzzywuzzy-0.18.0 rdkit-pypi-2022.3.5\n",
            "Looking in indexes: https://pypi.org/simple, https://us-python.pkg.dev/colab-wheels/public/simple/\n",
            "Collecting lifelines\n",
            "  Downloading lifelines-0.27.2-py3-none-any.whl (349 kB)\n",
            "\u001b[K     |████████████████████████████████| 349 kB 5.2 MB/s \n",
            "\u001b[?25hRequirement already satisfied: pandas>=1.0.0 in /usr/local/lib/python3.7/dist-packages (from lifelines) (1.3.5)\n",
            "Collecting formulaic>=0.2.2\n",
            "  Downloading formulaic-0.5.2-py3-none-any.whl (77 kB)\n",
            "\u001b[K     |████████████████████████████████| 77 kB 4.5 MB/s \n",
            "\u001b[?25hRequirement already satisfied: numpy>=1.14.0 in /usr/local/lib/python3.7/dist-packages (from lifelines) (1.21.6)\n",
            "Requirement already satisfied: scipy>=1.2.0 in /usr/local/lib/python3.7/dist-packages (from lifelines) (1.7.3)\n",
            "Requirement already satisfied: autograd>=1.3 in /usr/local/lib/python3.7/dist-packages (from lifelines) (1.4)\n",
            "Requirement already satisfied: matplotlib>=3.0 in /usr/local/lib/python3.7/dist-packages (from lifelines) (3.2.2)\n",
            "Collecting autograd-gamma>=0.3\n",
            "  Downloading autograd-gamma-0.5.0.tar.gz (4.0 kB)\n",
            "Requirement already satisfied: future>=0.15.2 in /usr/local/lib/python3.7/dist-packages (from autograd>=1.3->lifelines) (0.16.0)\n",
            "Collecting interface-meta>=1.2.0\n",
            "  Downloading interface_meta-1.3.0-py3-none-any.whl (14 kB)\n",
            "Requirement already satisfied: astor>=0.8 in /usr/local/lib/python3.7/dist-packages (from formulaic>=0.2.2->lifelines) (0.8.1)\n",
            "Collecting typing-extensions>=4.2.0\n",
            "  Downloading typing_extensions-4.3.0-py3-none-any.whl (25 kB)\n",
            "Requirement already satisfied: wrapt>=1.0 in /usr/local/lib/python3.7/dist-packages (from formulaic>=0.2.2->lifelines) (1.14.1)\n",
            "Requirement already satisfied: cached-property>=1.3.0 in /usr/local/lib/python3.7/dist-packages (from formulaic>=0.2.2->lifelines) (1.5.2)\n",
            "Collecting graphlib-backport>=1.0.0\n",
            "  Downloading graphlib_backport-1.0.3-py3-none-any.whl (5.1 kB)\n",
            "Requirement already satisfied: python-dateutil>=2.1 in /usr/local/lib/python3.7/dist-packages (from matplotlib>=3.0->lifelines) (2.8.2)\n",
            "Requirement already satisfied: pyparsing!=2.0.4,!=2.1.2,!=2.1.6,>=2.0.1 in /usr/local/lib/python3.7/dist-packages (from matplotlib>=3.0->lifelines) (3.0.9)\n",
            "Requirement already satisfied: cycler>=0.10 in /usr/local/lib/python3.7/dist-packages (from matplotlib>=3.0->lifelines) (0.11.0)\n",
            "Requirement already satisfied: kiwisolver>=1.0.1 in /usr/local/lib/python3.7/dist-packages (from matplotlib>=3.0->lifelines) (1.4.4)\n",
            "Requirement already satisfied: pytz>=2017.3 in /usr/local/lib/python3.7/dist-packages (from pandas>=1.0.0->lifelines) (2022.2.1)\n",
            "Requirement already satisfied: six>=1.5 in /usr/local/lib/python3.7/dist-packages (from python-dateutil>=2.1->matplotlib>=3.0->lifelines) (1.15.0)\n",
            "Building wheels for collected packages: autograd-gamma\n",
            "  Building wheel for autograd-gamma (setup.py) ... \u001b[?25l\u001b[?25hdone\n",
            "  Created wheel for autograd-gamma: filename=autograd_gamma-0.5.0-py3-none-any.whl size=4048 sha256=3bb083e4ce47d3b4da7e656607b1aa24e7c6596fae2ba77ef85da76eb6b020a9\n",
            "  Stored in directory: /root/.cache/pip/wheels/9f/01/ee/1331593abb5725ff7d8c1333aee93a50a1c29d6ddda9665c9f\n",
            "Successfully built autograd-gamma\n",
            "Installing collected packages: typing-extensions, interface-meta, graphlib-backport, formulaic, autograd-gamma, lifelines\n",
            "  Attempting uninstall: typing-extensions\n",
            "    Found existing installation: typing-extensions 4.1.1\n",
            "    Uninstalling typing-extensions-4.1.1:\n",
            "      Successfully uninstalled typing-extensions-4.1.1\n",
            "\u001b[31mERROR: pip's dependency resolver does not currently take into account all the packages that are installed. This behaviour is the source of the following dependency conflicts.\n",
            "thinc 8.1.0 requires typing-extensions<4.2.0,>=3.7.4.1; python_version < \"3.8\", but you have typing-extensions 4.3.0 which is incompatible.\n",
            "spacy 3.4.1 requires typing-extensions<4.2.0,>=3.7.4; python_version < \"3.8\", but you have typing-extensions 4.3.0 which is incompatible.\u001b[0m\n",
            "Successfully installed autograd-gamma-0.5.0 formulaic-0.5.2 graphlib-backport-1.0.3 interface-meta-1.3.0 lifelines-0.27.2 typing-extensions-4.3.0\n",
            "Looking in indexes: https://pypi.org/simple, https://us-python.pkg.dev/colab-wheels/public/simple/\n",
            "Requirement already satisfied: rdkit-pypi in /usr/local/lib/python3.7/dist-packages (2022.3.5)\n",
            "Requirement already satisfied: numpy in /usr/local/lib/python3.7/dist-packages (from rdkit-pypi) (1.21.6)\n",
            "Requirement already satisfied: Pillow in /usr/local/lib/python3.7/dist-packages (from rdkit-pypi) (7.1.2)\n"
          ]
        }
      ],
      "source": [
        "# 필요한 라이브러리 설치하기\n",
        "\n",
        "!pip install PyTDC\n",
        "!pip install lifelines\n",
        "!pip install rdkit-pypi"
      ]
    },
    {
      "cell_type": "code",
      "source": [],
      "metadata": {
        "id": "XR1iI6oMdkhj"
      },
      "execution_count": null,
      "outputs": []
    },
    {
      "cell_type": "markdown",
      "source": [
        "### 데이터 준비"
      ],
      "metadata": {
        "id": "FMZdQvcvwvWD"
      }
    },
    {
      "cell_type": "markdown",
      "source": [
        "# Toxicity Prediction Task Overview\n",
        "\n",
        "---\n",
        "\n",
        "**Definition**: Majority of the drugs have some extents of toxicity to the human organisms. This learning task aims to predict accurately various types of toxicity of a drug molecule towards human organisms.\n",
        "\n",
        "**Impact**: Toxicity is one of the primary causes of compound attrition. Study shows that approximately 70% of all toxicity-related attrition occurs preclinically (i.e., in cells, animals) while they are strongly predictive of toxicities in humans. This suggests that an early but accurate prediction of toxicity can significantly reduce the compound attribution and boost the likelihood of being marketed.\n",
        "\n",
        "**Generalization**: Similar to the ADME prediction, as the drug structures of interest evolve over time, toxicity prediction requires a model to generalize to a set of novel drugs with small structural similarity to the existing drug set.\n",
        "\n",
        "**Product**: Small-molecule.\n",
        "\n",
        "**Pipeline**: Efficacy and safety - lead development and optimization."
      ],
      "metadata": {
        "id": "Kaaov8vBxhz0"
      }
    },
    {
      "cell_type": "markdown",
      "source": [
        "### Acute Toxicity LD50\n",
        "**Dataset Description**: Acute toxicity LD50 measures the most conservative dose that can lead to lethal adverse effects. The higher the dose, the more lethal of a drug. This dataset is kindly provided by the authors of [1].\n",
        "\n",
        "**Task Description**: Regression. Given a drug SMILES string, predict its acute toxicity.\n",
        "\n",
        "**Dataset Statistics**: 7,385 drugs.\n",
        "\n"
      ],
      "metadata": {
        "id": "H9WIcyuBxydF"
      }
    },
    {
      "cell_type": "code",
      "source": [
        "from tdc.single_pred import Tox\n",
        "\n",
        "# TDC api를 이용하여 LD50 데이터 불러오기\n",
        "data = Tox(name = 'LD50_Zhu')\n",
        "# 불러온 데이터 train-valid-test로 나누기\n",
        "split = data.get_split()"
      ],
      "metadata": {
        "colab": {
          "base_uri": "https://localhost:8080/"
        },
        "id": "90CrPtOsbiyr",
        "outputId": "375c9af4-74e4-4f34-e03c-74462ad04b8a"
      },
      "execution_count": null,
      "outputs": [
        {
          "output_type": "stream",
          "name": "stderr",
          "text": [
            "Downloading...\n",
            "100%|██████████| 707k/707k [00:00<00:00, 4.89MiB/s]\n",
            "Loading...\n",
            "Done!\n"
          ]
        }
      ]
    },
    {
      "cell_type": "code",
      "source": [
        "# 나누어진 데이터 확인\n",
        "split.keys()"
      ],
      "metadata": {
        "colab": {
          "base_uri": "https://localhost:8080/"
        },
        "id": "IvVBfQibbqgi",
        "outputId": "ac87d9a7-753c-48d8-aa63-025e489caba9"
      },
      "execution_count": null,
      "outputs": [
        {
          "output_type": "execute_result",
          "data": {
            "text/plain": [
              "dict_keys(['train', 'valid', 'test'])"
            ]
          },
          "metadata": {},
          "execution_count": 3
        }
      ]
    },
    {
      "cell_type": "code",
      "source": [
        "# Train data\n",
        "split['train']"
      ],
      "metadata": {
        "colab": {
          "base_uri": "https://localhost:8080/",
          "height": 424
        },
        "id": "1xpiXtDKbryT",
        "outputId": "e24258e9-3ff2-40e9-8ed3-a0548b1062f6"
      },
      "execution_count": null,
      "outputs": [
        {
          "output_type": "execute_result",
          "data": {
            "text/plain": [
              "                                                Drug_ID  \\\n",
              "0                                    Methane, tribromo-   \n",
              "1                                     Bromoethene (9CI)   \n",
              "2                             1,1'-Biphenyl, hexabromo-   \n",
              "3               Isothiocyanic acid, p-bromophenyl ester   \n",
              "4                                       Benzene, bromo-   \n",
              "...                                                 ...   \n",
              "5165      Benzenesulfonic acid, 3,5-dimethyl-4-hydroxy-   \n",
              "5166  Isocyanic acid, (alpha,alpha,alpha-trifluoro-o...   \n",
              "5167  Propanenitrile, 3-((2-(acetyloxy)ethyl)phenyla...   \n",
              "5168  IH-Indene-1,3(2H)-dione, 2-(2-methyl-1-(2-(1-p...   \n",
              "5169           1-Propanone, 1-(2,4,6-trihydroxyphenyl)-   \n",
              "\n",
              "                                             Drug      Y  \n",
              "0                                       BrC(Br)Br  2.343  \n",
              "1                                           C=CBr  2.330  \n",
              "2           Brc1ccc(-c2ccc(Br)c(Br)c2Br)c(Br)c1Br  1.465  \n",
              "3                               S=C=Nc1ccc(Br)cc1  2.729  \n",
              "4                                      Brc1ccccc1  1.765  \n",
              "...                                           ...    ...  \n",
              "5165                    Cc1cc(S(=O)(=O)O)cc(C)c1O  1.883  \n",
              "5166                        O=C=Nc1ccccc1C(F)(F)F  1.427  \n",
              "5167                    CC(=O)OCCN(CCC#N)c1ccccc1  2.050  \n",
              "5168  CC1=CC(=C2C(=O)c3ccccc3C2=O)C=CN1CCN1CCCCC1  2.951  \n",
              "5169                       CCC(=O)c1c(O)cc(O)cc1O  1.884  \n",
              "\n",
              "[5170 rows x 3 columns]"
            ],
            "text/html": [
              "\n",
              "  <div id=\"df-bca1fe86-a00b-4c4f-9572-002e89c51c5d\">\n",
              "    <div class=\"colab-df-container\">\n",
              "      <div>\n",
              "<style scoped>\n",
              "    .dataframe tbody tr th:only-of-type {\n",
              "        vertical-align: middle;\n",
              "    }\n",
              "\n",
              "    .dataframe tbody tr th {\n",
              "        vertical-align: top;\n",
              "    }\n",
              "\n",
              "    .dataframe thead th {\n",
              "        text-align: right;\n",
              "    }\n",
              "</style>\n",
              "<table border=\"1\" class=\"dataframe\">\n",
              "  <thead>\n",
              "    <tr style=\"text-align: right;\">\n",
              "      <th></th>\n",
              "      <th>Drug_ID</th>\n",
              "      <th>Drug</th>\n",
              "      <th>Y</th>\n",
              "    </tr>\n",
              "  </thead>\n",
              "  <tbody>\n",
              "    <tr>\n",
              "      <th>0</th>\n",
              "      <td>Methane, tribromo-</td>\n",
              "      <td>BrC(Br)Br</td>\n",
              "      <td>2.343</td>\n",
              "    </tr>\n",
              "    <tr>\n",
              "      <th>1</th>\n",
              "      <td>Bromoethene (9CI)</td>\n",
              "      <td>C=CBr</td>\n",
              "      <td>2.330</td>\n",
              "    </tr>\n",
              "    <tr>\n",
              "      <th>2</th>\n",
              "      <td>1,1'-Biphenyl, hexabromo-</td>\n",
              "      <td>Brc1ccc(-c2ccc(Br)c(Br)c2Br)c(Br)c1Br</td>\n",
              "      <td>1.465</td>\n",
              "    </tr>\n",
              "    <tr>\n",
              "      <th>3</th>\n",
              "      <td>Isothiocyanic acid, p-bromophenyl ester</td>\n",
              "      <td>S=C=Nc1ccc(Br)cc1</td>\n",
              "      <td>2.729</td>\n",
              "    </tr>\n",
              "    <tr>\n",
              "      <th>4</th>\n",
              "      <td>Benzene, bromo-</td>\n",
              "      <td>Brc1ccccc1</td>\n",
              "      <td>1.765</td>\n",
              "    </tr>\n",
              "    <tr>\n",
              "      <th>...</th>\n",
              "      <td>...</td>\n",
              "      <td>...</td>\n",
              "      <td>...</td>\n",
              "    </tr>\n",
              "    <tr>\n",
              "      <th>5165</th>\n",
              "      <td>Benzenesulfonic acid, 3,5-dimethyl-4-hydroxy-</td>\n",
              "      <td>Cc1cc(S(=O)(=O)O)cc(C)c1O</td>\n",
              "      <td>1.883</td>\n",
              "    </tr>\n",
              "    <tr>\n",
              "      <th>5166</th>\n",
              "      <td>Isocyanic acid, (alpha,alpha,alpha-trifluoro-o...</td>\n",
              "      <td>O=C=Nc1ccccc1C(F)(F)F</td>\n",
              "      <td>1.427</td>\n",
              "    </tr>\n",
              "    <tr>\n",
              "      <th>5167</th>\n",
              "      <td>Propanenitrile, 3-((2-(acetyloxy)ethyl)phenyla...</td>\n",
              "      <td>CC(=O)OCCN(CCC#N)c1ccccc1</td>\n",
              "      <td>2.050</td>\n",
              "    </tr>\n",
              "    <tr>\n",
              "      <th>5168</th>\n",
              "      <td>IH-Indene-1,3(2H)-dione, 2-(2-methyl-1-(2-(1-p...</td>\n",
              "      <td>CC1=CC(=C2C(=O)c3ccccc3C2=O)C=CN1CCN1CCCCC1</td>\n",
              "      <td>2.951</td>\n",
              "    </tr>\n",
              "    <tr>\n",
              "      <th>5169</th>\n",
              "      <td>1-Propanone, 1-(2,4,6-trihydroxyphenyl)-</td>\n",
              "      <td>CCC(=O)c1c(O)cc(O)cc1O</td>\n",
              "      <td>1.884</td>\n",
              "    </tr>\n",
              "  </tbody>\n",
              "</table>\n",
              "<p>5170 rows × 3 columns</p>\n",
              "</div>\n",
              "      <button class=\"colab-df-convert\" onclick=\"convertToInteractive('df-bca1fe86-a00b-4c4f-9572-002e89c51c5d')\"\n",
              "              title=\"Convert this dataframe to an interactive table.\"\n",
              "              style=\"display:none;\">\n",
              "        \n",
              "  <svg xmlns=\"http://www.w3.org/2000/svg\" height=\"24px\"viewBox=\"0 0 24 24\"\n",
              "       width=\"24px\">\n",
              "    <path d=\"M0 0h24v24H0V0z\" fill=\"none\"/>\n",
              "    <path d=\"M18.56 5.44l.94 2.06.94-2.06 2.06-.94-2.06-.94-.94-2.06-.94 2.06-2.06.94zm-11 1L8.5 8.5l.94-2.06 2.06-.94-2.06-.94L8.5 2.5l-.94 2.06-2.06.94zm10 10l.94 2.06.94-2.06 2.06-.94-2.06-.94-.94-2.06-.94 2.06-2.06.94z\"/><path d=\"M17.41 7.96l-1.37-1.37c-.4-.4-.92-.59-1.43-.59-.52 0-1.04.2-1.43.59L10.3 9.45l-7.72 7.72c-.78.78-.78 2.05 0 2.83L4 21.41c.39.39.9.59 1.41.59.51 0 1.02-.2 1.41-.59l7.78-7.78 2.81-2.81c.8-.78.8-2.07 0-2.86zM5.41 20L4 18.59l7.72-7.72 1.47 1.35L5.41 20z\"/>\n",
              "  </svg>\n",
              "      </button>\n",
              "      \n",
              "  <style>\n",
              "    .colab-df-container {\n",
              "      display:flex;\n",
              "      flex-wrap:wrap;\n",
              "      gap: 12px;\n",
              "    }\n",
              "\n",
              "    .colab-df-convert {\n",
              "      background-color: #E8F0FE;\n",
              "      border: none;\n",
              "      border-radius: 50%;\n",
              "      cursor: pointer;\n",
              "      display: none;\n",
              "      fill: #1967D2;\n",
              "      height: 32px;\n",
              "      padding: 0 0 0 0;\n",
              "      width: 32px;\n",
              "    }\n",
              "\n",
              "    .colab-df-convert:hover {\n",
              "      background-color: #E2EBFA;\n",
              "      box-shadow: 0px 1px 2px rgba(60, 64, 67, 0.3), 0px 1px 3px 1px rgba(60, 64, 67, 0.15);\n",
              "      fill: #174EA6;\n",
              "    }\n",
              "\n",
              "    [theme=dark] .colab-df-convert {\n",
              "      background-color: #3B4455;\n",
              "      fill: #D2E3FC;\n",
              "    }\n",
              "\n",
              "    [theme=dark] .colab-df-convert:hover {\n",
              "      background-color: #434B5C;\n",
              "      box-shadow: 0px 1px 3px 1px rgba(0, 0, 0, 0.15);\n",
              "      filter: drop-shadow(0px 1px 2px rgba(0, 0, 0, 0.3));\n",
              "      fill: #FFFFFF;\n",
              "    }\n",
              "  </style>\n",
              "\n",
              "      <script>\n",
              "        const buttonEl =\n",
              "          document.querySelector('#df-bca1fe86-a00b-4c4f-9572-002e89c51c5d button.colab-df-convert');\n",
              "        buttonEl.style.display =\n",
              "          google.colab.kernel.accessAllowed ? 'block' : 'none';\n",
              "\n",
              "        async function convertToInteractive(key) {\n",
              "          const element = document.querySelector('#df-bca1fe86-a00b-4c4f-9572-002e89c51c5d');\n",
              "          const dataTable =\n",
              "            await google.colab.kernel.invokeFunction('convertToInteractive',\n",
              "                                                     [key], {});\n",
              "          if (!dataTable) return;\n",
              "\n",
              "          const docLinkHtml = 'Like what you see? Visit the ' +\n",
              "            '<a target=\"_blank\" href=https://colab.research.google.com/notebooks/data_table.ipynb>data table notebook</a>'\n",
              "            + ' to learn more about interactive tables.';\n",
              "          element.innerHTML = '';\n",
              "          dataTable['output_type'] = 'display_data';\n",
              "          await google.colab.output.renderOutput(dataTable, element);\n",
              "          const docLink = document.createElement('div');\n",
              "          docLink.innerHTML = docLinkHtml;\n",
              "          element.appendChild(docLink);\n",
              "        }\n",
              "      </script>\n",
              "    </div>\n",
              "  </div>\n",
              "  "
            ]
          },
          "metadata": {},
          "execution_count": 4
        }
      ]
    },
    {
      "cell_type": "code",
      "source": [
        "# Valid data\n",
        "split['valid']"
      ],
      "metadata": {
        "colab": {
          "base_uri": "https://localhost:8080/",
          "height": 424
        },
        "id": "dx3gm4l9bxdV",
        "outputId": "f753ccbe-a982-478e-b60b-96b221f83518"
      },
      "execution_count": null,
      "outputs": [
        {
          "output_type": "execute_result",
          "data": {
            "text/plain": [
              "                                               Drug_ID  \\\n",
              "0                              Heptanoic acid, 7-iodo-   \n",
              "1    2(1H)-Quinazolinone, 4-(3-hydroxyphenyl)-7-met...   \n",
              "2    Heptanoic acid, 2-(4-(3-(2-(trifluoromethyl)-1...   \n",
              "3                                  1-Butanol, 2-ethyl-   \n",
              "4    2,8,9-Trioxa-5-aza-1-silabicyclo(3.3.3)undecan...   \n",
              "..                                                 ...   \n",
              "733  (1)-alpha,alpha,4-Trimethylcyclohex-3-ene-1-me...   \n",
              "734               5-(Aminomethyl)isoxazol-3-ol hydrate   \n",
              "735                       Acetaldehyde, diethyl acetal   \n",
              "736  3H-1,4-Benzodiazepin-2-amine, 7-chloro-N-(cycl...   \n",
              "737  p-Toluidine, 2,6-dinitro-N-ethyl-N-(2-methyl-2...   \n",
              "\n",
              "                                                  Drug      Y  \n",
              "0                                        O=C(O)CCCCCCI  2.058  \n",
              "1             Cc1ccc2c(-c3cccc(O)c3)nc(=O)n(C(C)C)c2c1  2.266  \n",
              "2    CCCCCCC(=O)OCCN1CCN(CCCN2c3ccccc3Sc3ccc(C(F)(F...  3.378  \n",
              "3                                            CCC(CC)CO  1.742  \n",
              "4                     Clc1cccc([Si]23OCCN(CCO2)CCO3)c1  4.255  \n",
              "..                                                 ...    ...  \n",
              "733                               CC1=CCC(C(C)(C)O)CC1  1.475  \n",
              "734                                   NCc1cc(=O)[nH]o1  3.404  \n",
              "735                                         CCOC(C)OCC  1.410  \n",
              "736    [O-][N+]1=C(c2ccccc2)c2cc(Cl)ccc2N=C(NCC2CC2)C1  1.888  \n",
              "737  C=C(C)CN(CC)c1c([N+](=O)[O-])cc(C(F)(F)F)cc1[N...  1.523  \n",
              "\n",
              "[738 rows x 3 columns]"
            ],
            "text/html": [
              "\n",
              "  <div id=\"df-9aa9c6fd-a40c-4d30-94af-b63e2d4ed239\">\n",
              "    <div class=\"colab-df-container\">\n",
              "      <div>\n",
              "<style scoped>\n",
              "    .dataframe tbody tr th:only-of-type {\n",
              "        vertical-align: middle;\n",
              "    }\n",
              "\n",
              "    .dataframe tbody tr th {\n",
              "        vertical-align: top;\n",
              "    }\n",
              "\n",
              "    .dataframe thead th {\n",
              "        text-align: right;\n",
              "    }\n",
              "</style>\n",
              "<table border=\"1\" class=\"dataframe\">\n",
              "  <thead>\n",
              "    <tr style=\"text-align: right;\">\n",
              "      <th></th>\n",
              "      <th>Drug_ID</th>\n",
              "      <th>Drug</th>\n",
              "      <th>Y</th>\n",
              "    </tr>\n",
              "  </thead>\n",
              "  <tbody>\n",
              "    <tr>\n",
              "      <th>0</th>\n",
              "      <td>Heptanoic acid, 7-iodo-</td>\n",
              "      <td>O=C(O)CCCCCCI</td>\n",
              "      <td>2.058</td>\n",
              "    </tr>\n",
              "    <tr>\n",
              "      <th>1</th>\n",
              "      <td>2(1H)-Quinazolinone, 4-(3-hydroxyphenyl)-7-met...</td>\n",
              "      <td>Cc1ccc2c(-c3cccc(O)c3)nc(=O)n(C(C)C)c2c1</td>\n",
              "      <td>2.266</td>\n",
              "    </tr>\n",
              "    <tr>\n",
              "      <th>2</th>\n",
              "      <td>Heptanoic acid, 2-(4-(3-(2-(trifluoromethyl)-1...</td>\n",
              "      <td>CCCCCCC(=O)OCCN1CCN(CCCN2c3ccccc3Sc3ccc(C(F)(F...</td>\n",
              "      <td>3.378</td>\n",
              "    </tr>\n",
              "    <tr>\n",
              "      <th>3</th>\n",
              "      <td>1-Butanol, 2-ethyl-</td>\n",
              "      <td>CCC(CC)CO</td>\n",
              "      <td>1.742</td>\n",
              "    </tr>\n",
              "    <tr>\n",
              "      <th>4</th>\n",
              "      <td>2,8,9-Trioxa-5-aza-1-silabicyclo(3.3.3)undecan...</td>\n",
              "      <td>Clc1cccc([Si]23OCCN(CCO2)CCO3)c1</td>\n",
              "      <td>4.255</td>\n",
              "    </tr>\n",
              "    <tr>\n",
              "      <th>...</th>\n",
              "      <td>...</td>\n",
              "      <td>...</td>\n",
              "      <td>...</td>\n",
              "    </tr>\n",
              "    <tr>\n",
              "      <th>733</th>\n",
              "      <td>(1)-alpha,alpha,4-Trimethylcyclohex-3-ene-1-me...</td>\n",
              "      <td>CC1=CCC(C(C)(C)O)CC1</td>\n",
              "      <td>1.475</td>\n",
              "    </tr>\n",
              "    <tr>\n",
              "      <th>734</th>\n",
              "      <td>5-(Aminomethyl)isoxazol-3-ol hydrate</td>\n",
              "      <td>NCc1cc(=O)[nH]o1</td>\n",
              "      <td>3.404</td>\n",
              "    </tr>\n",
              "    <tr>\n",
              "      <th>735</th>\n",
              "      <td>Acetaldehyde, diethyl acetal</td>\n",
              "      <td>CCOC(C)OCC</td>\n",
              "      <td>1.410</td>\n",
              "    </tr>\n",
              "    <tr>\n",
              "      <th>736</th>\n",
              "      <td>3H-1,4-Benzodiazepin-2-amine, 7-chloro-N-(cycl...</td>\n",
              "      <td>[O-][N+]1=C(c2ccccc2)c2cc(Cl)ccc2N=C(NCC2CC2)C1</td>\n",
              "      <td>1.888</td>\n",
              "    </tr>\n",
              "    <tr>\n",
              "      <th>737</th>\n",
              "      <td>p-Toluidine, 2,6-dinitro-N-ethyl-N-(2-methyl-2...</td>\n",
              "      <td>C=C(C)CN(CC)c1c([N+](=O)[O-])cc(C(F)(F)F)cc1[N...</td>\n",
              "      <td>1.523</td>\n",
              "    </tr>\n",
              "  </tbody>\n",
              "</table>\n",
              "<p>738 rows × 3 columns</p>\n",
              "</div>\n",
              "      <button class=\"colab-df-convert\" onclick=\"convertToInteractive('df-9aa9c6fd-a40c-4d30-94af-b63e2d4ed239')\"\n",
              "              title=\"Convert this dataframe to an interactive table.\"\n",
              "              style=\"display:none;\">\n",
              "        \n",
              "  <svg xmlns=\"http://www.w3.org/2000/svg\" height=\"24px\"viewBox=\"0 0 24 24\"\n",
              "       width=\"24px\">\n",
              "    <path d=\"M0 0h24v24H0V0z\" fill=\"none\"/>\n",
              "    <path d=\"M18.56 5.44l.94 2.06.94-2.06 2.06-.94-2.06-.94-.94-2.06-.94 2.06-2.06.94zm-11 1L8.5 8.5l.94-2.06 2.06-.94-2.06-.94L8.5 2.5l-.94 2.06-2.06.94zm10 10l.94 2.06.94-2.06 2.06-.94-2.06-.94-.94-2.06-.94 2.06-2.06.94z\"/><path d=\"M17.41 7.96l-1.37-1.37c-.4-.4-.92-.59-1.43-.59-.52 0-1.04.2-1.43.59L10.3 9.45l-7.72 7.72c-.78.78-.78 2.05 0 2.83L4 21.41c.39.39.9.59 1.41.59.51 0 1.02-.2 1.41-.59l7.78-7.78 2.81-2.81c.8-.78.8-2.07 0-2.86zM5.41 20L4 18.59l7.72-7.72 1.47 1.35L5.41 20z\"/>\n",
              "  </svg>\n",
              "      </button>\n",
              "      \n",
              "  <style>\n",
              "    .colab-df-container {\n",
              "      display:flex;\n",
              "      flex-wrap:wrap;\n",
              "      gap: 12px;\n",
              "    }\n",
              "\n",
              "    .colab-df-convert {\n",
              "      background-color: #E8F0FE;\n",
              "      border: none;\n",
              "      border-radius: 50%;\n",
              "      cursor: pointer;\n",
              "      display: none;\n",
              "      fill: #1967D2;\n",
              "      height: 32px;\n",
              "      padding: 0 0 0 0;\n",
              "      width: 32px;\n",
              "    }\n",
              "\n",
              "    .colab-df-convert:hover {\n",
              "      background-color: #E2EBFA;\n",
              "      box-shadow: 0px 1px 2px rgba(60, 64, 67, 0.3), 0px 1px 3px 1px rgba(60, 64, 67, 0.15);\n",
              "      fill: #174EA6;\n",
              "    }\n",
              "\n",
              "    [theme=dark] .colab-df-convert {\n",
              "      background-color: #3B4455;\n",
              "      fill: #D2E3FC;\n",
              "    }\n",
              "\n",
              "    [theme=dark] .colab-df-convert:hover {\n",
              "      background-color: #434B5C;\n",
              "      box-shadow: 0px 1px 3px 1px rgba(0, 0, 0, 0.15);\n",
              "      filter: drop-shadow(0px 1px 2px rgba(0, 0, 0, 0.3));\n",
              "      fill: #FFFFFF;\n",
              "    }\n",
              "  </style>\n",
              "\n",
              "      <script>\n",
              "        const buttonEl =\n",
              "          document.querySelector('#df-9aa9c6fd-a40c-4d30-94af-b63e2d4ed239 button.colab-df-convert');\n",
              "        buttonEl.style.display =\n",
              "          google.colab.kernel.accessAllowed ? 'block' : 'none';\n",
              "\n",
              "        async function convertToInteractive(key) {\n",
              "          const element = document.querySelector('#df-9aa9c6fd-a40c-4d30-94af-b63e2d4ed239');\n",
              "          const dataTable =\n",
              "            await google.colab.kernel.invokeFunction('convertToInteractive',\n",
              "                                                     [key], {});\n",
              "          if (!dataTable) return;\n",
              "\n",
              "          const docLinkHtml = 'Like what you see? Visit the ' +\n",
              "            '<a target=\"_blank\" href=https://colab.research.google.com/notebooks/data_table.ipynb>data table notebook</a>'\n",
              "            + ' to learn more about interactive tables.';\n",
              "          element.innerHTML = '';\n",
              "          dataTable['output_type'] = 'display_data';\n",
              "          await google.colab.output.renderOutput(dataTable, element);\n",
              "          const docLink = document.createElement('div');\n",
              "          docLink.innerHTML = docLinkHtml;\n",
              "          element.appendChild(docLink);\n",
              "        }\n",
              "      </script>\n",
              "    </div>\n",
              "  </div>\n",
              "  "
            ]
          },
          "metadata": {},
          "execution_count": 5
        }
      ]
    },
    {
      "cell_type": "code",
      "source": [
        "# Tset data\n",
        "split['test']"
      ],
      "metadata": {
        "colab": {
          "base_uri": "https://localhost:8080/",
          "height": 424
        },
        "id": "F0N12kEob5X2",
        "outputId": "804f1675-402b-4644-cce5-145e1831cb78"
      },
      "execution_count": null,
      "outputs": [
        {
          "output_type": "execute_result",
          "data": {
            "text/plain": [
              "                                                Drug_ID  \\\n",
              "0     Ether, alpha-(bromomethyl)-p-cyclopentylbenzyl...   \n",
              "1                               Benzene, 1,4-dinitroso-   \n",
              "2     Succinic acid, mercapto-, diethyl ester, S-est...   \n",
              "3          Phosphorodithioic acid, O,S,S-triethyl ester   \n",
              "4                                Phenol, 2-octyl- (9CI)   \n",
              "...                                                 ...   \n",
              "1472  1H-1,2,4-Triazole, 1-((2-(2,4-dichlorophenyl)-...   \n",
              "1473  Phosphorothioic acid, O-(3-chloro-4-nitropheny...   \n",
              "1474  Dibenz(b,f)oxepin-2-acetic acid, 10,11-dihydro...   \n",
              "1475  Phosphorothioic acid, O,O-dimethyl S-(2-(ethyl...   \n",
              "1476  Cyclopropanecarboxylic acid, 2,2-dimethyl-3-(2...   \n",
              "\n",
              "                                             Drug      Y  \n",
              "0                    CCCCOC(CBr)c1ccc(C2CCCC2)cc1  3.114  \n",
              "1                                O=Nc1ccc(N=O)cc1  2.125  \n",
              "2                CCOC(=O)CC(SP(=O)(OC)SC)C(=O)OCC  3.466  \n",
              "3                                CCOP(=O)(SCC)SCC  3.185  \n",
              "4                               CCCCCCCCc1ccccc1O  1.867  \n",
              "...                                           ...    ...  \n",
              "1472         CCCC1COC(Cn2cncn2)(c2ccc(Cl)cc2Cl)O1  2.353  \n",
              "1473     CCOP(=S)(OCC)Oc1ccc([N+](=O)[O-])c(Cl)c1  3.814  \n",
              "1474        Cc1ccc2c(c1)CC(=O)c1cc(CC(=O)O)ccc1O2  2.937  \n",
              "1475                    CCS(=O)(=O)CCSP(=O)(OC)OC  3.908  \n",
              "1476  CC(C)=CC1C(C(=O)OCc2coc(Cc3ccccc3)c2)C1(C)C  3.730  \n",
              "\n",
              "[1477 rows x 3 columns]"
            ],
            "text/html": [
              "\n",
              "  <div id=\"df-f36a0a81-fd13-4fb3-8aa2-d143c34267d3\">\n",
              "    <div class=\"colab-df-container\">\n",
              "      <div>\n",
              "<style scoped>\n",
              "    .dataframe tbody tr th:only-of-type {\n",
              "        vertical-align: middle;\n",
              "    }\n",
              "\n",
              "    .dataframe tbody tr th {\n",
              "        vertical-align: top;\n",
              "    }\n",
              "\n",
              "    .dataframe thead th {\n",
              "        text-align: right;\n",
              "    }\n",
              "</style>\n",
              "<table border=\"1\" class=\"dataframe\">\n",
              "  <thead>\n",
              "    <tr style=\"text-align: right;\">\n",
              "      <th></th>\n",
              "      <th>Drug_ID</th>\n",
              "      <th>Drug</th>\n",
              "      <th>Y</th>\n",
              "    </tr>\n",
              "  </thead>\n",
              "  <tbody>\n",
              "    <tr>\n",
              "      <th>0</th>\n",
              "      <td>Ether, alpha-(bromomethyl)-p-cyclopentylbenzyl...</td>\n",
              "      <td>CCCCOC(CBr)c1ccc(C2CCCC2)cc1</td>\n",
              "      <td>3.114</td>\n",
              "    </tr>\n",
              "    <tr>\n",
              "      <th>1</th>\n",
              "      <td>Benzene, 1,4-dinitroso-</td>\n",
              "      <td>O=Nc1ccc(N=O)cc1</td>\n",
              "      <td>2.125</td>\n",
              "    </tr>\n",
              "    <tr>\n",
              "      <th>2</th>\n",
              "      <td>Succinic acid, mercapto-, diethyl ester, S-est...</td>\n",
              "      <td>CCOC(=O)CC(SP(=O)(OC)SC)C(=O)OCC</td>\n",
              "      <td>3.466</td>\n",
              "    </tr>\n",
              "    <tr>\n",
              "      <th>3</th>\n",
              "      <td>Phosphorodithioic acid, O,S,S-triethyl ester</td>\n",
              "      <td>CCOP(=O)(SCC)SCC</td>\n",
              "      <td>3.185</td>\n",
              "    </tr>\n",
              "    <tr>\n",
              "      <th>4</th>\n",
              "      <td>Phenol, 2-octyl- (9CI)</td>\n",
              "      <td>CCCCCCCCc1ccccc1O</td>\n",
              "      <td>1.867</td>\n",
              "    </tr>\n",
              "    <tr>\n",
              "      <th>...</th>\n",
              "      <td>...</td>\n",
              "      <td>...</td>\n",
              "      <td>...</td>\n",
              "    </tr>\n",
              "    <tr>\n",
              "      <th>1472</th>\n",
              "      <td>1H-1,2,4-Triazole, 1-((2-(2,4-dichlorophenyl)-...</td>\n",
              "      <td>CCCC1COC(Cn2cncn2)(c2ccc(Cl)cc2Cl)O1</td>\n",
              "      <td>2.353</td>\n",
              "    </tr>\n",
              "    <tr>\n",
              "      <th>1473</th>\n",
              "      <td>Phosphorothioic acid, O-(3-chloro-4-nitropheny...</td>\n",
              "      <td>CCOP(=S)(OCC)Oc1ccc([N+](=O)[O-])c(Cl)c1</td>\n",
              "      <td>3.814</td>\n",
              "    </tr>\n",
              "    <tr>\n",
              "      <th>1474</th>\n",
              "      <td>Dibenz(b,f)oxepin-2-acetic acid, 10,11-dihydro...</td>\n",
              "      <td>Cc1ccc2c(c1)CC(=O)c1cc(CC(=O)O)ccc1O2</td>\n",
              "      <td>2.937</td>\n",
              "    </tr>\n",
              "    <tr>\n",
              "      <th>1475</th>\n",
              "      <td>Phosphorothioic acid, O,O-dimethyl S-(2-(ethyl...</td>\n",
              "      <td>CCS(=O)(=O)CCSP(=O)(OC)OC</td>\n",
              "      <td>3.908</td>\n",
              "    </tr>\n",
              "    <tr>\n",
              "      <th>1476</th>\n",
              "      <td>Cyclopropanecarboxylic acid, 2,2-dimethyl-3-(2...</td>\n",
              "      <td>CC(C)=CC1C(C(=O)OCc2coc(Cc3ccccc3)c2)C1(C)C</td>\n",
              "      <td>3.730</td>\n",
              "    </tr>\n",
              "  </tbody>\n",
              "</table>\n",
              "<p>1477 rows × 3 columns</p>\n",
              "</div>\n",
              "      <button class=\"colab-df-convert\" onclick=\"convertToInteractive('df-f36a0a81-fd13-4fb3-8aa2-d143c34267d3')\"\n",
              "              title=\"Convert this dataframe to an interactive table.\"\n",
              "              style=\"display:none;\">\n",
              "        \n",
              "  <svg xmlns=\"http://www.w3.org/2000/svg\" height=\"24px\"viewBox=\"0 0 24 24\"\n",
              "       width=\"24px\">\n",
              "    <path d=\"M0 0h24v24H0V0z\" fill=\"none\"/>\n",
              "    <path d=\"M18.56 5.44l.94 2.06.94-2.06 2.06-.94-2.06-.94-.94-2.06-.94 2.06-2.06.94zm-11 1L8.5 8.5l.94-2.06 2.06-.94-2.06-.94L8.5 2.5l-.94 2.06-2.06.94zm10 10l.94 2.06.94-2.06 2.06-.94-2.06-.94-.94-2.06-.94 2.06-2.06.94z\"/><path d=\"M17.41 7.96l-1.37-1.37c-.4-.4-.92-.59-1.43-.59-.52 0-1.04.2-1.43.59L10.3 9.45l-7.72 7.72c-.78.78-.78 2.05 0 2.83L4 21.41c.39.39.9.59 1.41.59.51 0 1.02-.2 1.41-.59l7.78-7.78 2.81-2.81c.8-.78.8-2.07 0-2.86zM5.41 20L4 18.59l7.72-7.72 1.47 1.35L5.41 20z\"/>\n",
              "  </svg>\n",
              "      </button>\n",
              "      \n",
              "  <style>\n",
              "    .colab-df-container {\n",
              "      display:flex;\n",
              "      flex-wrap:wrap;\n",
              "      gap: 12px;\n",
              "    }\n",
              "\n",
              "    .colab-df-convert {\n",
              "      background-color: #E8F0FE;\n",
              "      border: none;\n",
              "      border-radius: 50%;\n",
              "      cursor: pointer;\n",
              "      display: none;\n",
              "      fill: #1967D2;\n",
              "      height: 32px;\n",
              "      padding: 0 0 0 0;\n",
              "      width: 32px;\n",
              "    }\n",
              "\n",
              "    .colab-df-convert:hover {\n",
              "      background-color: #E2EBFA;\n",
              "      box-shadow: 0px 1px 2px rgba(60, 64, 67, 0.3), 0px 1px 3px 1px rgba(60, 64, 67, 0.15);\n",
              "      fill: #174EA6;\n",
              "    }\n",
              "\n",
              "    [theme=dark] .colab-df-convert {\n",
              "      background-color: #3B4455;\n",
              "      fill: #D2E3FC;\n",
              "    }\n",
              "\n",
              "    [theme=dark] .colab-df-convert:hover {\n",
              "      background-color: #434B5C;\n",
              "      box-shadow: 0px 1px 3px 1px rgba(0, 0, 0, 0.15);\n",
              "      filter: drop-shadow(0px 1px 2px rgba(0, 0, 0, 0.3));\n",
              "      fill: #FFFFFF;\n",
              "    }\n",
              "  </style>\n",
              "\n",
              "      <script>\n",
              "        const buttonEl =\n",
              "          document.querySelector('#df-f36a0a81-fd13-4fb3-8aa2-d143c34267d3 button.colab-df-convert');\n",
              "        buttonEl.style.display =\n",
              "          google.colab.kernel.accessAllowed ? 'block' : 'none';\n",
              "\n",
              "        async function convertToInteractive(key) {\n",
              "          const element = document.querySelector('#df-f36a0a81-fd13-4fb3-8aa2-d143c34267d3');\n",
              "          const dataTable =\n",
              "            await google.colab.kernel.invokeFunction('convertToInteractive',\n",
              "                                                     [key], {});\n",
              "          if (!dataTable) return;\n",
              "\n",
              "          const docLinkHtml = 'Like what you see? Visit the ' +\n",
              "            '<a target=\"_blank\" href=https://colab.research.google.com/notebooks/data_table.ipynb>data table notebook</a>'\n",
              "            + ' to learn more about interactive tables.';\n",
              "          element.innerHTML = '';\n",
              "          dataTable['output_type'] = 'display_data';\n",
              "          await google.colab.output.renderOutput(dataTable, element);\n",
              "          const docLink = document.createElement('div');\n",
              "          docLink.innerHTML = docLinkHtml;\n",
              "          element.appendChild(docLink);\n",
              "        }\n",
              "      </script>\n",
              "    </div>\n",
              "  </div>\n",
              "  "
            ]
          },
          "metadata": {},
          "execution_count": 6
        }
      ]
    },
    {
      "cell_type": "code",
      "source": [
        "split['train'].plot.hist()"
      ],
      "metadata": {
        "id": "TXYe5niayVsj",
        "colab": {
          "base_uri": "https://localhost:8080/",
          "height": 283
        },
        "outputId": "2b39d6ae-935a-461c-fec4-36081de2ef77"
      },
      "execution_count": null,
      "outputs": [
        {
          "output_type": "execute_result",
          "data": {
            "text/plain": [
              "<matplotlib.axes._subplots.AxesSubplot at 0x7fcf92e60bd0>"
            ]
          },
          "metadata": {},
          "execution_count": 7
        },
        {
          "output_type": "display_data",
          "data": {
            "text/plain": [
              "<Figure size 432x288 with 1 Axes>"
            ],
            "image/png": "[encoded data removed]"
          },
          "metadata": {
            "needs_background": "light"
          }
        }
      ]
    },
    {
      "cell_type": "code",
      "source": [
        "split['valid'].plot.hist()"
      ],
      "metadata": {
        "colab": {
          "base_uri": "https://localhost:8080/",
          "height": 283
        },
        "id": "pIlZpGOD0TCx",
        "outputId": "95545306-aa1b-4e68-e955-07382a33447f"
      },
      "execution_count": null,
      "outputs": [
        {
          "output_type": "execute_result",
          "data": {
            "text/plain": [
              "<matplotlib.axes._subplots.AxesSubplot at 0x7fcf92337490>"
            ]
          },
          "metadata": {},
          "execution_count": 8
        },
        {
          "output_type": "display_data",
          "data": {
            "text/plain": [
              "<Figure size 432x288 with 1 Axes>"
            ],
            "image/png": "[encoded data removed]"
          },
          "metadata": {
            "needs_background": "light"
          }
        }
      ]
    },
    {
      "cell_type": "code",
      "source": [
        "split['test'].plot.hist()"
      ],
      "metadata": {
        "colab": {
          "base_uri": "https://localhost:8080/",
          "height": 283
        },
        "id": "5UY2LVP90ToA",
        "outputId": "830a3ea2-dc60-4da4-9d9f-888f09535bed"
      },
      "execution_count": null,
      "outputs": [
        {
          "output_type": "execute_result",
          "data": {
            "text/plain": [
              "<matplotlib.axes._subplots.AxesSubplot at 0x7fcf91e11e90>"
            ]
          },
          "metadata": {},
          "execution_count": 9
        },
        {
          "output_type": "display_data",
          "data": {
            "text/plain": [
              "<Figure size 432x288 with 1 Axes>"
            ],
            "image/png": "[encoded data removed]"
          },
          "metadata": {
            "needs_background": "light"
          }
        }
      ]
    },
    {
      "cell_type": "markdown",
      "source": [
        "# 데이터 전처리 (Data pre-processing)"
      ],
      "metadata": {
        "id": "CkXO35FJyVuh"
      }
    },
    {
      "cell_type": "markdown",
      "source": [
        "\n",
        "\n",
        "![](https://encrypted-tbn0.gstatic.com/images?q=tbn:ANd9GcRFKOgPo0QcY4xOM22QKWy1Z62-XlXFrPc9bw&usqp=CAU)\n",
        "\n",
        "\n",
        "**자세한 내용은 아래 링크 참조하세요**\n",
        "\n",
        "[RDkit](https://www.rdkit.org/docs/GettingStartedInPython.html)\n",
        "\n",
        "[Molecular representations in AI-driven drug discovery: a review and practical guide](https://jcheminf.biomedcentral.com/articles/10.1186/s13321-020-00460-5)\n",
        "\n",
        "\n",
        "[Extended-Connectivity Fingerprints](https://pubs.acs.org/doi/full/10.1021/ci100050tcasa_token=vsI6rp6l2RYAAAAA%3A_HTqMGypPZSQJnF4VqM4xl7KApBKMtKD1STnbh_EHOWeFOsfPKGETjY-SaiC-9XQtyhIEZHvGRRcMcEM)\n",
        "\n",
        "\n",
        "\n"
      ],
      "metadata": {
        "id": "rzROs0vTXobm"
      }
    },
    {
      "cell_type": "code",
      "source": [
        "from rdkit import Chem, DataStructs\n",
        "from rdkit.Chem import AllChem\n",
        "import numpy as np\n",
        "\n",
        "def smiles2morgan(s, radius = 2, nBits = 1024):\n",
        "    \"\"\"SMILES data를 morgan fingerprint 데이터로 변환\n",
        "\n",
        "    Args:\n",
        "        s (str): SMILES of a drug\n",
        "        radius (int): ECFP radius\n",
        "        bBits (int): size of binary representation\n",
        "\n",
        "    Return ():\n",
        "        morgan fingerprint\n",
        "\n",
        "    \"\"\"\n",
        "    try:\n",
        "        mol = Chem.MolFromSmiles(s)\n",
        "        features_vec = AllChem.GetMorganFingerprintAsBitVect(mol, radius, nBits=nBits)\n",
        "        features = np.zeros((1,))\n",
        "        DataStructs.ConvertToNumpyArray(features_vec, features)\n",
        "    except:\n",
        "        print('rdkit not found this smiles for morgan: ' + s + ' convert to all 0 features')\n",
        "        features = np.zeros((nBits, ))\n",
        "\n",
        "    return features"
      ],
      "metadata": {
        "id": "TeBztfyeeH9G"
      },
      "execution_count": null,
      "outputs": []
    },
    {
      "cell_type": "code",
      "source": [
        "# 전처리 함수 적용하기\n",
        "\n",
        "for mode in ['train', 'valid', 'test']:\n",
        "  split[mode]['embedding'] = split[mode]['Drug'].apply(smiles2morgan)\n",
        "  split[mode]['Y_binary'] = split[mode]['Y'].apply(lambda x: int(x < 2))"
      ],
      "metadata": {
        "id": "FH_IM0Y3eBko"
      },
      "execution_count": null,
      "outputs": []
    },
    {
      "cell_type": "code",
      "source": [
        "# morgan fingerprint로 변환된 데이터 확인\n",
        "\n",
        "split[\"test\"]['embedding']"
      ],
      "metadata": {
        "colab": {
          "base_uri": "https://localhost:8080/"
        },
        "id": "JPudgLaLhzGF",
        "outputId": "5b620e70-7b2b-4990-afbf-853341746c19"
      },
      "execution_count": null,
      "outputs": [
        {
          "output_type": "execute_result",
          "data": {
            "text/plain": [
              "0       [0.0, 1.0, 0.0, 1.0, 1.0, 0.0, 0.0, 0.0, 0.0, ...\n",
              "1       [0.0, 0.0, 0.0, 0.0, 0.0, 0.0, 0.0, 0.0, 0.0, ...\n",
              "2       [0.0, 1.0, 0.0, 0.0, 0.0, 0.0, 0.0, 0.0, 0.0, ...\n",
              "3       [0.0, 0.0, 0.0, 0.0, 0.0, 0.0, 0.0, 0.0, 0.0, ...\n",
              "4       [0.0, 0.0, 0.0, 0.0, 0.0, 0.0, 0.0, 0.0, 0.0, ...\n",
              "                              ...                        \n",
              "1472    [1.0, 0.0, 0.0, 0.0, 0.0, 0.0, 0.0, 0.0, 0.0, ...\n",
              "1473    [0.0, 0.0, 0.0, 0.0, 0.0, 0.0, 0.0, 0.0, 0.0, ...\n",
              "1474    [0.0, 0.0, 0.0, 0.0, 0.0, 0.0, 0.0, 0.0, 0.0, ...\n",
              "1475    [0.0, 0.0, 0.0, 0.0, 0.0, 0.0, 0.0, 0.0, 0.0, ...\n",
              "1476    [0.0, 0.0, 0.0, 0.0, 0.0, 0.0, 0.0, 0.0, 0.0, ...\n",
              "Name: embedding, Length: 1477, dtype: object"
            ]
          },
          "metadata": {},
          "execution_count": 12
        }
      ]
    },
    {
      "cell_type": "code",
      "source": [
        "split[\"test\"]['Y_binary']"
      ],
      "metadata": {
        "id": "rYIwhPXBkI0C",
        "colab": {
          "base_uri": "https://localhost:8080/"
        },
        "outputId": "3f7c7c78-e4c5-4c62-8084-2301c735d06b"
      },
      "execution_count": null,
      "outputs": [
        {
          "output_type": "execute_result",
          "data": {
            "text/plain": [
              "0       0\n",
              "1       0\n",
              "2       0\n",
              "3       0\n",
              "4       1\n",
              "       ..\n",
              "1472    0\n",
              "1473    0\n",
              "1474    0\n",
              "1475    0\n",
              "1476    0\n",
              "Name: Y_binary, Length: 1477, dtype: int64"
            ]
          },
          "metadata": {},
          "execution_count": 13
        }
      ]
    },
    {
      "cell_type": "markdown",
      "source": [
        "### Torch dataset & DataLoader 만들기"
      ],
      "metadata": {
        "id": "dQeWvBblE28-"
      }
    },
    {
      "cell_type": "code",
      "source": [
        "import torch\n",
        "from torch import nn\n",
        "import torch.nn.functional as F\n",
        "from torch.utils import data"
      ],
      "metadata": {
        "id": "RWQSGfStkI2P"
      },
      "execution_count": null,
      "outputs": []
    },
    {
      "cell_type": "code",
      "source": [
        "class data_process_loader(data.Dataset):\n",
        "    \"\"\"전처리한 데이터를 학습에 사용하기 위한 추상 클래스\n",
        "    torch.utils.data.Dataset을 상속\n",
        "    \"\"\"\n",
        "    def __init__(self, df):\n",
        "        # 생성자\n",
        "        # 앞서 전처리한 데이터 attribute에 저장\n",
        "        self.df = df\n",
        "\n",
        "    def __len__(self):\n",
        "        # 전체 샘플 개수 출력을 위한 method\n",
        "        return self.df.shape[0]\n",
        "\n",
        "    def __getitem__(self, index):\n",
        "        # 인덱스로 데이터에 접근하기 위한 method\n",
        "        v_d = self.df.iloc[index]['embedding']  # input\n",
        "        y = self.df.iloc[index]['Y_binary'] # label\n",
        "\n",
        "        return v_d, y"
      ],
      "metadata": {
        "id": "CHDTrIlIhoLj"
      },
      "execution_count": null,
      "outputs": []
    },
    {
      "cell_type": "code",
      "source": [
        "train_dataset = data_process_loader(split[\"train\"])\n",
        "valid_dataset = data_process_loader(split[\"valid\"])\n",
        "test_dataset = data_process_loader(split[\"test\"])"
      ],
      "metadata": {
        "id": "BsB_h02ai2mu"
      },
      "execution_count": null,
      "outputs": []
    },
    {
      "cell_type": "code",
      "source": [
        "# DataLoader을 위한 hyperparameter 설정\n",
        "\n",
        "params = {'batch_size': 64,\n",
        "        'shuffle': True,\n",
        "        'num_workers': 1,\n",
        "        'drop_last': False}"
      ],
      "metadata": {
        "id": "beCdLDv_NO03"
      },
      "execution_count": null,
      "outputs": []
    },
    {
      "cell_type": "code",
      "source": [
        "train_loader = data.DataLoader(train_dataset, **params)\n",
        "valid_loader = data.DataLoader(valid_dataset, **params)\n",
        "test_loader = data.DataLoader(test_dataset, **params)"
      ],
      "metadata": {
        "id": "yf79NgnCdu86"
      },
      "execution_count": null,
      "outputs": []
    },
    {
      "cell_type": "code",
      "source": [
        "len(train_loader)"
      ],
      "metadata": {
        "colab": {
          "base_uri": "https://localhost:8080/"
        },
        "id": "q6di-VB3XX0P",
        "outputId": "505108dc-1221-4fa5-86b8-099b267e28a4"
      },
      "execution_count": null,
      "outputs": [
        {
          "output_type": "execute_result",
          "data": {
            "text/plain": [
              "81"
            ]
          },
          "metadata": {},
          "execution_count": 19
        }
      ]
    },
    {
      "cell_type": "code",
      "source": [
        "# DataLoader로 쌓인 데이터 확인해보기\n",
        "\n",
        "for v_d, y in train_loader:\n",
        "    print(v_d)\n",
        "    print(v_d.shape)\n",
        "    print()\n",
        "    print(y)\n",
        "    print(y.shape)\n",
        "    break"
      ],
      "metadata": {
        "colab": {
          "base_uri": "https://localhost:8080/"
        },
        "id": "Z9-Q4K9DjAtl",
        "outputId": "92ff5e12-95fc-4653-b3f8-a6da55bae8da"
      },
      "execution_count": null,
      "outputs": [
        {
          "output_type": "stream",
          "name": "stdout",
          "text": [
            "tensor([[0., 0., 0.,  ..., 1., 0., 0.],\n",
            "        [0., 0., 0.,  ..., 0., 0., 0.],\n",
            "        [0., 0., 0.,  ..., 0., 0., 0.],\n",
            "        ...,\n",
            "        [0., 0., 0.,  ..., 0., 0., 0.],\n",
            "        [0., 0., 0.,  ..., 0., 0., 0.],\n",
            "        [0., 1., 0.,  ..., 0., 0., 0.]], dtype=torch.float64)\n",
            "torch.Size([64, 1024])\n",
            "\n",
            "tensor([0, 0, 0, 1, 0, 0, 1, 0, 1, 0, 0, 0, 1, 1, 0, 0, 1, 0, 0, 0, 0, 1, 0, 0,\n",
            "        0, 1, 0, 1, 0, 0, 0, 1, 0, 0, 1, 0, 0, 1, 1, 1, 1, 0, 0, 0, 1, 1, 0, 0,\n",
            "        0, 1, 0, 0, 0, 0, 0, 0, 0, 1, 0, 1, 1, 0, 1, 0])\n",
            "torch.Size([64])\n"
          ]
        }
      ]
    },
    {
      "cell_type": "code",
      "source": [],
      "metadata": {
        "id": "wSpC2FxTjAvt"
      },
      "execution_count": null,
      "outputs": []
    },
    {
      "cell_type": "code",
      "source": [
        "device = torch.device('cuda' if torch.cuda.is_available() else 'cpu')\n",
        "print(f\"현재 device는 {device} 입니다.\")"
      ],
      "metadata": {
        "id": "8zKytNS2jAzt",
        "colab": {
          "base_uri": "https://localhost:8080/"
        },
        "outputId": "9af79a8f-607e-4785-d4a4-d15823fa1a7c"
      },
      "execution_count": null,
      "outputs": [
        {
          "output_type": "stream",
          "name": "stdout",
          "text": [
            "현재 device는 cuda 입니다.\n"
          ]
        }
      ]
    },
    {
      "cell_type": "markdown",
      "source": [
        "# 모델 만들기"
      ],
      "metadata": {
        "id": "SuBWlQZGG1Mi"
      }
    },
    {
      "cell_type": "markdown",
      "source": [
        "### Feature extractor\n"
      ],
      "metadata": {
        "id": "KQWEwnH5JqTt"
      }
    },
    {
      "cell_type": "code",
      "source": [
        "class MLP(nn.Sequential):\n",
        "\tdef __init__(self, input_dim, output_dim, hidden_dims_lst):\n",
        "\t\t'''Feature extractor\n",
        "\t\t\tArgs:\n",
        "\t\t\t\tinput_dim (int): 입력층 차원\n",
        "\t\t\t\toutput_dim (int): 출력층 차원\n",
        "\t\t\t\thidden_dims_lst (list): hidden 차원의 차원\n",
        "\t\t'''\n",
        "\t\tsuper(MLP, self).__init__()\n",
        "\n",
        "\t\t# Feature extractor layer size\n",
        "\t\tlayer_size = len(hidden_dims_lst) + 1\n",
        "\n",
        "\t\t# dropout\n",
        "\t\tself.dropout = nn.Dropout(0.3)\n",
        "\n",
        "\t\t# 각 층의 차원 크기를 담은 리스트\n",
        "\t\tdims = [input_dim] + hidden_dims_lst + [output_dim]\n",
        "\n",
        "\t\t# 입력층, hidden 층, 출력층 차원대로 linear layer 쌓기\n",
        "\t\tself.predictor = nn.ModuleList([nn.Linear(dims[i], dims[i+1]) for i in range(layer_size)])\n",
        "\n",
        "\tdef forward(self, v):\n",
        "\t\t# 입력 데이터 v로 \bforward pass\n",
        "\t\tv = v.float().to(device)\n",
        "\t\tfor i, l in enumerate(self.predictor):\n",
        "\t\t\tv = F.relu(self.dropout(l(v)))\n",
        "\t\treturn v\n"
      ],
      "metadata": {
        "id": "ccchjmwcewcl"
      },
      "execution_count": null,
      "outputs": []
    },
    {
      "cell_type": "markdown",
      "source": [
        "### Classifier"
      ],
      "metadata": {
        "id": "Q5xk2xNNJv7r"
      }
    },
    {
      "cell_type": "code",
      "source": [
        "class Classifier(nn.Sequential):\n",
        "\tdef __init__(self, model_drug, hidden_dim_drug, cls_hidden_dims):\n",
        "\t\t'''Classifier\n",
        "\t\t\tArgs:\n",
        "\t\t\t\tmodel_drug : 앞서 생성한 Feature extractor\n",
        "\t\t\t\thidden_dim_drug (int):\n",
        "Classifier 입력층 차원\n",
        "\t\t\t\tcls_hidden_dims (list):\n",
        "Classifier hidden 차원\n",
        "\t\t'''\n",
        "\t\tsuper(Classifier, self).__init__()\n",
        "\n",
        "\t\t# feature extractor\n",
        "\t\tself.model_drug = model_drug\n",
        "\n",
        "\t\t# dropout\n",
        "\t\tself.dropout = nn.Dropout(0.3)\n",
        "\n",
        "\t\t# classifier 입력 차원\n",
        "\t\tself.input_dim_drug = hidden_dim_drug\n",
        "\n",
        "\t\t# classifier hidden 차원\n",
        "\t\tself.hidden_dims = cls_hidden_dims\n",
        "\n",
        "\t\t# classifier layer size\n",
        "\t\tlayer_size = len(self.hidden_dims) + 1\n",
        "\n",
        "\t\t# 각 층의 차원 크기를 담은 리스트\n",
        "\t\tdims = [self.input_dim_drug] + self.hidden_dims + [2]\n",
        "\n",
        "\t\t# 입력층, hidden 층, 출력층 차원대로 linear layer 쌓기\n",
        "\t\tself.predictor = nn.ModuleList([nn.Linear(dims[i], dims[i+1]) for i in range(layer_size)])\n",
        "\n",
        "\tdef forward(self, v_D):\n",
        "\t\t# feature extractor로 입력 데이터 encoding\n",
        "\t\tv_f = self.model_drug(v_D)\n",
        "\n",
        "\t\t# forword-pass with classify\n",
        "\t\tfor i, l in enumerate(self.predictor):\n",
        "\t\t\tif i==(len(self.predictor)-1):\n",
        "\t\t\t\tv_f = l(v_f)\n",
        "\t\t\telse:\n",
        "\t\t\t\tv_f = F.relu(self.dropout(l(v_f)))\n",
        "\t\treturn v_f"
      ],
      "metadata": {
        "id": "9tAmcXxZfoZq"
      },
      "execution_count": null,
      "outputs": []
    },
    {
      "cell_type": "code",
      "source": [
        "# 모델 hyperparameter\n",
        "\n",
        "input_dim_drug = 1024\n",
        "hidden_dim_drug = 256\n",
        "cls_hidden_dims = [512]\n",
        "mlp_hidden_dims_drug = [1024]"
      ],
      "metadata": {
        "id": "eUuSwXM6CFSI"
      },
      "execution_count": null,
      "outputs": []
    },
    {
      "cell_type": "code",
      "source": [
        "# 모델 선언하기\n",
        "model_drug = MLP(1024, hidden_dim_drug, mlp_hidden_dims_drug)"
      ],
      "metadata": {
        "id": "wScKIJbVBNy-"
      },
      "execution_count": null,
      "outputs": []
    },
    {
      "cell_type": "code",
      "source": [
        "model_drug"
      ],
      "metadata": {
        "colab": {
          "base_uri": "https://localhost:8080/"
        },
        "id": "4MdTB8whexHI",
        "outputId": "d71a1d0c-e7c3-45be-a722-8330ec22626b"
      },
      "execution_count": null,
      "outputs": [
        {
          "output_type": "execute_result",
          "data": {
            "text/plain": [
              "MLP(\n",
              "  (dropout): Dropout(p=0.3, inplace=False)\n",
              "  (predictor): ModuleList(\n",
              "    (0): Linear(in_features=1024, out_features=1024, bias=True)\n",
              "    (1): Linear(in_features=1024, out_features=256, bias=True)\n",
              "  )\n",
              ")"
            ]
          },
          "metadata": {},
          "execution_count": 40
        }
      ]
    },
    {
      "cell_type": "code",
      "source": [
        "model = Classifier(model_drug, hidden_dim_drug, cls_hidden_dims)"
      ],
      "metadata": {
        "id": "a2KH3L1vexJP"
      },
      "execution_count": null,
      "outputs": []
    },
    {
      "cell_type": "code",
      "source": [
        "model"
      ],
      "metadata": {
        "id": "SGjolGIECQZx",
        "colab": {
          "base_uri": "https://localhost:8080/"
        },
        "outputId": "270c8ccd-9b33-41ee-b305-e7f13f50abd2"
      },
      "execution_count": null,
      "outputs": [
        {
          "output_type": "execute_result",
          "data": {
            "text/plain": [
              "Classifier(\n",
              "  (model_drug): MLP(\n",
              "    (dropout): Dropout(p=0.3, inplace=False)\n",
              "    (predictor): ModuleList(\n",
              "      (0): Linear(in_features=1024, out_features=1024, bias=True)\n",
              "      (1): Linear(in_features=1024, out_features=256, bias=True)\n",
              "    )\n",
              "  )\n",
              "  (dropout): Dropout(p=0.3, inplace=False)\n",
              "  (predictor): ModuleList(\n",
              "    (0): Linear(in_features=256, out_features=512, bias=True)\n",
              "    (1): Linear(in_features=512, out_features=2, bias=True)\n",
              "  )\n",
              ")"
            ]
          },
          "metadata": {},
          "execution_count": 42
        }
      ]
    },
    {
      "cell_type": "markdown",
      "source": [
        "# 모델 학습 진행 (model training)\n"
      ],
      "metadata": {
        "id": "aM55jARCLVny"
      }
    },
    {
      "cell_type": "code",
      "source": [
        "# 학습 진행에 필요한 hyperparameter\n",
        "\n",
        "learning_rate = 0.0001\n",
        "decay         = 0.00001\n",
        "train_epoch   = 50"
      ],
      "metadata": {
        "id": "l4L79wz4EI-C"
      },
      "execution_count": null,
      "outputs": []
    },
    {
      "cell_type": "code",
      "source": [
        "# optimizer\n",
        "\n",
        "opt      = torch.optim.Adam(model.parameters(), lr = learning_rate, weight_decay = decay)\n",
        "loss_fn = torch.nn.CrossEntropyLoss()"
      ],
      "metadata": {
        "id": "8dM8TJ8fENqt"
      },
      "execution_count": null,
      "outputs": []
    },
    {
      "cell_type": "code",
      "source": [
        "# 라이브러리 호출\n",
        "\n",
        "\n",
        "import copy\n",
        "from prettytable import PrettyTable\n",
        "from time import time\n",
        "from sklearn.metrics import classification_report, roc_auc_score, roc_curve, confusion_matrix"
      ],
      "metadata": {
        "id": "z8JWJnA6ld_p"
      },
      "execution_count": null,
      "outputs": []
    },
    {
      "cell_type": "code",
      "source": [
        "loss_history_train = []\n",
        "loss_history_val = []\n",
        "\n",
        "min_acc = 0\n",
        "\n",
        "# 모델 GPU 메모리에 올리기\n",
        "model = model.to(device)\n",
        "\n",
        "# Best 모델 초기화\n",
        "model_best = copy.deepcopy(model)\n",
        "\n",
        "# 결과 정리를 위한 PrettyTable\n",
        "valid_metric_record = []\n",
        "valid_metric_header = [\"# epoch\"]\n",
        "valid_metric_header.extend([\"Accuracy\", \"sensitivity\", \"specificity\", \"roc_score\"])\n",
        "table = PrettyTable(valid_metric_header)\n",
        "\n",
        "float2str = lambda x:'%0.4f'%x # float 소숫점 4자리까지만 str로 바꾸기\n",
        "\n",
        "# 학습 진행\n",
        "print('--- Go for Training ---')\n",
        "# 학습 시작 시간 기록\n",
        "t_start = time()\n",
        "\n",
        "for epo in range(train_epoch):\n",
        "    # Model training\n",
        "    model.train()\n",
        "\n",
        "    # Mini-batch 학습\n",
        "    for i, (v_d, label) in enumerate(train_loader):\n",
        "        # input data gpu에 올리기\n",
        "        v_d = v_d.float().to(device)\n",
        "        # forward-pass\n",
        "        output = model(v_d)\n",
        "\n",
        "        # 미리 정의한 손실함수(MSE)로 손실(loss) 계산\n",
        "        loss = loss_fn(output, label.to(device))\n",
        "\n",
        "        # 각 iteration 마다 loss 기록\n",
        "        loss_history_train.append(loss.item())\n",
        "\n",
        "        # gradient 초기화\n",
        "        opt.zero_grad()\n",
        "        # back propagation\n",
        "        loss.backward()\n",
        "        # parameter update\n",
        "        opt.step()\n",
        "\n",
        "    # gradient tracking X\n",
        "    with torch.set_grad_enabled(False):\n",
        "\n",
        "        y_pred = []\n",
        "        y_score = []\n",
        "        y_label = []\n",
        "        # model validation\n",
        "        model.eval()\n",
        "\n",
        "        for i, (v_d, label) in enumerate(valid_loader):\n",
        "            # input data gpu에 올리기\n",
        "            v_d = v_d.float().to(device)\n",
        "            # forward-pass\n",
        "            output = model(v_d)\n",
        "\n",
        "            # 미리 정의한 손실함수(MSE)로 손실(loss) 계산\n",
        "            loss = loss_fn(output, label.to(device))\n",
        "\n",
        "            # 각 iteration 마다 loss 기록\n",
        "            loss_history_val.append(loss.item())\n",
        "\n",
        "            pred = output.argmax(dim=1, keepdim=True)\n",
        "            score = nn.Softmax(dim = 1)(output)[:,1]\n",
        "\n",
        "            # \b예측값, 참값 cpu로 옮기고 numpy 형으로 변환\n",
        "            pred = pred.cpu().numpy()\n",
        "            score = score.cpu().numpy()\n",
        "            label = label.cpu().numpy()\n",
        "\n",
        "            # 예측값, 참값 기록하기\n",
        "            y_label = y_label + label.flatten().tolist()\n",
        "            y_pred = y_pred + pred.flatten().tolist()\n",
        "            y_score = y_score + score.flatten().tolist()\n",
        "\n",
        "    # metric 계산\n",
        "    classification_metrics = classification_report(y_label, y_pred,\n",
        "                        target_names = ['NonToxic', 'Toxic'],\n",
        "                        output_dict= True)\n",
        "\n",
        "    # sensitivity is the recall of the positive class\n",
        "    sensitivity = classification_metrics['Toxic']['recall']\n",
        "    # specificity is the recall of the negative class\n",
        "    specificity = classification_metrics['NonToxic']['recall']\n",
        "    # accuracy\n",
        "    accuracy = classification_metrics['accuracy']\n",
        "    # confusion matrix\n",
        "    conf_matrix = confusion_matrix(y_label, y_pred)\n",
        "    # roc score\n",
        "    roc_score = roc_auc_score(y_label, y_score)\n",
        "\n",
        "\n",
        "    # 계산한 metric 합치기\n",
        "    lst = [\"epoch \" + str(epo)] + list(map(float2str,[accuracy, sensitivity, specificity, roc_score]))\n",
        "\n",
        "    # 각 epoch 마다 결과값 pretty table에 기록\n",
        "    table.add_row(lst)\n",
        "    valid_metric_record.append(lst)\n",
        "\n",
        "    # mse 기준으로 best model 업데이트\n",
        "    if accuracy > min_acc:\n",
        "        # best model deepcopy\n",
        "        model_best = copy.deepcopy(model)\n",
        "        # max MSE 업데이트\n",
        "        min_acc = accuracy\n",
        "\n",
        "    # 각 epoch 마다 결과 출력\n",
        "    print('Validation at Epoch '+ str(epo + 1) + ' , Accuracy: ' + str(accuracy)[:7] + ' , sensitivity: '\\\n",
        "\t\t\t\t\t\t + str(sensitivity)[:7] + ', specificity: ' + str(f\"{specificity}\") +' , roc_score: '+str(roc_score)[:7])\n"
      ],
      "metadata": {
        "id": "u7aOXR3vE4QK",
        "colab": {
          "base_uri": "https://localhost:8080/"
        },
        "outputId": "2791f82c-e807-4f1e-8e0f-c854e30a2ac8"
      },
      "execution_count": null,
      "outputs": [
        {
          "output_type": "stream",
          "name": "stdout",
          "text": [
            "--- Go for Training ---\n",
            "Validation at Epoch 1 , Accuracy: 0.70325 , sensitivity: 0.0, specificity: 1.0 , roc_score: 0.77764\n",
            "Validation at Epoch 2 , Accuracy: 0.77777 , sensitivity: 0.36986, specificity: 0.9499036608863198 , roc_score: 0.82512\n",
            "Validation at Epoch 3 , Accuracy: 0.73441 , sensitivity: 0.74429, specificity: 0.7302504816955684 , roc_score: 0.84167\n",
            "Validation at Epoch 4 , Accuracy: 0.76287 , sensitivity: 0.75799, specificity: 0.7649325626204239 , roc_score: 0.84735\n",
            "Validation at Epoch 5 , Accuracy: 0.80081 , sensitivity: 0.64383, specificity: 0.8670520231213873 , roc_score: 0.84916\n",
            "Validation at Epoch 6 , Accuracy: 0.79945 , sensitivity: 0.58904, specificity: 0.8882466281310212 , roc_score: 0.84378\n",
            "Validation at Epoch 7 , Accuracy: 0.79132 , sensitivity: 0.64840, specificity: 0.8516377649325626 , roc_score: 0.84398\n",
            "Validation at Epoch 8 , Accuracy: 0.79268 , sensitivity: 0.67123, specificity: 0.8439306358381503 , roc_score: 0.84993\n",
            "Validation at Epoch 9 , Accuracy: 0.80894 , sensitivity: 0.67123, specificity: 0.8670520231213873 , roc_score: 0.84425\n",
            "Validation at Epoch 10 , Accuracy: 0.78997 , sensitivity: 0.65753, specificity: 0.8458574181117534 , roc_score: 0.84141\n",
            "Validation at Epoch 11 , Accuracy: 0.79810 , sensitivity: 0.63926, specificity: 0.8651252408477842 , roc_score: 0.84126\n",
            "Validation at Epoch 12 , Accuracy: 0.79810 , sensitivity: 0.62557, specificity: 0.8709055876685935 , roc_score: 0.84292\n",
            "Validation at Epoch 13 , Accuracy: 0.78726 , sensitivity: 0.67579, specificity: 0.8342967244701349 , roc_score: 0.84065\n",
            "Validation at Epoch 14 , Accuracy: 0.79674 , sensitivity: 0.59360, specificity: 0.882466281310212 , roc_score: 0.83961\n",
            "Validation at Epoch 15 , Accuracy: 0.80487 , sensitivity: 0.59360, specificity: 0.8940269749518305 , roc_score: 0.84248\n",
            "Validation at Epoch 16 , Accuracy: 0.79810 , sensitivity: 0.61643, specificity: 0.8747591522157996 , roc_score: 0.84166\n",
            "Validation at Epoch 17 , Accuracy: 0.79403 , sensitivity: 0.63470, specificity: 0.861271676300578 , roc_score: 0.84154\n",
            "Validation at Epoch 18 , Accuracy: 0.79674 , sensitivity: 0.58904, specificity: 0.884393063583815 , roc_score: 0.83902\n",
            "Validation at Epoch 19 , Accuracy: 0.79132 , sensitivity: 0.62100, specificity: 0.8631984585741811 , roc_score: 0.83770\n",
            "Validation at Epoch 20 , Accuracy: 0.79945 , sensitivity: 0.58904, specificity: 0.8882466281310212 , roc_score: 0.84119\n",
            "Validation at Epoch 21 , Accuracy: 0.79539 , sensitivity: 0.65753, specificity: 0.8535645472061657 , roc_score: 0.84258\n",
            "Validation at Epoch 22 , Accuracy: 0.80081 , sensitivity: 0.59817, specificity: 0.8863198458574181 , roc_score: 0.84339\n",
            "Validation at Epoch 23 , Accuracy: 0.79674 , sensitivity: 0.65296, specificity: 0.8574181117533719 , roc_score: 0.83891\n",
            "Validation at Epoch 24 , Accuracy: 0.79945 , sensitivity: 0.67579, specificity: 0.8516377649325626 , roc_score: 0.84524\n",
            "Validation at Epoch 25 , Accuracy: 0.79810 , sensitivity: 0.68036, specificity: 0.8477842003853564 , roc_score: 0.84203\n",
            "Validation at Epoch 26 , Accuracy: 0.78455 , sensitivity: 0.66666, specificity: 0.8342967244701349 , roc_score: 0.83862\n",
            "Validation at Epoch 27 , Accuracy: 0.79539 , sensitivity: 0.62557, specificity: 0.8670520231213873 , roc_score: 0.84261\n",
            "Validation at Epoch 28 , Accuracy: 0.80216 , sensitivity: 0.63926, specificity: 0.8709055876685935 , roc_score: 0.84023\n",
            "Validation at Epoch 29 , Accuracy: 0.79539 , sensitivity: 0.65753, specificity: 0.8535645472061657 , roc_score: 0.84496\n",
            "Validation at Epoch 30 , Accuracy: 0.79403 , sensitivity: 0.63470, specificity: 0.861271676300578 , roc_score: 0.84452\n",
            "Validation at Epoch 31 , Accuracy: 0.80216 , sensitivity: 0.61643, specificity: 0.8805394990366089 , roc_score: 0.84111\n",
            "Validation at Epoch 32 , Accuracy: 0.79539 , sensitivity: 0.64383, specificity: 0.859344894026975 , roc_score: 0.84103\n",
            "Validation at Epoch 33 , Accuracy: 0.78319 , sensitivity: 0.66210, specificity: 0.8342967244701349 , roc_score: 0.83955\n",
            "Validation at Epoch 34 , Accuracy: 0.80216 , sensitivity: 0.58904, specificity: 0.8921001926782274 , roc_score: 0.84367\n",
            "Validation at Epoch 35 , Accuracy: 0.78861 , sensitivity: 0.69406, specificity: 0.8285163776493256 , roc_score: 0.83841\n",
            "Validation at Epoch 36 , Accuracy: 0.79810 , sensitivity: 0.60730, specificity: 0.8786127167630058 , roc_score: 0.83784\n",
            "Validation at Epoch 37 , Accuracy: 0.78861 , sensitivity: 0.68493, specificity: 0.8323699421965318 , roc_score: 0.83629\n",
            "Validation at Epoch 38 , Accuracy: 0.80758 , sensitivity: 0.61643, specificity: 0.8882466281310212 , roc_score: 0.83944\n",
            "Validation at Epoch 39 , Accuracy: 0.79268 , sensitivity: 0.67579, specificity: 0.8420038535645472 , roc_score: 0.83748\n",
            "Validation at Epoch 40 , Accuracy: 0.80216 , sensitivity: 0.65296, specificity: 0.8651252408477842 , roc_score: 0.84085\n",
            "Validation at Epoch 41 , Accuracy: 0.79539 , sensitivity: 0.63926, specificity: 0.861271676300578 , roc_score: 0.83724\n",
            "Validation at Epoch 42 , Accuracy: 0.79945 , sensitivity: 0.61643, specificity: 0.8766859344894027 , roc_score: 0.83872\n",
            "Validation at Epoch 43 , Accuracy: 0.79674 , sensitivity: 0.63470, specificity: 0.8651252408477842 , roc_score: 0.83692\n",
            "Validation at Epoch 44 , Accuracy: 0.78726 , sensitivity: 0.68493, specificity: 0.8304431599229287 , roc_score: 0.83649\n",
            "Validation at Epoch 45 , Accuracy: 0.79810 , sensitivity: 0.57534, specificity: 0.8921001926782274 , roc_score: 0.83335\n",
            "Validation at Epoch 46 , Accuracy: 0.79132 , sensitivity: 0.65753, specificity: 0.8477842003853564 , roc_score: 0.83733\n",
            "Validation at Epoch 47 , Accuracy: 0.79132 , sensitivity: 0.62100, specificity: 0.8631984585741811 , roc_score: 0.83567\n",
            "Validation at Epoch 48 , Accuracy: 0.78319 , sensitivity: 0.66210, specificity: 0.8342967244701349 , roc_score: 0.83866\n",
            "Validation at Epoch 49 , Accuracy: 0.79403 , sensitivity: 0.61187, specificity: 0.8709055876685935 , roc_score: 0.83841\n",
            "Validation at Epoch 50 , Accuracy: 0.77642 , sensitivity: 0.68949, specificity: 0.8131021194605009 , roc_score: 0.83756\n"
          ]
        }
      ]
    },
    {
      "cell_type": "code",
      "source": [],
      "metadata": {
        "id": "D4pIab38Fg0g"
      },
      "execution_count": null,
      "outputs": []
    },
    {
      "cell_type": "code",
      "source": [],
      "metadata": {
        "id": "-nFA8g-FMvFn"
      },
      "execution_count": null,
      "outputs": []
    },
    {
      "cell_type": "markdown",
      "source": [
        "# 모델 테스트 진행 (model testing)\n"
      ],
      "metadata": {
        "id": "MbcdX0ifLYbQ"
      }
    },
    {
      "cell_type": "code",
      "source": [
        "# 테스트 진행\n",
        "\n",
        "model = model_best\n",
        "\n",
        "y_pred = []\n",
        "y_label = []\n",
        "y_score = []\n",
        "\n",
        "model.eval()\n",
        "for i, (v_d, label) in enumerate(valid_loader):\n",
        "    # input data gpu에 올리기\n",
        "    v_d = v_d.float().to(device)\n",
        "\n",
        "    with torch.set_grad_enabled(False):\n",
        "        # forward-pass\n",
        "        output = model(v_d)\n",
        "\n",
        "        # 미리 정의한 손실함수(MSE)로 손실(loss) 계산\n",
        "        loss = loss_fn(output, label.to(device))\n",
        "\n",
        "        # 각 iteration 마다 loss 기록\n",
        "        loss_history_val.append(loss.item())\n",
        "\n",
        "        pred = output.argmax(dim=1, keepdim=True)\n",
        "        score = nn.Softmax(dim = 1)(output)[:,1]\n",
        "\n",
        "        # \b예측값, 참값 cpu로 옮기고 numpy 형으로 변환\n",
        "        pred = pred.cpu().numpy()\n",
        "        score = score.cpu().numpy()\n",
        "        label = label.cpu().numpy()\n",
        "\n",
        "    # 예측값, 참값 기록하기\n",
        "    y_label = y_label + label.flatten().tolist()\n",
        "    y_pred = y_pred + pred.flatten().tolist()\n",
        "    y_score = y_score + score.flatten().tolist()\n",
        "\n",
        "# metric 계산\n",
        "classification_metrics = classification_report(y_label, y_pred,\n",
        "                    target_names = ['NonToxic', 'Toxic'],\n",
        "                    output_dict= True)\n",
        "# sensitivity is the recall of the positive class\n",
        "sensitivity = classification_metrics['Toxic']['recall']\n",
        "# specificity is the recall of the negative class\n",
        "specificity = classification_metrics['NonToxic']['recall']\n",
        "# accuracy\n",
        "accuracy = classification_metrics['accuracy']\n",
        "# confusion matrix\n",
        "conf_matrix = confusion_matrix(y_label, y_pred)\n",
        "# roc score\n",
        "roc_score = roc_auc_score(y_label, y_score)\n",
        "\n",
        "# 각 epoch 마다 결과 출력\n",
        "print('Validation at Epoch '+ str(epo + 1) + ' , Accuracy: ' + str(accuracy)[:7] + ' , sensitivity: '\\\n",
        "                        + str(sensitivity)[:7] + ' specificity: ' + str(f\"{specificity}\") +' , roc_score: '+str(roc_score)[:7])\n"
      ],
      "metadata": {
        "id": "Os_0TcNSF9Fr",
        "colab": {
          "base_uri": "https://localhost:8080/"
        },
        "outputId": "6784494b-3a18-49e8-9b1d-afb601c9a800"
      },
      "execution_count": null,
      "outputs": [
        {
          "output_type": "stream",
          "name": "stdout",
          "text": [
            "Validation at Epoch 50 , Accuracy: 0.80894 , sensitivity: 0.67123 specificity: 0.8670520231213873 , roc_score: 0.84425\n"
          ]
        }
      ]
    },
    {
      "cell_type": "code",
      "source": [
        "import matplotlib.pyplot as plt"
      ],
      "metadata": {
        "id": "srPXY8An9ijL"
      },
      "execution_count": null,
      "outputs": []
    },
    {
      "cell_type": "code",
      "source": [
        "# plot the roc curve\n",
        "fpr, tpr, _ = roc_curve(y_label, y_score)\n",
        "plt.plot(fpr, tpr, label = \"Area under ROC = {:.4f}\".format(roc_score))\n",
        "plt.legend(loc = 'best')\n",
        "plt.xlabel('False Positive Rate')\n",
        "plt.ylabel('True Positive Rate')\n",
        "plt.show()"
      ],
      "metadata": {
        "colab": {
          "base_uri": "https://localhost:8080/",
          "height": 279
        },
        "id": "TCwNQ1bMO4W8",
        "outputId": "f3a782fa-0d43-412f-b94f-829f4566d63e"
      },
      "execution_count": null,
      "outputs": [
        {
          "output_type": "display_data",
          "data": {
            "text/plain": [
              "<Figure size 432x288 with 1 Axes>"
            ],
            "image/png": "[encoded data removed]"
          },
          "metadata": {
            "needs_background": "light"
          }
        }
      ]
    },
    {
      "cell_type": "code",
      "source": [
        "import seaborn as sns\n",
        "\n",
        "conf_matrix = conf_matrix\n",
        "ax= plt.subplot()\n",
        "sns.heatmap(conf_matrix, annot=True, ax = ax, cmap = 'Blues'); #annot=True to annotate cells\n",
        "\n",
        "# labels, title and ticks\n",
        "ax.set_xlabel('Predicted labels');ax.set_ylabel('True labels');\n",
        "ax.set_title('Confusion Matrix');\n",
        "ax.xaxis.set_ticklabels(['Toxic', 'NonToxic']); ax.yaxis.set_ticklabels(['Toxic', 'NonToxic']);"
      ],
      "metadata": {
        "colab": {
          "base_uri": "https://localhost:8080/",
          "height": 295
        },
        "id": "UE20pPW_3GF5",
        "outputId": "4a0187e3-68df-4c1a-8a5f-242c1fbba39d"
      },
      "execution_count": null,
      "outputs": [
        {
          "output_type": "display_data",
          "data": {
            "text/plain": [
              "<Figure size 432x288 with 2 Axes>"
            ],
            "image/png": "[encoded data removed]"
          },
          "metadata": {
            "needs_background": "light"
          }
        }
      ]
    }
  ]
}