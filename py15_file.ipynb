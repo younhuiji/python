{
  "nbformat": 4,
  "nbformat_minor": 0,
  "metadata": {
    "colab": {
      "provenance": [],
      "mount_file_id": "1lr6KFv5R5L3PpWnjOmOgy562DVe-BmO7",
      "authorship_tag": "ABX9TyMmlreApF8O41hyTqfF/44Z",
      "include_colab_link": true
    },
    "kernelspec": {
      "name": "python3",
      "display_name": "Python 3"
    },
    "language_info": {
      "name": "python"
    }
  },
  "cells": [
    {
      "cell_type": "markdown",
      "metadata": {
        "id": "view-in-github",
        "colab_type": "text"
      },
      "source": [
        "<a href=\"https://colab.research.google.com/github/younhuiji/python/blob/main/py15_file.ipynb\" target=\"_parent\"><img src=\"https://colab.research.google.com/assets/colab-badge.svg\" alt=\"Open In Colab\"/></a>"
      ]
    },
    {
      "cell_type": "markdown",
      "source": [
        "# 파일 쓰기(write)"
      ],
      "metadata": {
        "id": "POfcObHhuFz6"
      }
    },
    {
      "cell_type": "code",
      "execution_count": null,
      "metadata": {
        "id": "EMKctj8MtqhG"
      },
      "outputs": [],
      "source": [
        "# 1. 파일 텍스트 쓰기 모드로 열기\n",
        "f = open('test1.txt', mode='wt') # mode='w'와 동일\n",
        "\n",
        "# 2. 열린 파일에 내용을 작성.\n",
        "f.write('Hello, Python \\n')\n",
        "f.write('안녕하세요..\\n')\n",
        "f.write('12346 \\n')\n",
        "\n",
        "# 3. 파일 닫기.\n",
        "f.close()"
      ]
    },
    {
      "cell_type": "code",
      "source": [
        "# with ~ as ...구문 : 오픈된 리소스(파일)에서 close() 메서드를 자동으로 호출.\n",
        "with open('test2.txt', mode='w')as f:\n",
        "    f.write('안녕하세요...\\n')\n",
        "    f.write('Hello \\n')\n"
      ],
      "metadata": {
        "id": "e0MNFFi-2Vxg"
      },
      "execution_count": null,
      "outputs": []
    },
    {
      "cell_type": "markdown",
      "source": [
        "#파일 읽기"
      ],
      "metadata": {
        "id": "YOi3x7f93KDY"
      }
    },
    {
      "cell_type": "code",
      "source": [
        "with open('test1.txt', mode='rt')as f:\n",
        "    # mode='rt'가 기본값이기 때문에 생략 가능.\n",
        "    line = f.readline()\n",
        "    print(line.strip())\n",
        "    line = f.readline()\n",
        "    print(line.strip())\n",
        "    line = f.readline()\n",
        "    print(line.strip())\n"
      ],
      "metadata": {
        "colab": {
          "base_uri": "https://localhost:8080/"
        },
        "id": "3F0RWnTV3HqY",
        "outputId": "692f5a4e-21c2-41d2-9c1a-f55a1749fbfd"
      },
      "execution_count": null,
      "outputs": [
        {
          "output_type": "stream",
          "name": "stdout",
          "text": [
            "Hello, Python\n",
            "안녕하세요..\n",
            "12346\n"
          ]
        }
      ]
    },
    {
      "cell_type": "code",
      "source": [
        "with open('test1.txt')as f:\n",
        "    for line in f: # 파일의 처음부터 끝까지 readline() 자동으로 호출.\n",
        "        print(line.strip()) "
      ],
      "metadata": {
        "colab": {
          "base_uri": "https://localhost:8080/"
        },
        "id": "HzM-xDaC4woQ",
        "outputId": "1401e241-40ee-4a8e-e9bb-b175e05e304a"
      },
      "execution_count": null,
      "outputs": [
        {
          "output_type": "stream",
          "name": "stdout",
          "text": [
            "Hello, Python\n",
            "안녕하세요..\n",
            "12346\n"
          ]
        }
      ]
    },
    {
      "cell_type": "markdown",
      "source": [
        "* 지금까지 과정은 google colab에서 임대한 가상 머신의 하드디스크에서 파일을 읽고 쓰는 기능을 수행한 것.\n",
        "* google colab과 연결이 끊어진 후 재 연결(가상 머신 재할당)을 하면, 가상머신의 리소스(RAM, HDD, CPU)가 초기화됨."
      ],
      "metadata": {
        "id": "mvSv0eHa5dWg"
      }
    },
    {
      "cell_type": "markdown",
      "source": [
        "# Colab 가상 머신에서 구글 드라이브 연결(Mount)\n"
      ],
      "metadata": {
        "id": "7HxEn6k76iTP"
      }
    },
    {
      "cell_type": "code",
      "source": [
        "dir_path='/content/drive/MyDrive/Colab Notebooks/lab-python'\n",
        "file_name = 'emails.txt'"
      ],
      "metadata": {
        "id": "pcUHcxLE6nYF"
      },
      "execution_count": null,
      "outputs": []
    },
    {
      "cell_type": "code",
      "source": [
        "import os # os 모듈은 임포트 - os.path.join()  함수를 사용하기 위해서"
      ],
      "metadata": {
        "id": "BsKd-7PY8BpJ"
      },
      "execution_count": null,
      "outputs": []
    },
    {
      "cell_type": "code",
      "source": [
        "# os.path.join(): 폴더 경로 + 파일 구분자 + 파일 이름\n",
        "file_path = os.path.join(dir_path, file_name)\n",
        "file_path"
      ],
      "metadata": {
        "colab": {
          "base_uri": "https://localhost:8080/",
          "height": 35
        },
        "id": "c_Y94L7R8Igv",
        "outputId": "26099e22-27ee-4056-c941-6fced1bc7b44"
      },
      "execution_count": null,
      "outputs": [
        {
          "output_type": "execute_result",
          "data": {
            "text/plain": [
              "'/content/drive/MyDrive/Colab Notebooks/lab-python/emails.txt'"
            ],
            "application/vnd.google.colaboratory.intrinsic+json": {
              "type": "string"
            }
          },
          "metadata": {},
          "execution_count": 5
        }
      ]
    },
    {
      "cell_type": "code",
      "source": [
        "with open(file_path, mode='wt') as f:\n",
        "    f.write('admin@itwill.co.kr \\n')\n",
        "    f.write('itwill@itwill.co.ke \\n')\n",
        "    f.write('test@test.com \\n')"
      ],
      "metadata": {
        "id": "4cJgjXo_8rjO"
      },
      "execution_count": null,
      "outputs": []
    }
  ]
}